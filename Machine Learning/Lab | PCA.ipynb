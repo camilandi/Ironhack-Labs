{
 "cells": [
  {
   "cell_type": "markdown",
   "id": "9e923a8a",
   "metadata": {},
   "source": [
    "## Challenge 1 - Reading and Standardizing the Data\n",
    "In this challenge we will work with image data and reduce the dimensions of the data to create a 2 dimensional plot. While we have not worked much with image data before, it can be represented as a numpy array where each pixel is assigned a numeric value. In this lesson, we will look at a dataset of cats and a dataset of dogs and see whether reducing them to two dimensions allows us to see if the data is separable. We will start by loading and processing the data. Run the cell below to load the two csv files and convert them into numpy arrays."
   ]
  },
  {
   "cell_type": "code",
   "execution_count": 87,
   "id": "8a3eae9d",
   "metadata": {},
   "outputs": [],
   "source": [
    "# Run this code:\n",
    "\n",
    "%matplotlib inline\n",
    "\n",
    "import matplotlib.pyplot as plt\n",
    "import numpy as np\n",
    "import pandas as pd\n",
    "import seaborn as sns"
   ]
  },
  {
   "cell_type": "code",
   "execution_count": 6,
   "id": "258d6385",
   "metadata": {},
   "outputs": [],
   "source": [
    "cats = np.array(pd.read_csv(\"https://raw.githubusercontent.com/bioramble/pca/master/cat.csv\", header=None))\n",
    "dogs = np.array(pd.read_csv(\"https://raw.githubusercontent.com/bioramble/pca/master/dog.csv\", header=None))"
   ]
  },
  {
   "cell_type": "markdown",
   "id": "da20bda4",
   "metadata": {},
   "source": [
    "Next, we'll examine the shape of both the cats and the dogs arrays. Print out both shapes below.\n",
    "\n"
   ]
  },
  {
   "cell_type": "code",
   "execution_count": 9,
   "id": "38d7600d",
   "metadata": {},
   "outputs": [
    {
     "data": {
      "text/plain": [
       "(4096, 80)"
      ]
     },
     "execution_count": 9,
     "metadata": {},
     "output_type": "execute_result"
    }
   ],
   "source": [
    "cats.shape"
   ]
  },
  {
   "cell_type": "code",
   "execution_count": 10,
   "id": "8482dea5",
   "metadata": {},
   "outputs": [
    {
     "data": {
      "text/plain": [
       "(4096, 80)"
      ]
     },
     "execution_count": 10,
     "metadata": {},
     "output_type": "execute_result"
    }
   ],
   "source": [
    "dogs.shape"
   ]
  },
  {
   "cell_type": "markdown",
   "id": "f8c145bb",
   "metadata": {},
   "source": [
    "What this means is that both arrays contain 80 images each (the number of columns). Each image is comprised of 64x64 pixels (so a total of 4096 pixels per image). The images have been flattened such that all 4096 are in a single row.\n",
    "\n",
    "Print out column 0 of the cats array to see what the pixels values look like."
   ]
  },
  {
   "cell_type": "code",
   "execution_count": 31,
   "id": "6b69de52",
   "metadata": {},
   "outputs": [
    {
     "data": {
      "text/plain": [
       "array([ 64,  23, 250, 137,  55, 173,  18, 134,  19,  47, 109, 164,  41,\n",
       "        78, 108, 108, 247, 105, 158,  54, 103,   4,  23, 102, 239,  72,\n",
       "        42,  21, 168, 109, 112, 177,  22, 233,  15, 236, 250, 137,  32,\n",
       "         5, 178, 109,  24, 107,  53, 241, 226, 143,   5, 136,  98, 100,\n",
       "        89,  66, 228,  92, 255,  88, 230,  56, 160,  69,   6,  24, 195,\n",
       "       183, 239,  35, 154, 154, 122,  18,  87, 106, 174,  69,  28,  60,\n",
       "       223, 101])"
      ]
     },
     "execution_count": 31,
     "metadata": {},
     "output_type": "execute_result"
    }
   ],
   "source": [
    "cats[0]"
   ]
  },
  {
   "cell_type": "markdown",
   "id": "13822bb2",
   "metadata": {},
   "source": [
    "Using matplotlib we can plot a single cat or a single dog. We do this by reshaping the vector back to a 64x64 image and then using the imshow function.\n",
    "\n",
    "Run the code below to look at the first dog and the first cat."
   ]
  },
  {
   "cell_type": "code",
   "execution_count": 15,
   "id": "b2cde1e2",
   "metadata": {},
   "outputs": [
    {
     "data": {
      "text/plain": [
       "<matplotlib.image.AxesImage at 0x7ff21b335580>"
      ]
     },
     "execution_count": 15,
     "metadata": {},
     "output_type": "execute_result"
    },
    {
     "data": {
      "image/png": "[encoded data removed]",
      "text/plain": [
       "<Figure size 432x288 with 1 Axes>"
      ]
     },
     "metadata": {
      "needs_background": "light"
     },
     "output_type": "display_data"
    }
   ],
   "source": [
    "fig, ax = plt.subplots()\n",
    "ax.imshow(cats[:,0].reshape(64, 64).T, cmap=plt.cm.bone, interpolation='nearest') "
   ]
  },
  {
   "cell_type": "code",
   "execution_count": 16,
   "id": "7998c9d0",
   "metadata": {},
   "outputs": [
    {
     "data": {
      "text/plain": [
       "<matplotlib.image.AxesImage at 0x7ff21b36f9d0>"
      ]
     },
     "execution_count": 16,
     "metadata": {},
     "output_type": "execute_result"
    },
    {
     "data": {
      "image/png": "[encoded data removed]",
      "text/plain": [
       "<Figure size 432x288 with 1 Axes>"
      ]
     },
     "metadata": {
      "needs_background": "light"
     },
     "output_type": "display_data"
    }
   ],
   "source": [
    "\n",
    "fig, ax = plt.subplots()\n",
    "ax.imshow(dogs[:,0].reshape(64, 64).T, cmap=plt.cm.bone, interpolation='nearest') "
   ]
  },
  {
   "cell_type": "markdown",
   "id": "a38fbec3",
   "metadata": {},
   "source": [
    "Next, we would like to create a standardization function. This function will find the mean and standard deviation of each image. We subtract the mean from each pixel and divide each pixel by the standard deviation. Write the function below.\n",
    "\n",
    "Hint: To find the mean and standard deviation of each image, use numpy's version of mean and stadnard deviation and use axis=0."
   ]
  },
  {
   "cell_type": "code",
   "execution_count": 27,
   "id": "d7332525",
   "metadata": {},
   "outputs": [],
   "source": [
    "def standardize(x):\n",
    "    mean=np.mean(x, axis=0)\n",
    "    std=np.std(x,axis=0)\n",
    "    result = (np.array(x)-mean)/std\n",
    "    return result\n",
    "    "
   ]
  },
  {
   "cell_type": "code",
   "execution_count": 32,
   "id": "0529c198",
   "metadata": {},
   "outputs": [],
   "source": [
    "catss=standardize(cats)"
   ]
  },
  {
   "cell_type": "code",
   "execution_count": 40,
   "id": "3c7680c1",
   "metadata": {},
   "outputs": [],
   "source": [
    "dogss=standardize(dogs)"
   ]
  },
  {
   "cell_type": "markdown",
   "id": "51787517",
   "metadata": {},
   "source": [
    "Now, use the np.concatenate function to combine the cats and dogs arrays. Use axis=1 to combine the two correctly. Make sure to put dogs first.\n",
    "\n"
   ]
  },
  {
   "cell_type": "code",
   "execution_count": 43,
   "id": "42716bc7",
   "metadata": {
    "scrolled": true
   },
   "outputs": [],
   "source": [
    "catsdogs=np.concatenate((dogss,catss), axis=1)"
   ]
  },
  {
   "cell_type": "markdown",
   "id": "40aaded9",
   "metadata": {},
   "source": [
    "Standardize the concatenated array below.\n",
    "\n"
   ]
  },
  {
   "cell_type": "code",
   "execution_count": 47,
   "id": "016e6057",
   "metadata": {},
   "outputs": [
    {
     "data": {
      "text/plain": [
       "array([[ 2.37662907, -0.30753004,  0.93254857, ..., -1.80817356,\n",
       "         1.42293481, -0.20363951],\n",
       "       [ 2.37662907, -0.40500299,  1.15681724, ..., -2.06459792,\n",
       "         1.44036713, -0.05437635],\n",
       "       [ 2.37662907, -0.68349716,  0.93254857, ..., -1.73124626,\n",
       "         1.45779946, -0.07925354],\n",
       "       ...,\n",
       "       [ 0.22755315, -0.68349716,  0.63352369, ..., -0.65426398,\n",
       "         0.67334483,  0.11976401],\n",
       "       [ 0.22755315, -0.40500299,  0.35941754, ..., -0.32091232,\n",
       "         0.70820948, -0.45241144],\n",
       "       [ 0.22755315, -0.40500299,  0.35941754, ..., -0.67990641,\n",
       "         0.62104786,  0.09488681]])"
      ]
     },
     "execution_count": 47,
     "metadata": {},
     "output_type": "execute_result"
    }
   ],
   "source": [
    "standardize(catsdogs)"
   ]
  },
  {
   "cell_type": "markdown",
   "id": "f72990a8",
   "metadata": {},
   "source": [
    "Challenge 2 - Using PCA\n",
    "Now that we have created a standardized matrix of cats and dogs, we'll find the two most important components in the data.\n",
    "\n",
    "Load the PCA function from statsmodels (read about this function here) and apply the function to our standarized data. Create a PCA model with two components."
   ]
  },
  {
   "cell_type": "code",
   "execution_count": 69,
   "id": "84d13305",
   "metadata": {},
   "outputs": [],
   "source": [
    "from sklearn.preprocessing import StandardScaler\n",
    "from sklearn.decomposition import PCA"
   ]
  },
  {
   "cell_type": "code",
   "execution_count": 71,
   "id": "252d9f46",
   "metadata": {},
   "outputs": [
    {
     "data": {
      "text/plain": [
       "array([[10.05797014, -9.71855526],\n",
       "       [10.2044459 , -9.43043187],\n",
       "       [10.21546543, -9.60424277],\n",
       "       ...,\n",
       "       [ 1.7894363 , -3.1528616 ],\n",
       "       [ 1.55785251, -3.08694402],\n",
       "       [ 1.29789366, -3.19830385]])"
      ]
     },
     "execution_count": 71,
     "metadata": {},
     "output_type": "execute_result"
    }
   ],
   "source": [
    "pca = PCA(n_components=2)\n",
    "pca.fit(catsdogs)\n",
    "pets = pca.transform(catsdogs)\n",
    "pets"
   ]
  },
  {
   "cell_type": "markdown",
   "id": "e1f48f2e",
   "metadata": {},
   "source": [
    "Use numpy to find to transpose the standardized pet array. This will help us compute the projection.\n",
    "\n"
   ]
  },
  {
   "cell_type": "code",
   "execution_count": 74,
   "id": "a8d12740",
   "metadata": {},
   "outputs": [],
   "source": [
    "trans=np.transpose(pets)"
   ]
  },
  {
   "cell_type": "code",
   "execution_count": 77,
   "id": "0db95e98",
   "metadata": {},
   "outputs": [
    {
     "data": {
      "text/plain": [
       "array([[10.05797014, 10.2044459 , 10.21546543, ...,  1.7894363 ,\n",
       "         1.55785251,  1.29789366],\n",
       "       [-9.71855526, -9.43043187, -9.60424277, ..., -3.1528616 ,\n",
       "        -3.08694402, -3.19830385]])"
      ]
     },
     "execution_count": 77,
     "metadata": {},
     "output_type": "execute_result"
    }
   ],
   "source": [
    "trans"
   ]
  },
  {
   "cell_type": "markdown",
   "id": "de369e1d",
   "metadata": {},
   "source": [
    "Find the dot product of the transposed standardized pet matrix and the factors of the PCA model found above. This will be the projection onto 2 dimensions. This means that each cat and dog image will now only have two columns instead of 4096."
   ]
  },
  {
   "cell_type": "code",
   "execution_count": 78,
   "id": "5ced98e3",
   "metadata": {},
   "outputs": [
    {
     "data": {
      "text/plain": [
       "(2, 160)"
      ]
     },
     "execution_count": 78,
     "metadata": {},
     "output_type": "execute_result"
    }
   ],
   "source": [
    "dotprod = np.dot(trans, catsdogs)\n",
    "dotprod.shape"
   ]
  },
  {
   "cell_type": "code",
   "execution_count": 80,
   "id": "b0e57b38",
   "metadata": {},
   "outputs": [],
   "source": [
    "finaldata=dotprod.transpose()"
   ]
  },
  {
   "cell_type": "code",
   "execution_count": 81,
   "id": "bbae6e1b",
   "metadata": {},
   "outputs": [
    {
     "data": {
      "text/plain": [
       "(160, 2)"
      ]
     },
     "execution_count": 81,
     "metadata": {},
     "output_type": "execute_result"
    }
   ],
   "source": [
    "finaldata.shape"
   ]
  },
  {
   "cell_type": "markdown",
   "id": "e8ff3915",
   "metadata": {},
   "source": [
    "## Challenge 3 - Plotting the Data\n",
    "Now that we have reduced our cats and dogs arrays, we can easily plot the data in a way that the human eye can understand. We can look at this plot to see whether there are differences between the cat and dog images.\n",
    "\n",
    "In the cell below, turn the two dimensional projection into a pandas dataframe and name the columns pc1, and pc2 respectively."
   ]
  },
  {
   "cell_type": "code",
   "execution_count": 82,
   "id": "9b96d4aa",
   "metadata": {},
   "outputs": [
    {
     "data": {
      "text/html": [
       "<div>\n",
       "<style scoped>\n",
       "    .dataframe tbody tr th:only-of-type {\n",
       "        vertical-align: middle;\n",
       "    }\n",
       "\n",
       "    .dataframe tbody tr th {\n",
       "        vertical-align: top;\n",
       "    }\n",
       "\n",
       "    .dataframe thead th {\n",
       "        text-align: right;\n",
       "    }\n",
       "</style>\n",
       "<table border=\"1\" class=\"dataframe\">\n",
       "  <thead>\n",
       "    <tr style=\"text-align: right;\">\n",
       "      <th></th>\n",
       "      <th>pc1</th>\n",
       "      <th>pc2</th>\n",
       "    </tr>\n",
       "  </thead>\n",
       "  <tbody>\n",
       "    <tr>\n",
       "      <th>0</th>\n",
       "      <td>14348.514048</td>\n",
       "      <td>-3981.259109</td>\n",
       "    </tr>\n",
       "    <tr>\n",
       "      <th>1</th>\n",
       "      <td>10873.022728</td>\n",
       "      <td>5211.509355</td>\n",
       "    </tr>\n",
       "    <tr>\n",
       "      <th>2</th>\n",
       "      <td>-4378.848112</td>\n",
       "      <td>4874.922973</td>\n",
       "    </tr>\n",
       "    <tr>\n",
       "      <th>3</th>\n",
       "      <td>1717.007474</td>\n",
       "      <td>8914.441494</td>\n",
       "    </tr>\n",
       "    <tr>\n",
       "      <th>4</th>\n",
       "      <td>11101.884059</td>\n",
       "      <td>-1114.369572</td>\n",
       "    </tr>\n",
       "  </tbody>\n",
       "</table>\n",
       "</div>"
      ],
      "text/plain": [
       "            pc1          pc2\n",
       "0  14348.514048 -3981.259109\n",
       "1  10873.022728  5211.509355\n",
       "2  -4378.848112  4874.922973\n",
       "3   1717.007474  8914.441494\n",
       "4  11101.884059 -1114.369572"
      ]
     },
     "execution_count": 82,
     "metadata": {},
     "output_type": "execute_result"
    }
   ],
   "source": [
    "df_pets = pd.DataFrame(finaldata, columns=['pc1', 'pc2'])\n",
    "df_pets.head()"
   ]
  },
  {
   "cell_type": "markdown",
   "id": "b4ade9eb",
   "metadata": {},
   "source": [
    "Create a labels list. This list will be of size 160. The first 80 elements in the list will be the word blue, and the last 80 elements will be red. This will ensure that all dog observations will be colored in blue and all cats will be colored in red. Name this list colors."
   ]
  },
  {
   "cell_type": "code",
   "execution_count": 85,
   "id": "d5a96e74",
   "metadata": {},
   "outputs": [],
   "source": [
    "colors=[]\n",
    "for i in range(160):\n",
    "    if i < 80:\n",
    "        colors.append('blue')\n",
    "    else:\n",
    "        colors.append('red')"
   ]
  },
  {
   "cell_type": "markdown",
   "id": "99d9f305",
   "metadata": {},
   "source": [
    "Create a scatter plot of pc1 and pc2 below. Use the colors list above to color the observations by setting c=colors."
   ]
  },
  {
   "cell_type": "code",
   "execution_count": 89,
   "id": "3287a20e",
   "metadata": {},
   "outputs": [
    {
     "name": "stderr",
     "output_type": "stream",
     "text": [
      "/Users/camila/opt/anaconda3/lib/python3.9/site-packages/seaborn/_decorators.py:36: FutureWarning: Pass the following variables as keyword args: x, y. From version 0.12, the only valid positional argument will be `data`, and passing other arguments without an explicit keyword will result in an error or misinterpretation.\n",
      "  warnings.warn(\n"
     ]
    },
    {
     "data": {
      "text/plain": [
       "<AxesSubplot:xlabel='pc1', ylabel='pc2'>"
      ]
     },
     "execution_count": 89,
     "metadata": {},
     "output_type": "execute_result"
    },
    {
     "data": {
      "image/png": "[encoded data removed]",
      "text/plain": [
       "<Figure size 432x288 with 1 Axes>"
      ]
     },
     "metadata": {
      "needs_background": "light"
     },
     "output_type": "display_data"
    }
   ],
   "source": [
    "sns.scatterplot(df_pets['pc1'],df_pets['pc2'],c=colors)"
   ]
  },
  {
   "cell_type": "code",
   "execution_count": 94,
   "id": "a78621d4",
   "metadata": {},
   "outputs": [
    {
     "data": {
      "image/png": "[encoded data removed]",
      "text/plain": [
       "<Figure size 576x432 with 1 Axes>"
      ]
     },
     "metadata": {
      "needs_background": "light"
     },
     "output_type": "display_data"
    }
   ],
   "source": [
    "plt.figure(figsize=(8, 6))\n",
    "\n",
    "plt.scatter(df_pets['pc1'], df_pets['pc2'], c=colors)\n",
    "plt.show()"
   ]
  }
 ],
 "metadata": {
  "kernelspec": {
   "display_name": "Python 3 (ipykernel)",
   "language": "python",
   "name": "python3"
  },
  "language_info": {
   "codemirror_mode": {
    "name": "ipython",
    "version": 3
   },
   "file_extension": ".py",
   "mimetype": "text/x-python",
   "name": "python",
   "nbconvert_exporter": "python",
   "pygments_lexer": "ipython3",
   "version": "3.9.12"
  }
 },
 "nbformat": 4,
 "nbformat_minor": 5
}
