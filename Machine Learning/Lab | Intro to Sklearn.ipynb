{
 "cells": [
  {
   "cell_type": "code",
   "execution_count": 1,
   "id": "3572704c",
   "metadata": {},
   "outputs": [],
   "source": [
    "import pandas as pd\n",
    "import numpy as np\n",
    "import scipy\n",
    "import seaborn as sns\n",
    "import matplotlib.pyplot as plt \n",
    "%matplotlib inline\n",
    "from sklearn.linear_model import LinearRegression\n",
    "from sklearn.linear_model import LogisticRegression\n",
    "from sklearn.neighbors import KNeighborsRegressor\n",
    "from sklearn.tree import DecisionTreeRegressor\n",
    "from sklearn.neighbors import KNeighborsClassifier\n",
    "from sklearn.neural_network import MLPClassifier\n",
    "from sklearn import svm\n",
    "from sklearn.metrics import r2_score\n",
    "from sklearn.metrics import f1_score\n",
    "from sklearn.metrics import roc_curve\n",
    "from sklearn.metrics import mean_squared_error, mean_absolute_error\n",
    "from sklearn.metrics import accuracy_score\n",
    "from sklearn.metrics import balanced_accuracy_score\n",
    "from sklearn.metrics import precision_score\n",
    "from sklearn.metrics import recall_score\n",
    "from sklearn.metrics import plot_confusion_matrix, accuracy_score, confusion_matrix\n",
    "from sklearn.model_selection import train_test_split\n",
    "from sklearn.preprocessing import StandardScaler, OneHotEncoder\n",
    "from sklearn.feature_selection import RFE\n",
    "from sklearn.preprocessing import RobustScaler\n",
    "from sklearn.decomposition import PCA, NMF\n",
    "from pandas import qcut, cut\n",
    "from sklearn.preprocessing import KBinsDiscretizer\n",
    "from datetime import datetime as dt"
   ]
  },
  {
   "cell_type": "markdown",
   "id": "6f7188c7",
   "metadata": {},
   "source": [
    "## Challenge 1 - Explore the Scikit-Learn Datasets\n",
    "Before starting to work on our own datasets, let's first explore the datasets that are included in this Python library. These datasets have been cleaned and formatted for use in ML algorithms.\n",
    "\n",
    "First, we will load the diabetes dataset. Do this in the cell below by importing the datasets and then loading the dataset to the diabetes variable using the load_diabetes() function."
   ]
  },
  {
   "cell_type": "code",
   "execution_count": 2,
   "id": "0f5b4670",
   "metadata": {},
   "outputs": [],
   "source": [
    "from sklearn.datasets import load_diabetes\n",
    "from sklearn.model_selection import train_test_split\n",
    "\n",
    "import pandas as pd\n",
    "import numpy as np\n",
    "\n",
    "import statsmodels.api as sm"
   ]
  },
  {
   "cell_type": "code",
   "execution_count": 3,
   "id": "7a754b95",
   "metadata": {},
   "outputs": [],
   "source": [
    "diabetes = load_diabetes()\n"
   ]
  },
  {
   "cell_type": "markdown",
   "id": "2200e3e3",
   "metadata": {},
   "source": [
    "First, we will load the diabetes dataset. Do this in the cell below by importing the datasets and then loading the dataset to the diabetes variable using the load_diabetes() function.\n",
    "\n"
   ]
  },
  {
   "cell_type": "code",
   "execution_count": 4,
   "id": "27375351",
   "metadata": {},
   "outputs": [
    {
     "data": {
      "text/plain": [
       "{'data': array([[ 0.03807591,  0.05068012,  0.06169621, ..., -0.00259226,\n",
       "          0.01990842, -0.01764613],\n",
       "        [-0.00188202, -0.04464164, -0.05147406, ..., -0.03949338,\n",
       "         -0.06832974, -0.09220405],\n",
       "        [ 0.08529891,  0.05068012,  0.04445121, ..., -0.00259226,\n",
       "          0.00286377, -0.02593034],\n",
       "        ...,\n",
       "        [ 0.04170844,  0.05068012, -0.01590626, ..., -0.01107952,\n",
       "         -0.04687948,  0.01549073],\n",
       "        [-0.04547248, -0.04464164,  0.03906215, ...,  0.02655962,\n",
       "          0.04452837, -0.02593034],\n",
       "        [-0.04547248, -0.04464164, -0.0730303 , ..., -0.03949338,\n",
       "         -0.00421986,  0.00306441]]),\n",
       " 'target': array([151.,  75., 141., 206., 135.,  97., 138.,  63., 110., 310., 101.,\n",
       "         69., 179., 185., 118., 171., 166., 144.,  97., 168.,  68.,  49.,\n",
       "         68., 245., 184., 202., 137.,  85., 131., 283., 129.,  59., 341.,\n",
       "         87.,  65., 102., 265., 276., 252.,  90., 100.,  55.,  61.,  92.,\n",
       "        259.,  53., 190., 142.,  75., 142., 155., 225.,  59., 104., 182.,\n",
       "        128.,  52.,  37., 170., 170.,  61., 144.,  52., 128.,  71., 163.,\n",
       "        150.,  97., 160., 178.,  48., 270., 202., 111.,  85.,  42., 170.,\n",
       "        200., 252., 113., 143.,  51.,  52., 210.,  65., 141.,  55., 134.,\n",
       "         42., 111.,  98., 164.,  48.,  96.,  90., 162., 150., 279.,  92.,\n",
       "         83., 128., 102., 302., 198.,  95.,  53., 134., 144., 232.,  81.,\n",
       "        104.,  59., 246., 297., 258., 229., 275., 281., 179., 200., 200.,\n",
       "        173., 180.,  84., 121., 161.,  99., 109., 115., 268., 274., 158.,\n",
       "        107.,  83., 103., 272.,  85., 280., 336., 281., 118., 317., 235.,\n",
       "         60., 174., 259., 178., 128.,  96., 126., 288.,  88., 292.,  71.,\n",
       "        197., 186.,  25.,  84.,  96., 195.,  53., 217., 172., 131., 214.,\n",
       "         59.,  70., 220., 268., 152.,  47.,  74., 295., 101., 151., 127.,\n",
       "        237., 225.,  81., 151., 107.,  64., 138., 185., 265., 101., 137.,\n",
       "        143., 141.,  79., 292., 178.,  91., 116.,  86., 122.,  72., 129.,\n",
       "        142.,  90., 158.,  39., 196., 222., 277.,  99., 196., 202., 155.,\n",
       "         77., 191.,  70.,  73.,  49.,  65., 263., 248., 296., 214., 185.,\n",
       "         78.,  93., 252., 150.,  77., 208.,  77., 108., 160.,  53., 220.,\n",
       "        154., 259.,  90., 246., 124.,  67.,  72., 257., 262., 275., 177.,\n",
       "         71.,  47., 187., 125.,  78.,  51., 258., 215., 303., 243.,  91.,\n",
       "        150., 310., 153., 346.,  63.,  89.,  50.,  39., 103., 308., 116.,\n",
       "        145.,  74.,  45., 115., 264.,  87., 202., 127., 182., 241.,  66.,\n",
       "         94., 283.,  64., 102., 200., 265.,  94., 230., 181., 156., 233.,\n",
       "         60., 219.,  80.,  68., 332., 248.,  84., 200.,  55.,  85.,  89.,\n",
       "         31., 129.,  83., 275.,  65., 198., 236., 253., 124.,  44., 172.,\n",
       "        114., 142., 109., 180., 144., 163., 147.,  97., 220., 190., 109.,\n",
       "        191., 122., 230., 242., 248., 249., 192., 131., 237.,  78., 135.,\n",
       "        244., 199., 270., 164.,  72.,  96., 306.,  91., 214.,  95., 216.,\n",
       "        263., 178., 113., 200., 139., 139.,  88., 148.,  88., 243.,  71.,\n",
       "         77., 109., 272.,  60.,  54., 221.,  90., 311., 281., 182., 321.,\n",
       "         58., 262., 206., 233., 242., 123., 167.,  63., 197.,  71., 168.,\n",
       "        140., 217., 121., 235., 245.,  40.,  52., 104., 132.,  88.,  69.,\n",
       "        219.,  72., 201., 110.,  51., 277.,  63., 118.,  69., 273., 258.,\n",
       "         43., 198., 242., 232., 175.,  93., 168., 275., 293., 281.,  72.,\n",
       "        140., 189., 181., 209., 136., 261., 113., 131., 174., 257.,  55.,\n",
       "         84.,  42., 146., 212., 233.,  91., 111., 152., 120.,  67., 310.,\n",
       "         94., 183.,  66., 173.,  72.,  49.,  64.,  48., 178., 104., 132.,\n",
       "        220.,  57.]),\n",
       " 'frame': None,\n",
       " 'DESCR': '.. _diabetes_dataset:\\n\\nDiabetes dataset\\n----------------\\n\\nTen baseline variables, age, sex, body mass index, average blood\\npressure, and six blood serum measurements were obtained for each of n =\\n442 diabetes patients, as well as the response of interest, a\\nquantitative measure of disease progression one year after baseline.\\n\\n**Data Set Characteristics:**\\n\\n  :Number of Instances: 442\\n\\n  :Number of Attributes: First 10 columns are numeric predictive values\\n\\n  :Target: Column 11 is a quantitative measure of disease progression one year after baseline\\n\\n  :Attribute Information:\\n      - age     age in years\\n      - sex\\n      - bmi     body mass index\\n      - bp      average blood pressure\\n      - s1      tc, total serum cholesterol\\n      - s2      ldl, low-density lipoproteins\\n      - s3      hdl, high-density lipoproteins\\n      - s4      tch, total cholesterol / HDL\\n      - s5      ltg, possibly log of serum triglycerides level\\n      - s6      glu, blood sugar level\\n\\nNote: Each of these 10 feature variables have been mean centered and scaled by the standard deviation times `n_samples` (i.e. the sum of squares of each column totals 1).\\n\\nSource URL:\\nhttps://www4.stat.ncsu.edu/~boos/var.select/diabetes.html\\n\\nFor more information see:\\nBradley Efron, Trevor Hastie, Iain Johnstone and Robert Tibshirani (2004) \"Least Angle Regression,\" Annals of Statistics (with discussion), 407-499.\\n(https://web.stanford.edu/~hastie/Papers/LARS/LeastAngle_2002.pdf)',\n",
       " 'feature_names': ['age',\n",
       "  'sex',\n",
       "  'bmi',\n",
       "  'bp',\n",
       "  's1',\n",
       "  's2',\n",
       "  's3',\n",
       "  's4',\n",
       "  's5',\n",
       "  's6'],\n",
       " 'data_filename': 'diabetes_data.csv.gz',\n",
       " 'target_filename': 'diabetes_target.csv.gz',\n",
       " 'data_module': 'sklearn.datasets.data'}"
      ]
     },
     "execution_count": 4,
     "metadata": {},
     "output_type": "execute_result"
    }
   ],
   "source": [
    "load_diabetes()"
   ]
  },
  {
   "cell_type": "code",
   "execution_count": 5,
   "id": "d69af09a",
   "metadata": {},
   "outputs": [
    {
     "data": {
      "text/plain": [
       "dict_keys(['data', 'target', 'frame', 'DESCR', 'feature_names', 'data_filename', 'target_filename', 'data_module'])"
      ]
     },
     "execution_count": 5,
     "metadata": {},
     "output_type": "execute_result"
    }
   ],
   "source": [
    "diabetes.keys()"
   ]
  },
  {
   "cell_type": "markdown",
   "id": "f5d4cc3e",
   "metadata": {},
   "source": [
    "The next step is to read the description of the dataset. Print the description in the cell below using the DESCR attribute of the diabetes variable\n",
    "\n"
   ]
  },
  {
   "cell_type": "code",
   "execution_count": 6,
   "id": "020070b1",
   "metadata": {},
   "outputs": [
    {
     "name": "stdout",
     "output_type": "stream",
     "text": [
      ".. _diabetes_dataset:\n",
      "\n",
      "Diabetes dataset\n",
      "----------------\n",
      "\n",
      "Ten baseline variables, age, sex, body mass index, average blood\n",
      "pressure, and six blood serum measurements were obtained for each of n =\n",
      "442 diabetes patients, as well as the response of interest, a\n",
      "quantitative measure of disease progression one year after baseline.\n",
      "\n",
      "**Data Set Characteristics:**\n",
      "\n",
      "  :Number of Instances: 442\n",
      "\n",
      "  :Number of Attributes: First 10 columns are numeric predictive values\n",
      "\n",
      "  :Target: Column 11 is a quantitative measure of disease progression one year after baseline\n",
      "\n",
      "  :Attribute Information:\n",
      "      - age     age in years\n",
      "      - sex\n",
      "      - bmi     body mass index\n",
      "      - bp      average blood pressure\n",
      "      - s1      tc, total serum cholesterol\n",
      "      - s2      ldl, low-density lipoproteins\n",
      "      - s3      hdl, high-density lipoproteins\n",
      "      - s4      tch, total cholesterol / HDL\n",
      "      - s5      ltg, possibly log of serum triglycerides level\n",
      "      - s6      glu, blood sugar level\n",
      "\n",
      "Note: Each of these 10 feature variables have been mean centered and scaled by the standard deviation times `n_samples` (i.e. the sum of squares of each column totals 1).\n",
      "\n",
      "Source URL:\n",
      "https://www4.stat.ncsu.edu/~boos/var.select/diabetes.html\n",
      "\n",
      "For more information see:\n",
      "Bradley Efron, Trevor Hastie, Iain Johnstone and Robert Tibshirani (2004) \"Least Angle Regression,\" Annals of Statistics (with discussion), 407-499.\n",
      "(https://web.stanford.edu/~hastie/Papers/LARS/LeastAngle_2002.pdf)\n"
     ]
    }
   ],
   "source": [
    "print(diabetes.DESCR)"
   ]
  },
  {
   "cell_type": "markdown",
   "id": "e832a036",
   "metadata": {},
   "source": [
    "What are the variables in this dataset according to the description? List them in the markdown cell below\n",
    "\n"
   ]
  },
  {
   "cell_type": "code",
   "execution_count": 7,
   "id": "0ac021e7",
   "metadata": {},
   "outputs": [
    {
     "data": {
      "text/plain": [
       "['age', 'sex', 'bmi', 'bp', 's1', 's2', 's3', 's4', 's5', 's6']"
      ]
     },
     "execution_count": 7,
     "metadata": {},
     "output_type": "execute_result"
    }
   ],
   "source": [
    "diabetes.feature_names\n"
   ]
  },
  {
   "cell_type": "markdown",
   "id": "66eefb34",
   "metadata": {},
   "source": [
    "Enter your answer here:\n",
    "Now explore the data. Scikit-learn typically takes in 2D numpy arrays as input (though pandas dataframes are also accepted). In the cell below find the shape of the numpy array contained in the data portion of the diabetes variable."
   ]
  },
  {
   "cell_type": "code",
   "execution_count": 8,
   "id": "83987271",
   "metadata": {},
   "outputs": [
    {
     "data": {
      "text/plain": [
       "(442, 10)"
      ]
     },
     "execution_count": 8,
     "metadata": {},
     "output_type": "execute_result"
    }
   ],
   "source": [
    "diabetes.data.shape\n"
   ]
  },
  {
   "cell_type": "markdown",
   "id": "892731ff",
   "metadata": {},
   "source": [
    "## Challenge 2 - Perform Supervised Learning on the Dataset\n",
    "The data has already been split to predictor and response variables. The response variable is in the target portion of the variable.\n",
    "Given this information, let's apply what we have previously learned about linear regression and apply the algorithm to the diabetes dataset. In the cell below, import the linear regression class from sklearn."
   ]
  },
  {
   "cell_type": "code",
   "execution_count": 9,
   "id": "4f1d8c7c",
   "metadata": {},
   "outputs": [],
   "source": [
    "from sklearn.linear_model import LinearRegression\n"
   ]
  },
  {
   "cell_type": "markdown",
   "id": "6f25ddc1",
   "metadata": {},
   "source": [
    "Initialize the model in the variable diabetes_model\n",
    "\n"
   ]
  },
  {
   "cell_type": "code",
   "execution_count": 10,
   "id": "197762a5",
   "metadata": {},
   "outputs": [],
   "source": [
    "diabetes_model = LinearRegression()\n"
   ]
  },
  {
   "cell_type": "code",
   "execution_count": 11,
   "id": "66f06e2e",
   "metadata": {},
   "outputs": [
    {
     "name": "stdout",
     "output_type": "stream",
     "text": [
      "152.1334841628965\n",
      "\n",
      "[ -10.01219782 -239.81908937  519.83978679  324.39042769 -792.18416163\n",
      "  476.74583782  101.04457032  177.06417623  751.27932109   67.62538639]\n"
     ]
    }
   ],
   "source": [
    "X = diabetes.data\n",
    "y = diabetes.target\n",
    "\n",
    "diabetes_model.fit(X, y)\n",
    "\n",
    "print(diabetes_model.intercept_)\n",
    "print()\n",
    "print(diabetes_model.coef_)"
   ]
  },
  {
   "cell_type": "markdown",
   "id": "881d0cbb",
   "metadata": {},
   "source": [
    "## Bonus Challenge 1 - Conduct a Hypothesis Test on the Model\n",
    "Once we have generated a linear model, we can test each coefficient using a t-test to see whether the confidence interval for the variable contains zero. We can also perform an overall F test to check whether at least one coefficient is significantly different from zero.\n",
    "\n",
    "Refer to the resource in this link for more details and perform the t-tests for the model above. Additionally, interpret the results and list coefficients are significantly different from zero.\n",
    "\n",
    "Hint: use the statsmodels package."
   ]
  },
  {
   "cell_type": "code",
   "execution_count": 12,
   "id": "06e3e656",
   "metadata": {},
   "outputs": [],
   "source": [
    "X_const = sm.add_constant(X)\n",
    "\n",
    "model = sm.OLS(y, X_const).fit()"
   ]
  },
  {
   "cell_type": "code",
   "execution_count": 13,
   "id": "420f7cab",
   "metadata": {},
   "outputs": [
    {
     "data": {
      "text/html": [
       "<table class=\"simpletable\">\n",
       "<caption>OLS Regression Results</caption>\n",
       "<tr>\n",
       "  <th>Dep. Variable:</th>            <td>y</td>        <th>  R-squared:         </th> <td>   0.518</td>\n",
       "</tr>\n",
       "<tr>\n",
       "  <th>Model:</th>                   <td>OLS</td>       <th>  Adj. R-squared:    </th> <td>   0.507</td>\n",
       "</tr>\n",
       "<tr>\n",
       "  <th>Method:</th>             <td>Least Squares</td>  <th>  F-statistic:       </th> <td>   46.27</td>\n",
       "</tr>\n",
       "<tr>\n",
       "  <th>Date:</th>             <td>Tue, 27 Sep 2022</td> <th>  Prob (F-statistic):</th> <td>3.83e-62</td>\n",
       "</tr>\n",
       "<tr>\n",
       "  <th>Time:</th>                 <td>14:37:47</td>     <th>  Log-Likelihood:    </th> <td> -2386.0</td>\n",
       "</tr>\n",
       "<tr>\n",
       "  <th>No. Observations:</th>      <td>   442</td>      <th>  AIC:               </th> <td>   4794.</td>\n",
       "</tr>\n",
       "<tr>\n",
       "  <th>Df Residuals:</th>          <td>   431</td>      <th>  BIC:               </th> <td>   4839.</td>\n",
       "</tr>\n",
       "<tr>\n",
       "  <th>Df Model:</th>              <td>    10</td>      <th>                     </th>     <td> </td>   \n",
       "</tr>\n",
       "<tr>\n",
       "  <th>Covariance Type:</th>      <td>nonrobust</td>    <th>                     </th>     <td> </td>   \n",
       "</tr>\n",
       "</table>\n",
       "<table class=\"simpletable\">\n",
       "<tr>\n",
       "    <td></td>       <th>coef</th>     <th>std err</th>      <th>t</th>      <th>P>|t|</th>  <th>[0.025</th>    <th>0.975]</th>  \n",
       "</tr>\n",
       "<tr>\n",
       "  <th>const</th> <td>  152.1335</td> <td>    2.576</td> <td>   59.061</td> <td> 0.000</td> <td>  147.071</td> <td>  157.196</td>\n",
       "</tr>\n",
       "<tr>\n",
       "  <th>x1</th>    <td>  -10.0122</td> <td>   59.749</td> <td>   -0.168</td> <td> 0.867</td> <td> -127.448</td> <td>  107.424</td>\n",
       "</tr>\n",
       "<tr>\n",
       "  <th>x2</th>    <td> -239.8191</td> <td>   61.222</td> <td>   -3.917</td> <td> 0.000</td> <td> -360.151</td> <td> -119.488</td>\n",
       "</tr>\n",
       "<tr>\n",
       "  <th>x3</th>    <td>  519.8398</td> <td>   66.534</td> <td>    7.813</td> <td> 0.000</td> <td>  389.069</td> <td>  650.610</td>\n",
       "</tr>\n",
       "<tr>\n",
       "  <th>x4</th>    <td>  324.3904</td> <td>   65.422</td> <td>    4.958</td> <td> 0.000</td> <td>  195.805</td> <td>  452.976</td>\n",
       "</tr>\n",
       "<tr>\n",
       "  <th>x5</th>    <td> -792.1842</td> <td>  416.684</td> <td>   -1.901</td> <td> 0.058</td> <td>-1611.169</td> <td>   26.801</td>\n",
       "</tr>\n",
       "<tr>\n",
       "  <th>x6</th>    <td>  476.7458</td> <td>  339.035</td> <td>    1.406</td> <td> 0.160</td> <td> -189.621</td> <td> 1143.113</td>\n",
       "</tr>\n",
       "<tr>\n",
       "  <th>x7</th>    <td>  101.0446</td> <td>  212.533</td> <td>    0.475</td> <td> 0.635</td> <td> -316.685</td> <td>  518.774</td>\n",
       "</tr>\n",
       "<tr>\n",
       "  <th>x8</th>    <td>  177.0642</td> <td>  161.476</td> <td>    1.097</td> <td> 0.273</td> <td> -140.313</td> <td>  494.442</td>\n",
       "</tr>\n",
       "<tr>\n",
       "  <th>x9</th>    <td>  751.2793</td> <td>  171.902</td> <td>    4.370</td> <td> 0.000</td> <td>  413.409</td> <td> 1089.150</td>\n",
       "</tr>\n",
       "<tr>\n",
       "  <th>x10</th>   <td>   67.6254</td> <td>   65.984</td> <td>    1.025</td> <td> 0.306</td> <td>  -62.065</td> <td>  197.316</td>\n",
       "</tr>\n",
       "</table>\n",
       "<table class=\"simpletable\">\n",
       "<tr>\n",
       "  <th>Omnibus:</th>       <td> 1.506</td> <th>  Durbin-Watson:     </th> <td>   2.029</td>\n",
       "</tr>\n",
       "<tr>\n",
       "  <th>Prob(Omnibus):</th> <td> 0.471</td> <th>  Jarque-Bera (JB):  </th> <td>   1.404</td>\n",
       "</tr>\n",
       "<tr>\n",
       "  <th>Skew:</th>          <td> 0.017</td> <th>  Prob(JB):          </th> <td>   0.496</td>\n",
       "</tr>\n",
       "<tr>\n",
       "  <th>Kurtosis:</th>      <td> 2.726</td> <th>  Cond. No.          </th> <td>    227.</td>\n",
       "</tr>\n",
       "</table><br/><br/>Notes:<br/>[1] Standard Errors assume that the covariance matrix of the errors is correctly specified."
      ],
      "text/plain": [
       "<class 'statsmodels.iolib.summary.Summary'>\n",
       "\"\"\"\n",
       "                            OLS Regression Results                            \n",
       "==============================================================================\n",
       "Dep. Variable:                      y   R-squared:                       0.518\n",
       "Model:                            OLS   Adj. R-squared:                  0.507\n",
       "Method:                 Least Squares   F-statistic:                     46.27\n",
       "Date:                Tue, 27 Sep 2022   Prob (F-statistic):           3.83e-62\n",
       "Time:                        14:37:47   Log-Likelihood:                -2386.0\n",
       "No. Observations:                 442   AIC:                             4794.\n",
       "Df Residuals:                     431   BIC:                             4839.\n",
       "Df Model:                          10                                         \n",
       "Covariance Type:            nonrobust                                         \n",
       "==============================================================================\n",
       "                 coef    std err          t      P>|t|      [0.025      0.975]\n",
       "------------------------------------------------------------------------------\n",
       "const        152.1335      2.576     59.061      0.000     147.071     157.196\n",
       "x1           -10.0122     59.749     -0.168      0.867    -127.448     107.424\n",
       "x2          -239.8191     61.222     -3.917      0.000    -360.151    -119.488\n",
       "x3           519.8398     66.534      7.813      0.000     389.069     650.610\n",
       "x4           324.3904     65.422      4.958      0.000     195.805     452.976\n",
       "x5          -792.1842    416.684     -1.901      0.058   -1611.169      26.801\n",
       "x6           476.7458    339.035      1.406      0.160    -189.621    1143.113\n",
       "x7           101.0446    212.533      0.475      0.635    -316.685     518.774\n",
       "x8           177.0642    161.476      1.097      0.273    -140.313     494.442\n",
       "x9           751.2793    171.902      4.370      0.000     413.409    1089.150\n",
       "x10           67.6254     65.984      1.025      0.306     -62.065     197.316\n",
       "==============================================================================\n",
       "Omnibus:                        1.506   Durbin-Watson:                   2.029\n",
       "Prob(Omnibus):                  0.471   Jarque-Bera (JB):                1.404\n",
       "Skew:                           0.017   Prob(JB):                        0.496\n",
       "Kurtosis:                       2.726   Cond. No.                         227.\n",
       "==============================================================================\n",
       "\n",
       "Notes:\n",
       "[1] Standard Errors assume that the covariance matrix of the errors is correctly specified.\n",
       "\"\"\""
      ]
     },
     "execution_count": 13,
     "metadata": {},
     "output_type": "execute_result"
    }
   ],
   "source": [
    "model.summary()\n"
   ]
  },
  {
   "cell_type": "markdown",
   "id": "13786939",
   "metadata": {},
   "source": [
    "## Challenge 2 - Peform Supervised Learning on a Pandas Dataframe\n",
    "Now that we have looked at data that has been formatted for scikit-learn, let's look at data that we will need to format ourselves.\n",
    "\n",
    "In the next cell, load the auto-mpg.csv file included in this folder and assign it to a variable called auto."
   ]
  },
  {
   "cell_type": "code",
   "execution_count": 14,
   "id": "1bde9219",
   "metadata": {},
   "outputs": [],
   "source": [
    "auto = pd.read_csv('auto-mpg.csv')"
   ]
  },
  {
   "cell_type": "code",
   "execution_count": 15,
   "id": "c2aa5c91",
   "metadata": {},
   "outputs": [
    {
     "data": {
      "text/html": [
       "<div>\n",
       "<style scoped>\n",
       "    .dataframe tbody tr th:only-of-type {\n",
       "        vertical-align: middle;\n",
       "    }\n",
       "\n",
       "    .dataframe tbody tr th {\n",
       "        vertical-align: top;\n",
       "    }\n",
       "\n",
       "    .dataframe thead th {\n",
       "        text-align: right;\n",
       "    }\n",
       "</style>\n",
       "<table border=\"1\" class=\"dataframe\">\n",
       "  <thead>\n",
       "    <tr style=\"text-align: right;\">\n",
       "      <th></th>\n",
       "      <th>mpg</th>\n",
       "      <th>cylinders</th>\n",
       "      <th>displacement</th>\n",
       "      <th>horse_power</th>\n",
       "      <th>weight</th>\n",
       "      <th>acceleration</th>\n",
       "      <th>model_year</th>\n",
       "      <th>car_name</th>\n",
       "    </tr>\n",
       "  </thead>\n",
       "  <tbody>\n",
       "    <tr>\n",
       "      <th>0</th>\n",
       "      <td>18.0</td>\n",
       "      <td>8</td>\n",
       "      <td>307.0</td>\n",
       "      <td>130.0</td>\n",
       "      <td>3504</td>\n",
       "      <td>12.0</td>\n",
       "      <td>70</td>\n",
       "      <td>\\t\"chevrolet chevelle malibu\"</td>\n",
       "    </tr>\n",
       "    <tr>\n",
       "      <th>1</th>\n",
       "      <td>15.0</td>\n",
       "      <td>8</td>\n",
       "      <td>350.0</td>\n",
       "      <td>165.0</td>\n",
       "      <td>3693</td>\n",
       "      <td>11.5</td>\n",
       "      <td>70</td>\n",
       "      <td>\\t\"buick skylark 320\"</td>\n",
       "    </tr>\n",
       "    <tr>\n",
       "      <th>2</th>\n",
       "      <td>18.0</td>\n",
       "      <td>8</td>\n",
       "      <td>318.0</td>\n",
       "      <td>150.0</td>\n",
       "      <td>3436</td>\n",
       "      <td>11.0</td>\n",
       "      <td>70</td>\n",
       "      <td>\\t\"plymouth satellite\"</td>\n",
       "    </tr>\n",
       "    <tr>\n",
       "      <th>3</th>\n",
       "      <td>16.0</td>\n",
       "      <td>8</td>\n",
       "      <td>304.0</td>\n",
       "      <td>150.0</td>\n",
       "      <td>3433</td>\n",
       "      <td>12.0</td>\n",
       "      <td>70</td>\n",
       "      <td>\\t\"amc rebel sst\"</td>\n",
       "    </tr>\n",
       "    <tr>\n",
       "      <th>4</th>\n",
       "      <td>17.0</td>\n",
       "      <td>8</td>\n",
       "      <td>302.0</td>\n",
       "      <td>140.0</td>\n",
       "      <td>3449</td>\n",
       "      <td>10.5</td>\n",
       "      <td>70</td>\n",
       "      <td>\\t\"ford torino\"</td>\n",
       "    </tr>\n",
       "  </tbody>\n",
       "</table>\n",
       "</div>"
      ],
      "text/plain": [
       "    mpg  cylinders  displacement  horse_power  weight  acceleration  \\\n",
       "0  18.0          8         307.0        130.0    3504          12.0   \n",
       "1  15.0          8         350.0        165.0    3693          11.5   \n",
       "2  18.0          8         318.0        150.0    3436          11.0   \n",
       "3  16.0          8         304.0        150.0    3433          12.0   \n",
       "4  17.0          8         302.0        140.0    3449          10.5   \n",
       "\n",
       "   model_year                       car_name  \n",
       "0          70  \\t\"chevrolet chevelle malibu\"  \n",
       "1          70          \\t\"buick skylark 320\"  \n",
       "2          70         \\t\"plymouth satellite\"  \n",
       "3          70              \\t\"amc rebel sst\"  \n",
       "4          70                \\t\"ford torino\"  "
      ]
     },
     "execution_count": 15,
     "metadata": {},
     "output_type": "execute_result"
    }
   ],
   "source": [
    "auto.head(5)"
   ]
  },
  {
   "cell_type": "markdown",
   "id": "8ce85137",
   "metadata": {},
   "source": [
    "Evaluate the data to ensure that all numeric columns are correctly detected as such by pandas. If a column is misclassified as object, coerce it to numeric.\n",
    "\n"
   ]
  },
  {
   "cell_type": "code",
   "execution_count": 16,
   "id": "f5a28e70",
   "metadata": {
    "scrolled": true
   },
   "outputs": [
    {
     "data": {
      "text/plain": [
       "mpg             float64\n",
       "cylinders         int64\n",
       "displacement    float64\n",
       "horse_power     float64\n",
       "weight            int64\n",
       "acceleration    float64\n",
       "model_year        int64\n",
       "car_name         object\n",
       "dtype: object"
      ]
     },
     "execution_count": 16,
     "metadata": {},
     "output_type": "execute_result"
    }
   ],
   "source": [
    "auto.dtypes"
   ]
  },
  {
   "cell_type": "code",
   "execution_count": null,
   "id": "09bc2d39",
   "metadata": {},
   "outputs": [],
   "source": []
  },
  {
   "cell_type": "code",
   "execution_count": 17,
   "id": "896dbb0a",
   "metadata": {},
   "outputs": [
    {
     "data": {
      "text/plain": [
       "70"
      ]
     },
     "execution_count": 17,
     "metadata": {},
     "output_type": "execute_result"
    }
   ],
   "source": [
    "auto['model_year'].min()"
   ]
  },
  {
   "cell_type": "code",
   "execution_count": 18,
   "id": "4bcc6529",
   "metadata": {},
   "outputs": [
    {
     "data": {
      "text/plain": [
       "82"
      ]
     },
     "execution_count": 18,
     "metadata": {},
     "output_type": "execute_result"
    }
   ],
   "source": [
    "auto['model_year'].max()"
   ]
  },
  {
   "cell_type": "code",
   "execution_count": 25,
   "id": "227c950c",
   "metadata": {},
   "outputs": [
    {
     "data": {
      "text/plain": [
       "mpg             0\n",
       "cylinders       0\n",
       "displacement    0\n",
       "horse_power     6\n",
       "weight          0\n",
       "acceleration    0\n",
       "model_year      0\n",
       "car_name        0\n",
       "dtype: int64"
      ]
     },
     "execution_count": 25,
     "metadata": {},
     "output_type": "execute_result"
    }
   ],
   "source": [
    "auto.isnull().sum()\n"
   ]
  },
  {
   "cell_type": "code",
   "execution_count": 28,
   "id": "251836c8",
   "metadata": {},
   "outputs": [],
   "source": [
    "auto.dropna(inplace = True)\n"
   ]
  },
  {
   "cell_type": "code",
   "execution_count": 29,
   "id": "d1f3c096",
   "metadata": {},
   "outputs": [
    {
     "data": {
      "text/plain": [
       "mpg             0\n",
       "cylinders       0\n",
       "displacement    0\n",
       "horse_power     0\n",
       "weight          0\n",
       "acceleration    0\n",
       "model_year      0\n",
       "car_name        0\n",
       "dtype: int64"
      ]
     },
     "execution_count": 29,
     "metadata": {},
     "output_type": "execute_result"
    }
   ],
   "source": [
    "auto.isnull().sum()"
   ]
  },
  {
   "cell_type": "markdown",
   "id": "c40d75f8",
   "metadata": {},
   "source": [
    "Find the frequency table for the cylinders column using the value_counts() function. How many possible values of cylinders are there?\n",
    "\n"
   ]
  },
  {
   "cell_type": "code",
   "execution_count": 30,
   "id": "771ce5a3",
   "metadata": {},
   "outputs": [
    {
     "data": {
      "text/plain": [
       "4    199\n",
       "8    103\n",
       "6     83\n",
       "3      4\n",
       "5      3\n",
       "Name: cylinders, dtype: int64"
      ]
     },
     "execution_count": 30,
     "metadata": {},
     "output_type": "execute_result"
    }
   ],
   "source": [
    "auto['cylinders'].value_counts()"
   ]
  },
  {
   "cell_type": "markdown",
   "id": "f02bc9d4",
   "metadata": {},
   "source": [
    "We would like to generate a linear regression model that will predict mpg. To do this, first drop the car_name column since it does not contain any quantitative data. Next separate the dataframe to predictor and response variables. Separate those into test and training data with 80% of the data in the training set and the remainder in the test set.\n",
    "\n",
    "\n",
    "Assign the predictor and response training data to X_train and y_train respectively. Similarly, assign the predictor and response test data to X_test and y_test."
   ]
  },
  {
   "cell_type": "code",
   "execution_count": 31,
   "id": "61e8294a",
   "metadata": {},
   "outputs": [],
   "source": [
    "new_auto = auto.drop('car_name', axis=1)\n",
    "predictor = new_auto.loc[:, new_auto.columns != 'mpg']\n",
    "response = new_auto['mpg'] \n",
    "\n"
   ]
  },
  {
   "cell_type": "markdown",
   "id": "de85bae3",
   "metadata": {},
   "source": [
    "Now we will take the dataset that we processed and peform linear regression on this data to predict the mpg for each vehicle. Initialize the model in the cell below.\n",
    "\n"
   ]
  },
  {
   "cell_type": "code",
   "execution_count": 32,
   "id": "83b7147c",
   "metadata": {},
   "outputs": [
    {
     "data": {
      "text/plain": [
       "LinearRegression()"
      ]
     },
     "execution_count": 32,
     "metadata": {},
     "output_type": "execute_result"
    }
   ],
   "source": [
    "X_train, X_test, y_train, y_test = train_test_split(predictor, response, test_size=0.20)\n",
    "new_auto_model = LinearRegression()\n",
    "new_auto_model.fit(X_train, y_train)\n"
   ]
  },
  {
   "cell_type": "markdown",
   "id": "62f20a8d",
   "metadata": {},
   "source": [
    "## Challenge 3 - Evaluate the Model\n",
    "The r squared score of a model tells us how much variation is explained by the model. In a typical dataset, most observations differ from the mean. When we create a model, we are trying to generate an equation that will tell us by how much each observation will differ from the mean. Obviously, the vast majority of models are not perfect. They can only predict some of the variation from the mean but not all of it. We attribute the rest of the difference between the actual value and the mean to random error. We would like random error to explain the as little as possible of the variation. This is why the r squared score is an important metric.\n",
    "\n",
    "In the next cell, compute the r squared score of the model. Do this by first computing the predicted values and assign them to y_pred."
   ]
  },
  {
   "cell_type": "code",
   "execution_count": 33,
   "id": "4221f508",
   "metadata": {},
   "outputs": [],
   "source": [
    "from sklearn.metrics import r2_score\n"
   ]
  },
  {
   "cell_type": "code",
   "execution_count": 34,
   "id": "af51a84f",
   "metadata": {},
   "outputs": [
    {
     "data": {
      "text/plain": [
       "0.7661917161138854"
      ]
     },
     "execution_count": 34,
     "metadata": {},
     "output_type": "execute_result"
    }
   ],
   "source": [
    "y_pred = new_auto_model.predict(predictor)\n",
    "r2_score(y_pred, response)"
   ]
  },
  {
   "cell_type": "markdown",
   "id": "fe2796e9",
   "metadata": {},
   "source": [
    "Our next step is to evaluate the model using the test data. We would like to ensure that our model is not overfitting the data. This means that our model will not be able to generalize well outside of the training data.\n",
    "\n",
    "In the cell below, use the model to generate the predicted values for the training data and assign them to y_test_pred. Compute the r squared score for the test data by comparing the oberserved y_test data and the predicted y_test_pred."
   ]
  },
  {
   "cell_type": "code",
   "execution_count": 35,
   "id": "adbd0aaf",
   "metadata": {},
   "outputs": [
    {
     "data": {
      "text/plain": [
       "array([11.89218189, 27.90699165, 30.80297657, 13.70783932, 32.2528339 ,\n",
       "       30.87936419, 28.47544267, 24.62732056, 29.94948335, 30.56239593,\n",
       "       11.7809052 , 34.68690149, 32.7400364 , 22.38727448, 34.45699064,\n",
       "        9.98326583, 26.33670771, 28.34905338, 16.4739116 , 19.78452634,\n",
       "       15.21258778, 22.28620497, 29.64974751, 13.10765571, 30.63587408,\n",
       "       32.2896545 , 29.71820294, 16.0590741 , 24.49228926, 10.46447252,\n",
       "       29.97579267, 34.60002186, 23.09433555, 26.86354105, 19.92687846,\n",
       "        8.17485248, 30.39166341, 28.59001768, 11.33989422, 31.4048895 ,\n",
       "       25.20568708, 28.00020639, 25.9234731 , 26.8663648 , 26.80159353,\n",
       "       21.49584329, 19.69450476, 26.96967621, 32.20463181, 30.04232592,\n",
       "       24.86802289, 29.69532351, 11.65090501, 19.785381  , 20.06275057,\n",
       "       29.04487823, 12.85256704, 31.16174606, 32.91620784, 29.43102851,\n",
       "       27.66152276, 21.22091893, 18.47658323, 20.917453  , 16.4226282 ,\n",
       "       21.57631087, 26.33732771, 26.48567666, 27.65789696, 14.30653166,\n",
       "       14.94531316, 15.49870617, 25.79763959, 31.20339571, 19.65465052,\n",
       "       17.93238742, 17.64035364, 18.67877376, 22.4752192 ])"
      ]
     },
     "execution_count": 35,
     "metadata": {},
     "output_type": "execute_result"
    }
   ],
   "source": [
    "new_auto_model.predict(X_test)\n"
   ]
  },
  {
   "cell_type": "code",
   "execution_count": 36,
   "id": "e8b01b85",
   "metadata": {},
   "outputs": [],
   "source": [
    "y_test_pred = new_auto_model.predict(X_test)\n"
   ]
  },
  {
   "cell_type": "code",
   "execution_count": 37,
   "id": "ab944007",
   "metadata": {},
   "outputs": [
    {
     "data": {
      "text/plain": [
       "0.8208326871579419"
      ]
     },
     "execution_count": 37,
     "metadata": {},
     "output_type": "execute_result"
    }
   ],
   "source": [
    "r2_score(y_test, y_test_pred)\n"
   ]
  },
  {
   "cell_type": "markdown",
   "id": "46604d1c",
   "metadata": {},
   "source": [
    "## Challenge 4 - Improve the Model Fit\n",
    "While the most common way to improve the fit of a model is by using regularization, there are other simpler ways to improve model fit. The first is to create a simpler model. The second is to increase the train sample size.\n",
    "\n",
    "Let us start with the easier option and increase our train sample size to 90% of the data. Create a new test train split and name the new predictors and response variables X_train09, X_test09, y_train09, y_test09."
   ]
  },
  {
   "cell_type": "code",
   "execution_count": 38,
   "id": "3a13809a",
   "metadata": {},
   "outputs": [],
   "source": [
    "predictor = new_auto.loc[:, new_auto.columns != 'mpg']\n",
    "response = new_auto['mpg'] \n",
    "\n",
    "X_train09, X_test09, y_train09, y_test09 = train_test_split(predictor, response, test_size=0.1)"
   ]
  },
  {
   "cell_type": "code",
   "execution_count": 39,
   "id": "bcd114e6",
   "metadata": {},
   "outputs": [
    {
     "data": {
      "text/plain": [
       "LinearRegression()"
      ]
     },
     "execution_count": 39,
     "metadata": {},
     "output_type": "execute_result"
    }
   ],
   "source": [
    "auto_model09 = LinearRegression()\n",
    "auto_model09.fit(X_train09, y_train09)"
   ]
  },
  {
   "cell_type": "code",
   "execution_count": 40,
   "id": "19ba7878",
   "metadata": {},
   "outputs": [
    {
     "data": {
      "text/plain": [
       "0.75823854900722"
      ]
     },
     "execution_count": 40,
     "metadata": {},
     "output_type": "execute_result"
    }
   ],
   "source": [
    "y_pred09 = auto_model09.predict(predictor)\n",
    "r2_score(y_pred09, response)"
   ]
  },
  {
   "cell_type": "code",
   "execution_count": 41,
   "id": "80dd1693",
   "metadata": {},
   "outputs": [
    {
     "data": {
      "text/plain": [
       "0.7656660434589085"
      ]
     },
     "execution_count": 41,
     "metadata": {},
     "output_type": "execute_result"
    }
   ],
   "source": [
    "y_test_pred09 = auto_model09.predict(X_test09)\n",
    "\n",
    "r2_score(y_test09, y_test_pred09)"
   ]
  },
  {
   "cell_type": "markdown",
   "id": "679218ac",
   "metadata": {},
   "source": [
    "## Bonus Challenge 2 - Backward Elimination\n",
    "The main way to produce a simpler linear regression model is to reduce the number of variables used in the model. In scikit-learn, we can do this by using recursive feature elimination. You can read more about RFE here.\n",
    "\n",
    "In the next cell, we will import RFE"
   ]
  },
  {
   "cell_type": "code",
   "execution_count": 42,
   "id": "17560a3d",
   "metadata": {},
   "outputs": [],
   "source": [
    "from sklearn.feature_selection import RFE\n",
    "\n",
    "lm_fit = LinearRegression()"
   ]
  },
  {
   "cell_type": "code",
   "execution_count": 43,
   "id": "bdf100d4",
   "metadata": {},
   "outputs": [],
   "source": [
    "rfe_fit = RFE(lm_fit , n_features_to_select=3)\n"
   ]
  },
  {
   "cell_type": "code",
   "execution_count": 44,
   "id": "8c93a536",
   "metadata": {},
   "outputs": [
    {
     "data": {
      "text/plain": [
       "RFE(estimator=LinearRegression(), n_features_to_select=3)"
      ]
     },
     "execution_count": 44,
     "metadata": {},
     "output_type": "execute_result"
    }
   ],
   "source": [
    "rfe_fit.fit(predictor, response)\n"
   ]
  },
  {
   "cell_type": "code",
   "execution_count": 45,
   "id": "527730ee",
   "metadata": {},
   "outputs": [
    {
     "data": {
      "text/plain": [
       "6"
      ]
     },
     "execution_count": 45,
     "metadata": {},
     "output_type": "execute_result"
    }
   ],
   "source": [
    "rfe_fit.n_features_in_\n"
   ]
  },
  {
   "cell_type": "code",
   "execution_count": 46,
   "id": "070620a8",
   "metadata": {},
   "outputs": [
    {
     "data": {
      "text/plain": [
       "array([1, 2, 4, 3, 1, 1])"
      ]
     },
     "execution_count": 46,
     "metadata": {},
     "output_type": "execute_result"
    }
   ],
   "source": [
    "rfe_fit.ranking_\n"
   ]
  },
  {
   "cell_type": "markdown",
   "id": "228cecc1",
   "metadata": {},
   "source": [
    "Feature importance is ranked from most important (1) to least important (4). Generate a model with the three most important features. The features correspond to variable names. For example, feature 1 is cylinders and feature 2 is displacement.\n",
    "\n",
    "Perform a test-train split on this reduced column data and call the split data X_train_reduced, X_test_reduced, y_test_reduced, y_train_reduced. Use an 80% split.\n",
    "\n"
   ]
  },
  {
   "cell_type": "code",
   "execution_count": 47,
   "id": "e6caa141",
   "metadata": {},
   "outputs": [],
   "source": [
    "X_reduced = predictor[['cylinders', 'acceleration', 'model_year']]\n"
   ]
  },
  {
   "cell_type": "code",
   "execution_count": 48,
   "id": "8f5ded65",
   "metadata": {},
   "outputs": [],
   "source": [
    "y_reduced = response\n"
   ]
  },
  {
   "cell_type": "code",
   "execution_count": 50,
   "id": "a73743c1",
   "metadata": {},
   "outputs": [],
   "source": [
    "X_train_reduced, X_test_reduced, y_train_reduced, y_test_reduced = train_test_split(X_reduced,y_reduced, test_size=0.2)\n"
   ]
  },
  {
   "cell_type": "markdown",
   "id": "86c7f892",
   "metadata": {},
   "source": [
    "Generate a new model called auto_model_reduced and fit this model. Then proceed to compute the r squared score for the model. Did this cause an improvement in the r squared score?"
   ]
  },
  {
   "cell_type": "code",
   "execution_count": 51,
   "id": "7aaff9cd",
   "metadata": {},
   "outputs": [],
   "source": [
    "auto_model_reduced = LinearRegression()"
   ]
  },
  {
   "cell_type": "code",
   "execution_count": 52,
   "id": "367aa28b",
   "metadata": {},
   "outputs": [
    {
     "data": {
      "text/plain": [
       "LinearRegression()"
      ]
     },
     "execution_count": 52,
     "metadata": {},
     "output_type": "execute_result"
    }
   ],
   "source": [
    "auto_model_reduced.fit(X_train_reduced, y_train_reduced)\n"
   ]
  },
  {
   "cell_type": "code",
   "execution_count": 53,
   "id": "689d7ee6",
   "metadata": {},
   "outputs": [
    {
     "data": {
      "text/plain": [
       "0.741754802556382"
      ]
     },
     "execution_count": 53,
     "metadata": {},
     "output_type": "execute_result"
    }
   ],
   "source": [
    "y_pred_reduced = auto_model_reduced.predict(X_test_reduced)\n",
    "\n",
    "r2_score(y_test_reduced, y_pred_reduced)"
   ]
  },
  {
   "cell_type": "code",
   "execution_count": null,
   "id": "f1451b2d",
   "metadata": {},
   "outputs": [],
   "source": []
  }
 ],
 "metadata": {
  "kernelspec": {
   "display_name": "Python 3 (ipykernel)",
   "language": "python",
   "name": "python3"
  },
  "language_info": {
   "codemirror_mode": {
    "name": "ipython",
    "version": 3
   },
   "file_extension": ".py",
   "mimetype": "text/x-python",
   "name": "python",
   "nbconvert_exporter": "python",
   "pygments_lexer": "ipython3",
   "version": "3.9.12"
  }
 },
 "nbformat": 4,
 "nbformat_minor": 5
}
