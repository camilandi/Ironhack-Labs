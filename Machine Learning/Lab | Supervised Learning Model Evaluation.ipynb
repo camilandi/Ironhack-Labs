{
 "cells": [
  {
   "cell_type": "markdown",
   "id": "ed27ed32",
   "metadata": {},
   "source": [
    "## Supervised Learning Model Evaluation Lab\n",
    "Complete the exercises below to solidify your knowledge and understanding of supervised learning model evaluation."
   ]
  },
  {
   "cell_type": "code",
   "execution_count": 1,
   "id": "d7a0ea08",
   "metadata": {},
   "outputs": [],
   "source": [
    "import pandas as pd\n",
    "from sklearn.datasets import load_boston\n",
    "import warnings\n",
    "warnings.filterwarnings('ignore')\n",
    "from sklearn.model_selection import train_test_split\n",
    "from sklearn.linear_model import LogisticRegression\n",
    "from sklearn.linear_model import LinearRegression\n",
    "from sklearn.metrics import confusion_matrix, accuracy_score, plot_confusion_matrix\n",
    "from sklearn.neighbors import KNeighborsClassifier\n"
   ]
  },
  {
   "cell_type": "code",
   "execution_count": 2,
   "id": "ff628c77",
   "metadata": {},
   "outputs": [],
   "source": [
    "data = load_boston()\n",
    "\n",
    "X = pd.DataFrame(data[\"data\"], columns=data[\"feature_names\"])\n",
    "y = pd.DataFrame(data[\"target\"], columns=['MEDV'])\n",
    "\n",
    "data = pd.concat([X, y], axis=1)"
   ]
  },
  {
   "cell_type": "markdown",
   "id": "a500745e",
   "metadata": {},
   "source": [
    "### 1. Split this data set into training (80%) and testing (20%) sets.\n",
    "The MEDV field represents the median value of owner-occupied homes (in $1000's) and is the target variable that we will want to predict."
   ]
  },
  {
   "cell_type": "code",
   "execution_count": 3,
   "id": "07af3dea",
   "metadata": {},
   "outputs": [
    {
     "data": {
      "text/html": [
       "<div>\n",
       "<style scoped>\n",
       "    .dataframe tbody tr th:only-of-type {\n",
       "        vertical-align: middle;\n",
       "    }\n",
       "\n",
       "    .dataframe tbody tr th {\n",
       "        vertical-align: top;\n",
       "    }\n",
       "\n",
       "    .dataframe thead th {\n",
       "        text-align: right;\n",
       "    }\n",
       "</style>\n",
       "<table border=\"1\" class=\"dataframe\">\n",
       "  <thead>\n",
       "    <tr style=\"text-align: right;\">\n",
       "      <th></th>\n",
       "      <th>CRIM</th>\n",
       "      <th>ZN</th>\n",
       "      <th>INDUS</th>\n",
       "      <th>CHAS</th>\n",
       "      <th>NOX</th>\n",
       "      <th>RM</th>\n",
       "      <th>AGE</th>\n",
       "      <th>DIS</th>\n",
       "      <th>RAD</th>\n",
       "      <th>TAX</th>\n",
       "      <th>PTRATIO</th>\n",
       "      <th>B</th>\n",
       "      <th>LSTAT</th>\n",
       "      <th>MEDV</th>\n",
       "    </tr>\n",
       "  </thead>\n",
       "  <tbody>\n",
       "    <tr>\n",
       "      <th>0</th>\n",
       "      <td>0.00632</td>\n",
       "      <td>18.0</td>\n",
       "      <td>2.31</td>\n",
       "      <td>0.0</td>\n",
       "      <td>0.538</td>\n",
       "      <td>6.575</td>\n",
       "      <td>65.2</td>\n",
       "      <td>4.0900</td>\n",
       "      <td>1.0</td>\n",
       "      <td>296.0</td>\n",
       "      <td>15.3</td>\n",
       "      <td>396.90</td>\n",
       "      <td>4.98</td>\n",
       "      <td>24.0</td>\n",
       "    </tr>\n",
       "    <tr>\n",
       "      <th>1</th>\n",
       "      <td>0.02731</td>\n",
       "      <td>0.0</td>\n",
       "      <td>7.07</td>\n",
       "      <td>0.0</td>\n",
       "      <td>0.469</td>\n",
       "      <td>6.421</td>\n",
       "      <td>78.9</td>\n",
       "      <td>4.9671</td>\n",
       "      <td>2.0</td>\n",
       "      <td>242.0</td>\n",
       "      <td>17.8</td>\n",
       "      <td>396.90</td>\n",
       "      <td>9.14</td>\n",
       "      <td>21.6</td>\n",
       "    </tr>\n",
       "    <tr>\n",
       "      <th>2</th>\n",
       "      <td>0.02729</td>\n",
       "      <td>0.0</td>\n",
       "      <td>7.07</td>\n",
       "      <td>0.0</td>\n",
       "      <td>0.469</td>\n",
       "      <td>7.185</td>\n",
       "      <td>61.1</td>\n",
       "      <td>4.9671</td>\n",
       "      <td>2.0</td>\n",
       "      <td>242.0</td>\n",
       "      <td>17.8</td>\n",
       "      <td>392.83</td>\n",
       "      <td>4.03</td>\n",
       "      <td>34.7</td>\n",
       "    </tr>\n",
       "    <tr>\n",
       "      <th>3</th>\n",
       "      <td>0.03237</td>\n",
       "      <td>0.0</td>\n",
       "      <td>2.18</td>\n",
       "      <td>0.0</td>\n",
       "      <td>0.458</td>\n",
       "      <td>6.998</td>\n",
       "      <td>45.8</td>\n",
       "      <td>6.0622</td>\n",
       "      <td>3.0</td>\n",
       "      <td>222.0</td>\n",
       "      <td>18.7</td>\n",
       "      <td>394.63</td>\n",
       "      <td>2.94</td>\n",
       "      <td>33.4</td>\n",
       "    </tr>\n",
       "    <tr>\n",
       "      <th>4</th>\n",
       "      <td>0.06905</td>\n",
       "      <td>0.0</td>\n",
       "      <td>2.18</td>\n",
       "      <td>0.0</td>\n",
       "      <td>0.458</td>\n",
       "      <td>7.147</td>\n",
       "      <td>54.2</td>\n",
       "      <td>6.0622</td>\n",
       "      <td>3.0</td>\n",
       "      <td>222.0</td>\n",
       "      <td>18.7</td>\n",
       "      <td>396.90</td>\n",
       "      <td>5.33</td>\n",
       "      <td>36.2</td>\n",
       "    </tr>\n",
       "  </tbody>\n",
       "</table>\n",
       "</div>"
      ],
      "text/plain": [
       "      CRIM    ZN  INDUS  CHAS    NOX     RM   AGE     DIS  RAD    TAX  \\\n",
       "0  0.00632  18.0   2.31   0.0  0.538  6.575  65.2  4.0900  1.0  296.0   \n",
       "1  0.02731   0.0   7.07   0.0  0.469  6.421  78.9  4.9671  2.0  242.0   \n",
       "2  0.02729   0.0   7.07   0.0  0.469  7.185  61.1  4.9671  2.0  242.0   \n",
       "3  0.03237   0.0   2.18   0.0  0.458  6.998  45.8  6.0622  3.0  222.0   \n",
       "4  0.06905   0.0   2.18   0.0  0.458  7.147  54.2  6.0622  3.0  222.0   \n",
       "\n",
       "   PTRATIO       B  LSTAT  MEDV  \n",
       "0     15.3  396.90   4.98  24.0  \n",
       "1     17.8  396.90   9.14  21.6  \n",
       "2     17.8  392.83   4.03  34.7  \n",
       "3     18.7  394.63   2.94  33.4  \n",
       "4     18.7  396.90   5.33  36.2  "
      ]
     },
     "execution_count": 3,
     "metadata": {},
     "output_type": "execute_result"
    }
   ],
   "source": [
    "data.head()"
   ]
  },
  {
   "cell_type": "code",
   "execution_count": 4,
   "id": "b8d413aa",
   "metadata": {},
   "outputs": [],
   "source": [
    "X_train, X_test, y_train, y_test = train_test_split(X,y,test_size= .2)"
   ]
  },
  {
   "cell_type": "markdown",
   "id": "9b16a1fa",
   "metadata": {},
   "source": [
    "2. Train a LinearRegression model on this data set and generate predictions on both the training and the testing set."
   ]
  },
  {
   "cell_type": "code",
   "execution_count": 5,
   "id": "0c1f2310",
   "metadata": {},
   "outputs": [
    {
     "data": {
      "text/plain": [
       "LinearRegression()"
      ]
     },
     "execution_count": 5,
     "metadata": {},
     "output_type": "execute_result"
    }
   ],
   "source": [
    "houses = LinearRegression()\n",
    "houses.fit(X_train,y_train)"
   ]
  },
  {
   "cell_type": "code",
   "execution_count": 6,
   "id": "a480054c",
   "metadata": {},
   "outputs": [
    {
     "name": "stdout",
     "output_type": "stream",
     "text": [
      "[35.97850263]\n",
      "[[-1.10816032e-01  4.58418210e-02 -3.83858249e-02  2.41131297e+00\n",
      "  -1.61883686e+01  3.55253548e+00 -1.09065704e-02 -1.48926411e+00\n",
      "   2.61219058e-01 -1.07223449e-02 -8.84235327e-01  1.04372430e-02\n",
      "  -4.60330679e-01]]\n"
     ]
    }
   ],
   "source": [
    "print(houses.intercept_)\n",
    "print(houses.coef_)"
   ]
  },
  {
   "cell_type": "code",
   "execution_count": 7,
   "id": "72210a66",
   "metadata": {},
   "outputs": [],
   "source": [
    "y_train_pred= houses.predict(X_train)\n",
    "y_test_pred= houses.predict(X_test)"
   ]
  },
  {
   "cell_type": "markdown",
   "id": "3426f57b",
   "metadata": {},
   "source": [
    "3. Calculate and print R-squared for both the training and the testing set."
   ]
  },
  {
   "cell_type": "code",
   "execution_count": 8,
   "id": "aa448b30",
   "metadata": {},
   "outputs": [],
   "source": [
    "from sklearn.metrics import r2_score\n",
    "\n",
    "r_score_train=r2_score(y_train, y_train_pred)\n",
    "r_score_test=r2_score(y_test, y_test_pred)"
   ]
  },
  {
   "cell_type": "code",
   "execution_count": 9,
   "id": "98adea7d",
   "metadata": {},
   "outputs": [
    {
     "name": "stdout",
     "output_type": "stream",
     "text": [
      "0.7321273361569063\n",
      "0.7374335363517436\n"
     ]
    }
   ],
   "source": [
    "print(r_score_train)\n",
    "print(r_score_test)"
   ]
  },
  {
   "cell_type": "markdown",
   "id": "91380d09",
   "metadata": {},
   "source": [
    "4. Calculate and print mean squared error for both the training and the testing set."
   ]
  },
  {
   "cell_type": "code",
   "execution_count": 10,
   "id": "86428794",
   "metadata": {},
   "outputs": [],
   "source": [
    "from sklearn.metrics import mean_squared_error, mean_absolute_error"
   ]
  },
  {
   "cell_type": "code",
   "execution_count": 11,
   "id": "eabeb63b",
   "metadata": {},
   "outputs": [],
   "source": [
    "mean_squared_train=mean_squared_error(y_train, y_train_pred)\n",
    "mean_squared_test=mean_squared_error(y_test, y_test_pred)"
   ]
  },
  {
   "cell_type": "code",
   "execution_count": 12,
   "id": "1b2bfc42",
   "metadata": {},
   "outputs": [
    {
     "name": "stdout",
     "output_type": "stream",
     "text": [
      "21.234981895487497\n",
      "26.059214756748233\n"
     ]
    }
   ],
   "source": [
    "print(mean_squared_train)\n",
    "print(mean_squared_test)"
   ]
  },
  {
   "cell_type": "markdown",
   "id": "e895451f",
   "metadata": {},
   "source": [
    "5. Calculate and print mean absolute error for both the training and the testing set."
   ]
  },
  {
   "cell_type": "code",
   "execution_count": 13,
   "id": "8156da93",
   "metadata": {},
   "outputs": [],
   "source": [
    "mean_absolute_train=mean_absolute_error(y_train, y_train_pred)\n",
    "mean_absolute_test=mean_absolute_error(y_test, y_test_pred)"
   ]
  },
  {
   "cell_type": "code",
   "execution_count": 14,
   "id": "477c9d71",
   "metadata": {},
   "outputs": [
    {
     "name": "stdout",
     "output_type": "stream",
     "text": [
      "3.163130015743072\n",
      "3.5600895160011\n"
     ]
    }
   ],
   "source": [
    "print(mean_absolute_train)\n",
    "print(mean_absolute_test)"
   ]
  },
  {
   "cell_type": "markdown",
   "id": "8cf17144",
   "metadata": {},
   "source": [
    "## Classification Model Evaluation"
   ]
  },
  {
   "cell_type": "code",
   "execution_count": 15,
   "id": "9da02889",
   "metadata": {},
   "outputs": [],
   "source": [
    "from sklearn.datasets import load_iris\n",
    "\n",
    "data = load_iris()\n",
    "\n",
    "Xdos = pd.DataFrame(data[\"data\"], columns=data[\"feature_names\"])\n",
    "ydos = pd.DataFrame(data[\"target\"], columns=[\"class\"])\n",
    "\n",
    "data = pd.concat([Xdos, ydos], axis=1)"
   ]
  },
  {
   "cell_type": "markdown",
   "id": "97f709ed",
   "metadata": {},
   "source": [
    "6. Split this data set into training (80%) and testing (20%) sets.\n",
    "The class field represents the type of flower and is the target variable that we will want to predict."
   ]
  },
  {
   "cell_type": "code",
   "execution_count": 16,
   "id": "637a9bd0",
   "metadata": {},
   "outputs": [],
   "source": [
    "X_traindos, X_testdos, y_traindos, y_testdos = train_test_split(Xdos,ydos,test_size= .2)"
   ]
  },
  {
   "cell_type": "markdown",
   "id": "900994de",
   "metadata": {},
   "source": [
    "7. Train a LogisticRegression model on this data set and generate predictions on both the training and the testing set."
   ]
  },
  {
   "cell_type": "code",
   "execution_count": 17,
   "id": "c77b6e7e",
   "metadata": {},
   "outputs": [
    {
     "data": {
      "text/plain": [
       "LogisticRegression(max_iter=10000)"
      ]
     },
     "execution_count": 17,
     "metadata": {},
     "output_type": "execute_result"
    }
   ],
   "source": [
    "log_fitdos= LogisticRegression(solver='lbfgs', max_iter=10000)\n",
    "log_fitdos.fit(X_traindos,y_traindos)"
   ]
  },
  {
   "cell_type": "code",
   "execution_count": 18,
   "id": "5202e499",
   "metadata": {},
   "outputs": [],
   "source": [
    "y_pred_testdos= log_fitdos.predict(X_testdos)"
   ]
  },
  {
   "cell_type": "code",
   "execution_count": 19,
   "id": "cbd44d2d",
   "metadata": {},
   "outputs": [],
   "source": [
    "y_pred_traindos= log_fitdos.predict(X_traindos)"
   ]
  },
  {
   "cell_type": "code",
   "execution_count": 20,
   "id": "b5542392",
   "metadata": {},
   "outputs": [
    {
     "name": "stdout",
     "output_type": "stream",
     "text": [
      "[1 1 2 1 2 2 2 0 2 0 0 1 2 2 0 0 2 2 2 1 0 2 2 2 0 0 1 1 2 0]\n"
     ]
    }
   ],
   "source": [
    "print(y_pred_testdos)\n"
   ]
  },
  {
   "cell_type": "code",
   "execution_count": 21,
   "id": "37294088",
   "metadata": {},
   "outputs": [
    {
     "name": "stdout",
     "output_type": "stream",
     "text": [
      "[2 2 1 1 2 2 1 1 2 2 1 1 0 2 1 2 1 2 2 1 1 0 1 1 1 0 1 2 0 1 2 1 0 0 2 2 1\n",
      " 1 1 0 1 2 0 0 1 0 2 1 2 1 2 0 2 1 2 0 1 0 0 2 2 1 1 0 0 2 0 1 2 2 2 0 0 2\n",
      " 1 2 1 0 0 1 1 0 0 2 1 1 1 0 1 0 2 0 0 2 2 0 2 0 0 1 0 1 0 1 0 0 2 2 1 0 1\n",
      " 0 0 2 2 0 0 0 0 1]\n"
     ]
    }
   ],
   "source": [
    "print(y_pred_traindos)\n"
   ]
  },
  {
   "cell_type": "markdown",
   "id": "ae328493",
   "metadata": {},
   "source": [
    "8. Calculate and print the accuracy score for both the training and the testing set."
   ]
  },
  {
   "cell_type": "code",
   "execution_count": 22,
   "id": "3b76c72c",
   "metadata": {},
   "outputs": [],
   "source": [
    "acurracy_train=accuracy_score(y_traindos, y_pred_traindos)\n",
    "acurracy_test=accuracy_score(y_testdos, y_pred_testdos)\n"
   ]
  },
  {
   "cell_type": "code",
   "execution_count": 23,
   "id": "af5a90ca",
   "metadata": {},
   "outputs": [
    {
     "name": "stdout",
     "output_type": "stream",
     "text": [
      "0.9833333333333333\n",
      "0.9666666666666667\n"
     ]
    }
   ],
   "source": [
    "print(acurracy_train)\n",
    "print(acurracy_test)\n"
   ]
  },
  {
   "cell_type": "markdown",
   "id": "875c2729",
   "metadata": {},
   "source": [
    "9. Calculate and print the balanced accuracy score for both the training and the testing set."
   ]
  },
  {
   "cell_type": "code",
   "execution_count": 24,
   "id": "514f2aed",
   "metadata": {},
   "outputs": [],
   "source": [
    "from sklearn.metrics import balanced_accuracy_score\n"
   ]
  },
  {
   "cell_type": "code",
   "execution_count": 25,
   "id": "5fc6daa6",
   "metadata": {},
   "outputs": [],
   "source": [
    "balanced_accuracy_train=balanced_accuracy_score(y_traindos, y_pred_traindos)\n",
    "balanced_accuracy_test=balanced_accuracy_score(y_testdos, y_pred_testdos)"
   ]
  },
  {
   "cell_type": "code",
   "execution_count": 26,
   "id": "e597fe4a",
   "metadata": {},
   "outputs": [
    {
     "name": "stdout",
     "output_type": "stream",
     "text": [
      "0.9830544830544831\n",
      "0.9583333333333334\n"
     ]
    }
   ],
   "source": [
    "print(balanced_accuracy_train)\n",
    "print(balanced_accuracy_test)\n"
   ]
  },
  {
   "cell_type": "markdown",
   "id": "4c71c4bf",
   "metadata": {},
   "source": [
    "10. Calculate and print the precision score for both the training and the testing set."
   ]
  },
  {
   "cell_type": "code",
   "execution_count": 27,
   "id": "e2c873da",
   "metadata": {},
   "outputs": [],
   "source": [
    "from sklearn.metrics import precision_score"
   ]
  },
  {
   "cell_type": "code",
   "execution_count": 28,
   "id": "bc7040e5",
   "metadata": {},
   "outputs": [],
   "source": [
    "precision_score_train=precision_score(y_traindos, y_pred_traindos, average='micro')\n",
    "\n",
    "precision_score_test=precision_score(y_testdos, y_pred_testdos, average='micro')\n"
   ]
  },
  {
   "cell_type": "code",
   "execution_count": 29,
   "id": "20f7e7a6",
   "metadata": {},
   "outputs": [
    {
     "name": "stdout",
     "output_type": "stream",
     "text": [
      "0.9833333333333333\n",
      "0.9666666666666667\n"
     ]
    }
   ],
   "source": [
    "print(precision_score_train)\n",
    "print(precision_score_test)"
   ]
  },
  {
   "cell_type": "markdown",
   "id": "578cb0f5",
   "metadata": {},
   "source": [
    "11. Calculate and print the recall score for both the training and the testing set."
   ]
  },
  {
   "cell_type": "code",
   "execution_count": 30,
   "id": "8e1b9aa3",
   "metadata": {},
   "outputs": [],
   "source": [
    "from sklearn.metrics import recall_score\n",
    "\n",
    "recall_score_train=recall_score(y_traindos, y_pred_traindos, average='micro')\n",
    "recall_score_test=recall_score(y_testdos, y_pred_testdos, average='micro')"
   ]
  },
  {
   "cell_type": "code",
   "execution_count": 31,
   "id": "bc4f1813",
   "metadata": {},
   "outputs": [
    {
     "name": "stdout",
     "output_type": "stream",
     "text": [
      "0.9833333333333333\n",
      "0.9666666666666667\n"
     ]
    }
   ],
   "source": [
    "print(recall_score_train)\n",
    "print(recall_score_test)"
   ]
  },
  {
   "cell_type": "markdown",
   "id": "36e0c87e",
   "metadata": {},
   "source": [
    "12. Calculate and print the F1 score for both the training and the testing set."
   ]
  },
  {
   "cell_type": "code",
   "execution_count": 32,
   "id": "539da722",
   "metadata": {},
   "outputs": [
    {
     "name": "stdout",
     "output_type": "stream",
     "text": [
      "0.9830544830544831\n",
      "0.9654320987654321\n"
     ]
    }
   ],
   "source": [
    "from sklearn.metrics import f1_score\n",
    "\n",
    "f1_score_train=f1_score(y_traindos, y_pred_traindos, average='macro')\n",
    "f1_score_test=f1_score(y_testdos, y_pred_testdos, average='macro')\n",
    "\n",
    "print(f1_score_train)\n",
    "print(f1_score_test)"
   ]
  },
  {
   "cell_type": "markdown",
   "id": "5cb14f23",
   "metadata": {},
   "source": [
    "13. Generate confusion matrices for both the training and the testing set."
   ]
  },
  {
   "cell_type": "code",
   "execution_count": 33,
   "id": "31dfe7ee",
   "metadata": {},
   "outputs": [],
   "source": [
    "matrix_train = confusion_matrix(y_traindos, y_pred_traindos)\n",
    "matrix_test = confusion_matrix(y_testdos, y_pred_testdos)"
   ]
  },
  {
   "cell_type": "code",
   "execution_count": 34,
   "id": "f56c2e29",
   "metadata": {},
   "outputs": [
    {
     "name": "stdout",
     "output_type": "stream",
     "text": [
      "[[41  0  0]\n",
      " [ 0 41  1]\n",
      " [ 0  1 36]]\n"
     ]
    }
   ],
   "source": [
    "print(matrix_train)"
   ]
  },
  {
   "cell_type": "code",
   "execution_count": 35,
   "id": "41318207",
   "metadata": {},
   "outputs": [
    {
     "name": "stdout",
     "output_type": "stream",
     "text": [
      "[[ 9  0  0]\n",
      " [ 0  7  1]\n",
      " [ 0  0 13]]\n"
     ]
    }
   ],
   "source": [
    "print(matrix_test)"
   ]
  },
  {
   "cell_type": "code",
   "execution_count": 39,
   "id": "0187ac64",
   "metadata": {},
   "outputs": [
    {
     "data": {
      "image/png": "[encoded data removed]",
      "text/plain": [
       "<Figure size 432x288 with 2 Axes>"
      ]
     },
     "metadata": {
      "needs_background": "light"
     },
     "output_type": "display_data"
    }
   ],
   "source": [
    "plot_confusion_matrix(log_fitdos,X_traindos,y_pred_traindos);"
   ]
  },
  {
   "cell_type": "code",
   "execution_count": 40,
   "id": "b46a68c4",
   "metadata": {},
   "outputs": [
    {
     "data": {
      "image/png": "[encoded data removed]",
      "text/plain": [
       "<Figure size 432x288 with 2 Axes>"
      ]
     },
     "metadata": {
      "needs_background": "light"
     },
     "output_type": "display_data"
    }
   ],
   "source": [
    "plot_confusion_matrix(log_fitdos,X_testdos,y_pred_testdos);"
   ]
  },
  {
   "cell_type": "code",
   "execution_count": null,
   "id": "db6a43ae",
   "metadata": {},
   "outputs": [],
   "source": []
  }
 ],
 "metadata": {
  "kernelspec": {
   "display_name": "Python 3 (ipykernel)",
   "language": "python",
   "name": "python3"
  },
  "language_info": {
   "codemirror_mode": {
    "name": "ipython",
    "version": 3
   },
   "file_extension": ".py",
   "mimetype": "text/x-python",
   "name": "python",
   "nbconvert_exporter": "python",
   "pygments_lexer": "ipython3",
   "version": "3.9.12"
  }
 },
 "nbformat": 4,
 "nbformat_minor": 5
}
