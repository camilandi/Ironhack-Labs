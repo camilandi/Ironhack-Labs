{
 "cells": [
  {
   "cell_type": "markdown",
   "id": "2aa28548",
   "metadata": {},
   "source": [
    "1. Use a regular expression to find and extract all vowels in the following text.\n"
   ]
  },
  {
   "cell_type": "code",
   "execution_count": 10,
   "id": "d368398e",
   "metadata": {},
   "outputs": [],
   "source": [
    "text = \"This is going to be a sentence with a good number of vowels in it.\"\n"
   ]
  },
  {
   "cell_type": "code",
   "execution_count": 11,
   "id": "4426d722",
   "metadata": {},
   "outputs": [],
   "source": [
    "import re"
   ]
  },
  {
   "cell_type": "code",
   "execution_count": 16,
   "id": "4e17b0e4",
   "metadata": {},
   "outputs": [],
   "source": [
    "vowels = '[aeiou]'"
   ]
  },
  {
   "cell_type": "code",
   "execution_count": 17,
   "id": "a480608f",
   "metadata": {},
   "outputs": [
    {
     "data": {
      "text/plain": [
       "['i',\n",
       " 'i',\n",
       " 'o',\n",
       " 'i',\n",
       " 'o',\n",
       " 'e',\n",
       " 'a',\n",
       " 'e',\n",
       " 'e',\n",
       " 'e',\n",
       " 'i',\n",
       " 'a',\n",
       " 'o',\n",
       " 'o',\n",
       " 'u',\n",
       " 'e',\n",
       " 'o',\n",
       " 'o',\n",
       " 'e',\n",
       " 'i',\n",
       " 'i']"
      ]
     },
     "execution_count": 17,
     "metadata": {},
     "output_type": "execute_result"
    }
   ],
   "source": [
    "re.findall(vowels,text)"
   ]
  },
  {
   "cell_type": "markdown",
   "id": "403bf558",
   "metadata": {},
   "source": [
    "2. Use a regular expression to find and extract all occurrences and tenses (singular and plural) of the word \"puppy\" in the text below."
   ]
  },
  {
   "cell_type": "code",
   "execution_count": 21,
   "id": "9a0e21ed",
   "metadata": {},
   "outputs": [
    {
     "data": {
      "text/plain": [
       "['puppy', 'puppies', 'puppy']"
      ]
     },
     "execution_count": 21,
     "metadata": {},
     "output_type": "execute_result"
    }
   ],
   "source": [
    "text = \"The puppy saw all the rest of the puppies playing and wanted to join them. I saw this and wanted a puppy of my own!\"\n",
    "pup = 'pupp[\\w]+'\n",
    "\n",
    "re.findall(pup,text)"
   ]
  },
  {
   "cell_type": "markdown",
   "id": "2c020ea2",
   "metadata": {},
   "source": [
    "3. Use a regular expression to find and extract all tenses (present and past) of the word \"run\" in the text below.\n"
   ]
  },
  {
   "cell_type": "code",
   "execution_count": 24,
   "id": "74185bbf",
   "metadata": {},
   "outputs": [],
   "source": [
    "text = \"I ran the relay race the only way I knew how to run it.\"\n",
    "ra = 'r[\\w]n'"
   ]
  },
  {
   "cell_type": "code",
   "execution_count": 25,
   "id": "9e47aaf6",
   "metadata": {},
   "outputs": [
    {
     "data": {
      "text/plain": [
       "['ran', 'run']"
      ]
     },
     "execution_count": 25,
     "metadata": {},
     "output_type": "execute_result"
    }
   ],
   "source": [
    "re.findall(ra,text)"
   ]
  },
  {
   "cell_type": "markdown",
   "id": "fdeacda3",
   "metadata": {},
   "source": [
    "4. Use a regular expression to find and extract all words that begin with the letter \"r\" from the previous text.\n"
   ]
  },
  {
   "cell_type": "code",
   "execution_count": 28,
   "id": "4ce4d049",
   "metadata": {},
   "outputs": [],
   "source": [
    "r = 'r+[\\w]+'"
   ]
  },
  {
   "cell_type": "code",
   "execution_count": 29,
   "id": "22e6a6bd",
   "metadata": {},
   "outputs": [
    {
     "data": {
      "text/plain": [
       "['ran', 'relay', 'race', 'run']"
      ]
     },
     "execution_count": 29,
     "metadata": {},
     "output_type": "execute_result"
    }
   ],
   "source": [
    "re.findall(r,text)"
   ]
  },
  {
   "cell_type": "markdown",
   "id": "a6a7d6e5",
   "metadata": {},
   "source": [
    "5. Use a regular expression to find and substitute the letter \"i\" for the exclamation marks in the text below.\n"
   ]
  },
  {
   "cell_type": "code",
   "execution_count": 32,
   "id": "b90160a8",
   "metadata": {},
   "outputs": [
    {
     "data": {
      "text/plain": [
       "'This is a sentence with special characters in it.'"
      ]
     },
     "execution_count": 32,
     "metadata": {},
     "output_type": "execute_result"
    }
   ],
   "source": [
    "i = '[i]'\n",
    "sign = '[!]'\n",
    "\n",
    "text = \"Th!s !s a sentence w!th spec!al characters !n !t.\"\n",
    "\n",
    "\n",
    "re.sub(r'!', 'i', text) ##no se si esto esta bien o lo hice de otra forma"
   ]
  },
  {
   "cell_type": "markdown",
   "id": "c830e69c",
   "metadata": {},
   "source": [
    "6. Use a regular expression to find and extract words longer than 4 characters in the text below.\n",
    "\n"
   ]
  },
  {
   "cell_type": "code",
   "execution_count": 43,
   "id": "24b8f077",
   "metadata": {},
   "outputs": [
    {
     "data": {
      "text/plain": [
       "['This', 'sentence', 'words', 'varying', 'lengths']"
      ]
     },
     "execution_count": 43,
     "metadata": {},
     "output_type": "execute_result"
    }
   ],
   "source": [
    "text = \"This sentence has words of varying lengths.\"\n",
    "rango = '\\w{4,}'\n",
    "\n",
    "re.findall(rango,text)"
   ]
  },
  {
   "cell_type": "markdown",
   "id": "0c339067",
   "metadata": {},
   "source": [
    "7. Use a regular expression to find and extract all occurrences of the letter \"b\", some letter(s), and then the letter \"t\" in the sentence below.\n"
   ]
  },
  {
   "cell_type": "code",
   "execution_count": 50,
   "id": "2a942716",
   "metadata": {},
   "outputs": [],
   "source": [
    "text = \"I bet the robot couldn't beat the other bot with a bat, but instead it bit me.\"\n",
    "ocu = '[b]+\\w+[t]*'"
   ]
  },
  {
   "cell_type": "code",
   "execution_count": 51,
   "id": "8412a56e",
   "metadata": {},
   "outputs": [
    {
     "data": {
      "text/plain": [
       "['bet', 'bot', 'beat', 'bot', 'bat', 'but', 'bit']"
      ]
     },
     "execution_count": 51,
     "metadata": {},
     "output_type": "execute_result"
    }
   ],
   "source": [
    "re.findall(ocu,text)"
   ]
  },
  {
   "cell_type": "markdown",
   "id": "65ad45e3",
   "metadata": {},
   "source": [
    "8. Use a regular expression to find and extract all words that contain either \"ea\" or \"eo\" in them.\n"
   ]
  },
  {
   "cell_type": "code",
   "execution_count": 236,
   "id": "4e402b31",
   "metadata": {},
   "outputs": [],
   "source": [
    "text = \"During many of the peaks and troughs of history, the people living it didn't fully realize what was unfolding. But we all know we're navigating breathtaking history: Nearly every day could be — maybe will be — a book.\"\n",
    "dos = '\\w[e][a]+\\w+|\\w[e][o]\\w+'"
   ]
  },
  {
   "cell_type": "code",
   "execution_count": 237,
   "id": "138bdace",
   "metadata": {},
   "outputs": [
    {
     "data": {
      "text/plain": [
       "['peaks', 'people', 'realize', 'reathtaking', 'Nearly']"
      ]
     },
     "execution_count": 237,
     "metadata": {},
     "output_type": "execute_result"
    }
   ],
   "source": [
    "re.findall(dos,text)"
   ]
  },
  {
   "cell_type": "markdown",
   "id": "2e429ce0",
   "metadata": {},
   "source": [
    "9. Use a regular expression to find and extract all the capitalized words in the text below individually.\n"
   ]
  },
  {
   "cell_type": "code",
   "execution_count": 99,
   "id": "457fd185",
   "metadata": {},
   "outputs": [],
   "source": [
    "text = \"Teddy Roosevelt and Abraham Lincoln walk into a bar.\"\n",
    "caps = '[A-Z]\\w+'\n"
   ]
  },
  {
   "cell_type": "code",
   "execution_count": 100,
   "id": "d5509995",
   "metadata": {},
   "outputs": [
    {
     "data": {
      "text/plain": [
       "['Teddy', 'Roosevelt', 'Abraham', 'Lincoln']"
      ]
     },
     "execution_count": 100,
     "metadata": {},
     "output_type": "execute_result"
    }
   ],
   "source": [
    "re.findall(caps,text)"
   ]
  },
  {
   "cell_type": "markdown",
   "id": "65d394d1",
   "metadata": {},
   "source": [
    "10. Use a regular expression to find and extract all the sets of consecutive capitalized words in the text above.\n"
   ]
  },
  {
   "cell_type": "code",
   "execution_count": 101,
   "id": "81f43222",
   "metadata": {},
   "outputs": [],
   "source": [
    "text = \"Teddy Roosevelt and Abraham Lincoln walk into a bar.\"\n",
    "caps2 = '[A-Z]\\w+[ ][A-Z]\\w+'"
   ]
  },
  {
   "cell_type": "code",
   "execution_count": 102,
   "id": "195e3b09",
   "metadata": {},
   "outputs": [
    {
     "data": {
      "text/plain": [
       "['Teddy Roosevelt', 'Abraham Lincoln']"
      ]
     },
     "execution_count": 102,
     "metadata": {},
     "output_type": "execute_result"
    }
   ],
   "source": [
    "re.findall(caps2,text)"
   ]
  },
  {
   "cell_type": "markdown",
   "id": "35219ab4",
   "metadata": {},
   "source": [
    "11. Use a regular expression to find and extract all the quotes from the text below.\n"
   ]
  },
  {
   "cell_type": "code",
   "execution_count": 149,
   "id": "d675e67d",
   "metadata": {},
   "outputs": [],
   "source": [
    "text = 'Roosevelt says to Lincoln, \"Idd will bet you $50 I can get the bartender to give me a free drink.\" Lincoln says, \"I am in!\"'\n",
    "quote = '[\"]'"
   ]
  },
  {
   "cell_type": "code",
   "execution_count": 150,
   "id": "fafe8205",
   "metadata": {},
   "outputs": [
    {
     "data": {
      "text/plain": [
       "['\"', '\"', '\"', '\"']"
      ]
     },
     "execution_count": 150,
     "metadata": {},
     "output_type": "execute_result"
    }
   ],
   "source": [
    "re.findall(quote,text)"
   ]
  },
  {
   "cell_type": "markdown",
   "id": "a1c98ec4",
   "metadata": {},
   "source": [
    "12. Use a regular expression to find and extract all the numbers from the text below.\n"
   ]
  },
  {
   "cell_type": "code",
   "execution_count": 153,
   "id": "fb264d4f",
   "metadata": {},
   "outputs": [],
   "source": [
    "text = \"There were 30 students in the class. Of the 30 students, 14 were male and 16 were female. Only 10 students got A's on the exam.\"\n",
    "num = '\\d+'"
   ]
  },
  {
   "cell_type": "code",
   "execution_count": 154,
   "id": "8901fe82",
   "metadata": {},
   "outputs": [
    {
     "data": {
      "text/plain": [
       "['30', '30', '14', '16', '10']"
      ]
     },
     "execution_count": 154,
     "metadata": {},
     "output_type": "execute_result"
    }
   ],
   "source": [
    "re.findall(num,text)"
   ]
  },
  {
   "cell_type": "markdown",
   "id": "4ebf1236",
   "metadata": {},
   "source": [
    "13. Use a regular expression to find and extract all the social security numbers from the text below.\n"
   ]
  },
  {
   "cell_type": "code",
   "execution_count": 156,
   "id": "25d85beb",
   "metadata": {},
   "outputs": [],
   "source": [
    "text = \"\"\"\n",
    "Henry's social security number is 876-93-2289 and his phone number is (847)789-0984.\n",
    "Darlene's social security number is 098-32-5295 and her phone number is (987)222-0901.\n",
    "\"\"\"\n",
    "num = '\\d+-\\d+-\\d+'"
   ]
  },
  {
   "cell_type": "code",
   "execution_count": 157,
   "id": "7af32762",
   "metadata": {},
   "outputs": [
    {
     "data": {
      "text/plain": [
       "['876-93-2289', '098-32-5295']"
      ]
     },
     "execution_count": 157,
     "metadata": {},
     "output_type": "execute_result"
    }
   ],
   "source": [
    "re.findall(num,text)"
   ]
  },
  {
   "cell_type": "markdown",
   "id": "8f309f00",
   "metadata": {},
   "source": [
    "14. Use a regular expression to find and extract all the phone numbers from the text above.\n"
   ]
  },
  {
   "cell_type": "code",
   "execution_count": 222,
   "id": "f6a7949e",
   "metadata": {},
   "outputs": [],
   "source": [
    "num = '[(]+\\d+\\D+\\d+-\\d+'"
   ]
  },
  {
   "cell_type": "code",
   "execution_count": 223,
   "id": "80155b2d",
   "metadata": {},
   "outputs": [
    {
     "data": {
      "text/plain": [
       "['(847)789-0984', '(987)222-0901']"
      ]
     },
     "execution_count": 223,
     "metadata": {},
     "output_type": "execute_result"
    }
   ],
   "source": [
    "re.findall(num,text)"
   ]
  },
  {
   "cell_type": "markdown",
   "id": "c8f5c8e4",
   "metadata": {},
   "source": [
    "15. Use a regular expression to find and extract all the formatted numbers (both social security and phone) from the text above."
   ]
  },
  {
   "cell_type": "code",
   "execution_count": 232,
   "id": "3fec515f",
   "metadata": {},
   "outputs": [],
   "source": [
    "num = '\\d+-\\d+-\\d+|[(]+\\d+\\D+\\d+-\\d+'"
   ]
  },
  {
   "cell_type": "code",
   "execution_count": 233,
   "id": "f34e78ed",
   "metadata": {},
   "outputs": [
    {
     "data": {
      "text/plain": [
       "['876-93-2289', '(847)789-0984', '098-32-5295', '(987)222-0901']"
      ]
     },
     "execution_count": 233,
     "metadata": {},
     "output_type": "execute_result"
    }
   ],
   "source": [
    "re.findall(num,text)"
   ]
  },
  {
   "cell_type": "code",
   "execution_count": null,
   "id": "9c398213",
   "metadata": {},
   "outputs": [],
   "source": []
  }
 ],
 "metadata": {
  "kernelspec": {
   "display_name": "Python 3 (ipykernel)",
   "language": "python",
   "name": "python3"
  },
  "language_info": {
   "codemirror_mode": {
    "name": "ipython",
    "version": 3
   },
   "file_extension": ".py",
   "mimetype": "text/x-python",
   "name": "python",
   "nbconvert_exporter": "python",
   "pygments_lexer": "ipython3",
   "version": "3.9.12"
  }
 },
 "nbformat": 4,
 "nbformat_minor": 5
}
