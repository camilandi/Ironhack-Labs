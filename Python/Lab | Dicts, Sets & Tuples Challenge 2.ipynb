{
 "cells": [
  {
   "cell_type": "code",
   "execution_count": 4,
   "id": "9d5af3ed",
   "metadata": {},
   "outputs": [],
   "source": [
    "import random\n"
   ]
  },
  {
   "cell_type": "code",
   "execution_count": 5,
   "id": "7553c767",
   "metadata": {},
   "outputs": [
    {
     "name": "stdout",
     "output_type": "stream",
     "text": [
      "[87, 54, 53, 11, 76, 49, 32, 41, 28, 50, 25, 5, 4, 98, 89, 64, 24, 12, 21, 27, 80, 52, 75, 67, 79, 47, 95, 9, 90, 30, 66, 16, 74, 33, 55, 3, 88, 81, 36, 44, 83, 17, 91, 68, 82, 22, 42, 34, 18, 6, 72, 96, 15, 45, 92, 62, 2, 85, 51, 60, 59, 43, 19, 46, 97, 56, 37, 94, 86, 78, 65, 71, 77, 63, 48, 10, 20, 57, 7, 29]\n"
     ]
    }
   ],
   "source": [
    "sample_list_1 = (random.sample(range(100), k=80))\n",
    "print(sample_list_1)"
   ]
  },
  {
   "cell_type": "code",
   "execution_count": 6,
   "id": "f0ba1306",
   "metadata": {},
   "outputs": [],
   "source": [
    "set1 = set(sample_list_1) "
   ]
  },
  {
   "cell_type": "code",
   "execution_count": 7,
   "id": "9c823611",
   "metadata": {},
   "outputs": [
    {
     "name": "stdout",
     "output_type": "stream",
     "text": [
      "{2, 3, 4, 5, 6, 7, 9, 10, 11, 12, 15, 16, 17, 18, 19, 20, 21, 22, 24, 25, 27, 28, 29, 30, 32, 33, 34, 36, 37, 41, 42, 43, 44, 45, 46, 47, 48, 49, 50, 51, 52, 53, 54, 55, 56, 57, 59, 60, 62, 63, 64, 65, 66, 67, 68, 71, 72, 74, 75, 76, 77, 78, 79, 80, 81, 82, 83, 85, 86, 87, 88, 89, 90, 91, 92, 94, 95, 96, 97, 98}\n"
     ]
    }
   ],
   "source": [
    "print(set1)"
   ]
  },
  {
   "cell_type": "code",
   "execution_count": 8,
   "id": "189557ee",
   "metadata": {
    "scrolled": true
   },
   "outputs": [
    {
     "data": {
      "text/plain": [
       "80"
      ]
     },
     "execution_count": 8,
     "metadata": {},
     "output_type": "execute_result"
    }
   ],
   "source": [
    "len(set1)"
   ]
  },
  {
   "cell_type": "code",
   "execution_count": 9,
   "id": "a0430ca9",
   "metadata": {},
   "outputs": [
    {
     "name": "stdout",
     "output_type": "stream",
     "text": [
      "[86, 51, 93, 33, 15, 93, 65, 6, 94, 44, 0, 84, 13, 83, 52, 34, 44, 75, 7, 32, 5, 59, 56, 50, 96, 9, 61, 21, 87, 34, 35, 96, 68, 97, 69, 55, 80, 31, 96, 1, 79, 33, 12, 50, 65, 18, 71, 7, 44, 21, 16, 41, 45, 68, 16, 66, 61, 15, 10, 38, 17, 92, 17, 87, 91, 98, 84, 81, 48, 16, 82, 51, 89, 11, 39, 58, 88, 23, 14, 14]\n"
     ]
    }
   ],
   "source": [
    "sample_list_2 = [random.randrange(100) for i in range(80)]\n",
    "print(sample_list_2)"
   ]
  },
  {
   "cell_type": "code",
   "execution_count": 10,
   "id": "650e8b2f",
   "metadata": {},
   "outputs": [
    {
     "name": "stdout",
     "output_type": "stream",
     "text": [
      "{0, 1, 5, 6, 7, 9, 10, 11, 12, 13, 14, 15, 16, 17, 18, 21, 23, 31, 32, 33, 34, 35, 38, 39, 41, 44, 45, 48, 50, 51, 52, 55, 56, 58, 59, 61, 65, 66, 68, 69, 71, 75, 79, 80, 81, 82, 83, 84, 86, 87, 88, 89, 91, 92, 93, 94, 96, 97, 98}\n"
     ]
    },
    {
     "data": {
      "text/plain": [
       "59"
      ]
     },
     "execution_count": 10,
     "metadata": {},
     "output_type": "execute_result"
    }
   ],
   "source": [
    "set2 = set(sample_list_2)\n",
    "print(set2)\n",
    "len(set2)"
   ]
  },
  {
   "cell_type": "code",
   "execution_count": 11,
   "id": "a534ec69",
   "metadata": {},
   "outputs": [
    {
     "name": "stdout",
     "output_type": "stream",
     "text": [
      "{2, 3, 4, 19, 20, 22, 24, 25, 27, 28, 29, 30, 36, 37, 42, 43, 46, 47, 49, 53, 54, 57, 60, 62, 63, 64, 67, 72, 74, 76, 77, 78, 85, 90, 95}\n"
     ]
    }
   ],
   "source": [
    "set3 = set1-set2\n",
    "print(set3)"
   ]
  },
  {
   "cell_type": "code",
   "execution_count": 12,
   "id": "acd86f9e",
   "metadata": {},
   "outputs": [
    {
     "name": "stdout",
     "output_type": "stream",
     "text": [
      "{0, 1, 35, 69, 38, 39, 13, 14, 84, 93, 23, 58, 61, 31}\n"
     ]
    }
   ],
   "source": [
    "set4 = set2-set1\n",
    "print(set4)"
   ]
  },
  {
   "cell_type": "code",
   "execution_count": 13,
   "id": "91cb5fd1",
   "metadata": {},
   "outputs": [
    {
     "name": "stdout",
     "output_type": "stream",
     "text": [
      "{5, 6, 7, 9, 10, 11, 12, 15, 16, 17, 18, 21, 32, 33, 34, 41, 44, 45, 48, 50, 51, 52, 55, 56, 59, 65, 66, 68, 71, 75, 79, 80, 81, 82, 83, 86, 87, 88, 89, 91, 92, 94, 96, 97, 98}\n"
     ]
    }
   ],
   "source": [
    "set5 = set1.intersection(set2)\n",
    "print(set5)"
   ]
  },
  {
   "cell_type": "code",
   "execution_count": 14,
   "id": "80f94540",
   "metadata": {},
   "outputs": [],
   "source": [
    "lst = (len(set1), len(set2), len(set3), len(set4), len(set5))"
   ]
  },
  {
   "cell_type": "code",
   "execution_count": 15,
   "id": "56e37274",
   "metadata": {},
   "outputs": [
    {
     "name": "stdout",
     "output_type": "stream",
     "text": [
      "(80, 59, 35, 14, 45)\n"
     ]
    }
   ],
   "source": [
    "print(lst)"
   ]
  },
  {
   "cell_type": "code",
   "execution_count": 18,
   "id": "8007c7b9",
   "metadata": {},
   "outputs": [
    {
     "name": "stdout",
     "output_type": "stream",
     "text": [
      "80\n"
     ]
    },
    {
     "data": {
      "text/plain": [
       "True"
      ]
     },
     "execution_count": 18,
     "metadata": {},
     "output_type": "execute_result"
    }
   ],
   "source": [
    "x=len(set5)+len(set3)\n",
    "print(x)\n",
    "\n",
    "len(set1) == x"
   ]
  },
  {
   "cell_type": "code",
   "execution_count": 19,
   "id": "651a630a",
   "metadata": {},
   "outputs": [],
   "source": [
    "set6= set()\n"
   ]
  },
  {
   "cell_type": "code",
   "execution_count": 20,
   "id": "fd40e55c",
   "metadata": {},
   "outputs": [],
   "source": [
    "set6.update(set1,set5)"
   ]
  },
  {
   "cell_type": "code",
   "execution_count": 21,
   "id": "ae61e427",
   "metadata": {},
   "outputs": [
    {
     "name": "stdout",
     "output_type": "stream",
     "text": [
      "{2, 3, 4, 5, 6, 7, 9, 10, 11, 12, 15, 16, 17, 18, 19, 20, 21, 22, 24, 25, 27, 28, 29, 30, 32, 33, 34, 36, 37, 41, 42, 43, 44, 45, 46, 47, 48, 49, 50, 51, 52, 53, 54, 55, 56, 57, 59, 60, 62, 63, 64, 65, 66, 67, 68, 71, 72, 74, 75, 76, 77, 78, 79, 80, 81, 82, 83, 85, 86, 87, 88, 89, 90, 91, 92, 94, 95, 96, 97, 98}\n"
     ]
    }
   ],
   "source": [
    "print(set6)"
   ]
  },
  {
   "cell_type": "code",
   "execution_count": 22,
   "id": "6383503c",
   "metadata": {},
   "outputs": [
    {
     "data": {
      "text/plain": [
       "True"
      ]
     },
     "execution_count": 22,
     "metadata": {},
     "output_type": "execute_result"
    }
   ],
   "source": [
    "set1 == set6"
   ]
  },
  {
   "cell_type": "code",
   "execution_count": 23,
   "id": "2ef4d512",
   "metadata": {},
   "outputs": [
    {
     "data": {
      "text/plain": [
       "False"
      ]
     },
     "execution_count": 23,
     "metadata": {},
     "output_type": "execute_result"
    }
   ],
   "source": [
    "set2.issubset(set1)"
   ]
  },
  {
   "cell_type": "code",
   "execution_count": 24,
   "id": "99f5e421",
   "metadata": {},
   "outputs": [
    {
     "data": {
      "text/plain": [
       "True"
      ]
     },
     "execution_count": 24,
     "metadata": {},
     "output_type": "execute_result"
    }
   ],
   "source": [
    "set3.issubset(set1)"
   ]
  },
  {
   "cell_type": "code",
   "execution_count": 25,
   "id": "ec7e3be1",
   "metadata": {},
   "outputs": [
    {
     "data": {
      "text/plain": [
       "True"
      ]
     },
     "execution_count": 25,
     "metadata": {},
     "output_type": "execute_result"
    }
   ],
   "source": [
    "x = set3.union(set4,set5)\n",
    "y = set2.union(set1)\n",
    "\n",
    "x==y"
   ]
  },
  {
   "cell_type": "code",
   "execution_count": 26,
   "id": "5a7e8cee",
   "metadata": {},
   "outputs": [
    {
     "data": {
      "text/plain": [
       "set"
      ]
     },
     "execution_count": 26,
     "metadata": {},
     "output_type": "execute_result"
    }
   ],
   "source": [
    "type(set1)"
   ]
  },
  {
   "cell_type": "code",
   "execution_count": 27,
   "id": "0c7e6484",
   "metadata": {},
   "outputs": [
    {
     "data": {
      "text/plain": [
       "list"
      ]
     },
     "execution_count": 27,
     "metadata": {},
     "output_type": "execute_result"
    }
   ],
   "source": [
    "lst_set1 = list(set1)\n",
    "type(lst_set1)"
   ]
  },
  {
   "cell_type": "code",
   "execution_count": 34,
   "id": "9e764260",
   "metadata": {},
   "outputs": [],
   "source": [
    "lst_set1.reverse()\n"
   ]
  },
  {
   "cell_type": "code",
   "execution_count": 35,
   "id": "b231309c",
   "metadata": {},
   "outputs": [
    {
     "data": {
      "text/plain": [
       "98"
      ]
     },
     "execution_count": 35,
     "metadata": {},
     "output_type": "execute_result"
    }
   ],
   "source": [
    "lst_set1.pop()"
   ]
  },
  {
   "cell_type": "code",
   "execution_count": 36,
   "id": "2480d89e",
   "metadata": {},
   "outputs": [
    {
     "name": "stdout",
     "output_type": "stream",
     "text": [
      "[3, 4, 5, 6, 7, 9, 10, 11, 12, 15, 16, 17, 18, 19, 20, 21, 22, 24, 25, 27, 28, 29, 30, 32, 33, 34, 36, 37, 41, 42, 43, 44, 45, 46, 47, 48, 49, 50, 51, 52, 53, 54, 55, 56, 57, 59, 60, 62, 63, 64, 65, 66, 67, 68, 71, 72, 74, 75, 76, 77, 78, 79, 80, 81, 82, 83, 85, 86, 87, 88, 89, 90, 91, 92, 94, 95, 96, 97]\n"
     ]
    }
   ],
   "source": [
    "print(lst_set1)"
   ]
  },
  {
   "cell_type": "code",
   "execution_count": 31,
   "id": "655df3e6",
   "metadata": {
    "scrolled": true
   },
   "outputs": [],
   "source": [
    "list_to_remove = [1, 9, 11, 19, 21, 29, 31, 39, 41, 49, 51, 59, 61, 69, 71, 79, 81, 89, 91, 99]\n",
    "new_set = set(list_to_remove)\n",
    "\n"
   ]
  },
  {
   "cell_type": "code",
   "execution_count": 32,
   "id": "3d40d73e",
   "metadata": {},
   "outputs": [
    {
     "data": {
      "text/plain": [
       "{1, 9, 11, 19, 21, 29, 31, 39, 41, 49, 51, 59, 61, 69, 71, 79, 81, 89, 91, 99}"
      ]
     },
     "execution_count": 32,
     "metadata": {},
     "output_type": "execute_result"
    }
   ],
   "source": [
    "new_set"
   ]
  },
  {
   "cell_type": "code",
   "execution_count": 33,
   "id": "5f80e1d8",
   "metadata": {},
   "outputs": [
    {
     "name": "stdout",
     "output_type": "stream",
     "text": [
      "{2, 3, 4, 5, 6, 7, 10, 12, 15, 16, 17, 18, 20, 22, 24, 25, 27, 28, 30, 32, 33, 34, 36, 37, 42, 43, 44, 45, 46, 47, 48, 50, 52, 53, 54, 55, 56, 57, 60, 62, 63, 64, 65, 66, 67, 68, 72, 74, 75, 76, 77, 78, 80, 82, 83, 85, 86, 87, 88, 90, 92, 94, 95, 96, 97, 98}\n"
     ]
    }
   ],
   "source": [
    "print(set1 - new_set)\n"
   ]
  },
  {
   "cell_type": "code",
   "execution_count": null,
   "id": "0353d509",
   "metadata": {},
   "outputs": [],
   "source": []
  }
 ],
 "metadata": {
  "kernelspec": {
   "display_name": "Python 3 (ipykernel)",
   "language": "python",
   "name": "python3"
  },
  "language_info": {
   "codemirror_mode": {
    "name": "ipython",
    "version": 3
   },
   "file_extension": ".py",
   "mimetype": "text/x-python",
   "name": "python",
   "nbconvert_exporter": "python",
   "pygments_lexer": "ipython3",
   "version": "3.9.12"
  }
 },
 "nbformat": 4,
 "nbformat_minor": 5
}
