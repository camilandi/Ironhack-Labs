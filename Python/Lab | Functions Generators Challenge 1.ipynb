{
 "cells": [
  {
   "cell_type": "markdown",
   "id": "e291f6be",
   "metadata": {},
   "source": [
    "## Challenge 1 - Functions.\n",
    "\n",
    "#### A function is a block of organized, reusable code that is used to perform a single, related action. Functions provide better modularity for your application and a high degree of code reusing. Create a function to find the summation of the number of every number from 1 to num."
   ]
  },
  {
   "cell_type": "code",
   "execution_count": null,
   "id": "3fa7ef54",
   "metadata": {},
   "outputs": [],
   "source": []
  },
  {
   "cell_type": "code",
   "execution_count": 48,
   "id": "cb537f2f",
   "metadata": {},
   "outputs": [],
   "source": [
    "num=76\n"
   ]
  },
  {
   "cell_type": "code",
   "execution_count": 141,
   "id": "14391a9d",
   "metadata": {},
   "outputs": [],
   "source": [
    "def summation(i):\n",
    "    result = sum(range(1, num+1))\n",
    "    return result"
   ]
  },
  {
   "cell_type": "code",
   "execution_count": 142,
   "id": "aadcd0b5",
   "metadata": {},
   "outputs": [
    {
     "data": {
      "text/plain": [
       "2926"
      ]
     },
     "execution_count": 142,
     "metadata": {},
     "output_type": "execute_result"
    }
   ],
   "source": [
    "summation(76)"
   ]
  },
  {
   "cell_type": "markdown",
   "id": "65447439",
   "metadata": {},
   "source": [
    "## Challenge 2 - Positional arguments, Args and Kwargs.\n",
    "#### The syntax args and **kwargs in function definitions is used to pass a variable number of arguments to a function. The single asterisk form (args) is used to pass a non-keyworded, variable-length argument list, and the double asterisk form is used to pass a keyworded, variable-length argument list. Create a function to find the summation of all elements of the array."
   ]
  },
  {
   "cell_type": "code",
   "execution_count": 61,
   "id": "18e1ca97",
   "metadata": {},
   "outputs": [],
   "source": [
    "array=[3,8,16]"
   ]
  },
  {
   "cell_type": "code",
   "execution_count": 72,
   "id": "b653e976",
   "metadata": {},
   "outputs": [],
   "source": [
    "def summation2(a, *args):\n",
    "    suma=sum(a, *args)\n",
    "    return suma\n",
    "  "
   ]
  },
  {
   "cell_type": "code",
   "execution_count": 73,
   "id": "1c1ec804",
   "metadata": {},
   "outputs": [
    {
     "data": {
      "text/plain": [
       "27"
      ]
     },
     "execution_count": 73,
     "metadata": {},
     "output_type": "execute_result"
    }
   ],
   "source": [
    "summation2(array)"
   ]
  },
  {
   "cell_type": "markdown",
   "id": "ee6c1ea4",
   "metadata": {},
   "source": [
    "Now do the same thing with positional arguments"
   ]
  },
  {
   "cell_type": "code",
   "execution_count": 76,
   "id": "f6c5bc42",
   "metadata": {},
   "outputs": [],
   "source": [
    "def summation3(d, *args):\n",
    "    result_3=sum(d, *args)\n",
    "    return result_3"
   ]
  },
  {
   "cell_type": "code",
   "execution_count": 77,
   "id": "626ab5df",
   "metadata": {},
   "outputs": [
    {
     "data": {
      "text/plain": [
       "27"
      ]
     },
     "execution_count": 77,
     "metadata": {},
     "output_type": "execute_result"
    }
   ],
   "source": [
    "summation3(array)"
   ]
  },
  {
   "cell_type": "markdown",
   "id": "f251cde7",
   "metadata": {},
   "source": [
    "### Given the next dictionary of M&Ms, create a function to sum all non red M&Ms.\n",
    "\n"
   ]
  },
  {
   "cell_type": "code",
   "execution_count": 81,
   "id": "710cfd34",
   "metadata": {},
   "outputs": [],
   "source": [
    "dictionary={'red':3, 'blue':8, 'green':24, 'orange':12, 'purple':10}\n"
   ]
  },
  {
   "cell_type": "code",
   "execution_count": 82,
   "id": "b2868715",
   "metadata": {},
   "outputs": [
    {
     "data": {
      "text/plain": [
       "54"
      ]
     },
     "execution_count": 82,
     "metadata": {},
     "output_type": "execute_result"
    }
   ],
   "source": [
    "sumados=0\n",
    "for key, value in dictionary.items():\n",
    "    if key != 'red':\n",
    "        sumados += value\n",
    "\n",
    "sumados\n",
    "        "
   ]
  },
  {
   "cell_type": "code",
   "execution_count": 87,
   "id": "33298af0",
   "metadata": {},
   "outputs": [
    {
     "name": "stdout",
     "output_type": "stream",
     "text": [
      "{'blue': 8, 'green': 24, 'orange': 12, 'purple': 10}\n"
     ]
    }
   ],
   "source": [
    "dict_red={}\n",
    "for i,j in dictionary.items():\n",
    "    if i != 'red':\n",
    "        dict_red[i]=j\n",
    "print(dict_red)        \n",
    "    "
   ]
  },
  {
   "cell_type": "code",
   "execution_count": 117,
   "id": "ace31a13",
   "metadata": {},
   "outputs": [],
   "source": [
    "a=4\n",
    "b=6\n",
    "c=15\n",
    "d=[48, 465, 23, 96]\n",
    "e={'A':16, 'B':32, 'C':64}\n",
    "\n",
    "def summation5(a, b, c, d, **fe):\n",
    "    result5= a+b+c+sum(d)+sum(e.values())\n",
    "    return result5"
   ]
  },
  {
   "cell_type": "code",
   "execution_count": 118,
   "id": "54f8aa3c",
   "metadata": {},
   "outputs": [
    {
     "data": {
      "text/plain": [
       "769"
      ]
     },
     "execution_count": 118,
     "metadata": {},
     "output_type": "execute_result"
    }
   ],
   "source": [
    "summation5(a, b, c, d, fe=e)"
   ]
  },
  {
   "cell_type": "markdown",
   "id": "83d5cc8b",
   "metadata": {},
   "source": [
    "## Challenge 3 - Iterators, Generators and yield.\n",
    "\n",
    "#### In iterator in Python is an object that represents a stream of data. However, iterators contain a countable number of values. We traverse through the iterator and return one value at a time. All iterators support a next function that allows us to traverse through the iterator. We can create an iterator using the iter function that comes with the base package of Python. Below is an example of an iterator."
   ]
  },
  {
   "cell_type": "code",
   "execution_count": 119,
   "id": "089d10a5",
   "metadata": {},
   "outputs": [
    {
     "name": "stdout",
     "output_type": "stream",
     "text": [
      "1\n"
     ]
    }
   ],
   "source": [
    "# We first define our iterator:\n",
    "\n",
    "iterator = iter([1,2,3])\n",
    "\n",
    "# We can now iterate through the object using the next function\n",
    "\n",
    "print(next(iterator))"
   ]
  },
  {
   "cell_type": "code",
   "execution_count": 120,
   "id": "f9d8aeed",
   "metadata": {},
   "outputs": [
    {
     "name": "stdout",
     "output_type": "stream",
     "text": [
      "2\n"
     ]
    }
   ],
   "source": [
    "print(next(iterator))"
   ]
  },
  {
   "cell_type": "code",
   "execution_count": 121,
   "id": "fe704a73",
   "metadata": {},
   "outputs": [
    {
     "name": "stdout",
     "output_type": "stream",
     "text": [
      "3\n"
     ]
    }
   ],
   "source": [
    "print(next(iterator))"
   ]
  },
  {
   "cell_type": "code",
   "execution_count": 122,
   "id": "f25b5e46",
   "metadata": {},
   "outputs": [
    {
     "ename": "StopIteration",
     "evalue": "",
     "output_type": "error",
     "traceback": [
      "\u001b[0;31m---------------------------------------------------------------------------\u001b[0m",
      "\u001b[0;31mStopIteration\u001b[0m                             Traceback (most recent call last)",
      "Input \u001b[0;32mIn [122]\u001b[0m, in \u001b[0;36m<cell line: 1>\u001b[0;34m()\u001b[0m\n\u001b[0;32m----> 1\u001b[0m \u001b[38;5;28mprint\u001b[39m(\u001b[38;5;28;43mnext\u001b[39;49m\u001b[43m(\u001b[49m\u001b[43miterator\u001b[49m\u001b[43m)\u001b[49m)\n",
      "\u001b[0;31mStopIteration\u001b[0m: "
     ]
    }
   ],
   "source": [
    "print(next(iterator))"
   ]
  },
  {
   "cell_type": "code",
   "execution_count": 123,
   "id": "0cebe1bf",
   "metadata": {},
   "outputs": [
    {
     "name": "stdout",
     "output_type": "stream",
     "text": [
      "1\n",
      "2\n",
      "3\n"
     ]
    }
   ],
   "source": [
    "# We can also iterate through an iterator using a for loop like this:\n",
    "# Note: we cannot go back directly in an iterator once we have traversed through the elements. \n",
    "# This is why we are redefining the iterator below\n",
    "\n",
    "iterator = iter([1,2,3])\n",
    "\n",
    "for i in iterator:\n",
    "    print(i)"
   ]
  },
  {
   "cell_type": "markdown",
   "id": "31d98fa4",
   "metadata": {},
   "source": [
    "##### In the cell below, write a function that takes an iterator and returns the first element in the iterator that is divisible by 2. Assume that all iterators contain only numeric data. If we have not found a single element that is divisible by 2, return zero."
   ]
  },
  {
   "cell_type": "code",
   "execution_count": 134,
   "id": "0ea194ae",
   "metadata": {},
   "outputs": [],
   "source": [
    "iterator = iter([1,2,3])\n",
    "\n",
    "def divisible2(iterator):\n",
    "    for i in iterator:\n",
    "        if i % 2 == 0:\n",
    "            return (i)"
   ]
  },
  {
   "cell_type": "code",
   "execution_count": 136,
   "id": "a09145dd",
   "metadata": {},
   "outputs": [
    {
     "data": {
      "text/plain": [
       "2"
      ]
     },
     "execution_count": 136,
     "metadata": {},
     "output_type": "execute_result"
    }
   ],
   "source": [
    "divisible2(iterator)"
   ]
  },
  {
   "cell_type": "markdown",
   "id": "0dd8b4dd",
   "metadata": {},
   "source": [
    "## Generators\n",
    "#### It is quite difficult to create your own iterator since you would have to implement a next function. Generators are functions that enable us to create iterators. The difference between a function and a generator is that instead of using return, we use yield. For example, below we have a function that returns an iterator containing the numbers 0 through n:"
   ]
  },
  {
   "cell_type": "code",
   "execution_count": 151,
   "id": "dc25f18d",
   "metadata": {},
   "outputs": [],
   "source": [
    "def firstn(n):\n",
    "     number = 0\n",
    "     while number < n:\n",
    "         yield number\n",
    "         number = number + 1"
   ]
  },
  {
   "cell_type": "code",
   "execution_count": 152,
   "id": "ebfc67bb",
   "metadata": {},
   "outputs": [
    {
     "name": "stdout",
     "output_type": "stream",
     "text": [
      "0\n",
      "1\n",
      "2\n",
      "3\n",
      "4\n"
     ]
    }
   ],
   "source": [
    "#If we pass 5 to the function, we will see that we have a iterator containing the numbers 0 through 4.\n",
    "\n",
    "iterator = firstn(5)\n",
    "\n",
    "for i in iterator:\n",
    "    print(i)\n"
   ]
  },
  {
   "cell_type": "markdown",
   "id": "4d9a4aab",
   "metadata": {},
   "source": [
    "In the cell below, create a generator that takes a number and returns an iterator containing all even numbers between 0 and the number you passed to the generator.\n"
   ]
  },
  {
   "cell_type": "code",
   "execution_count": 190,
   "id": "b8c37432",
   "metadata": {},
   "outputs": [],
   "source": [
    "def even_iterator(n): \n",
    "    for n in range(0,n):\n",
    "        if n % 2 == 0:\n",
    "            yield n\n",
    "    "
   ]
  },
  {
   "cell_type": "code",
   "execution_count": 195,
   "id": "cd9fcdad",
   "metadata": {},
   "outputs": [],
   "source": [
    "mi_generador=even_iterator(10)"
   ]
  },
  {
   "cell_type": "code",
   "execution_count": 196,
   "id": "40a03d78",
   "metadata": {},
   "outputs": [
    {
     "name": "stdout",
     "output_type": "stream",
     "text": [
      "0\n",
      "2\n",
      "4\n",
      "6\n",
      "8\n"
     ]
    }
   ],
   "source": [
    "for i in mi_generador:\n",
    "    print(i)"
   ]
  },
  {
   "cell_type": "code",
   "execution_count": null,
   "id": "09d674eb",
   "metadata": {},
   "outputs": [],
   "source": []
  }
 ],
 "metadata": {
  "kernelspec": {
   "display_name": "Python 3 (ipykernel)",
   "language": "python",
   "name": "python3"
  },
  "language_info": {
   "codemirror_mode": {
    "name": "ipython",
    "version": 3
   },
   "file_extension": ".py",
   "mimetype": "text/x-python",
   "name": "python",
   "nbconvert_exporter": "python",
   "pygments_lexer": "ipython3",
   "version": "3.9.12"
  }
 },
 "nbformat": 4,
 "nbformat_minor": 5
}
