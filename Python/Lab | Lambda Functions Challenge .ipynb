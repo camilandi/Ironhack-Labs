{
 "cells": [
  {
   "cell_type": "markdown",
   "id": "c1072db4",
   "metadata": {},
   "source": [
    "### Challenge 1 - Passing a Lambda Expression to a Function\n",
    "In the next excercise you will create a function that returns a lambda expression. Create a function called modify_list. The function takes two arguments, a list and a lambda expression. The function iterates through the list and applies the lambda expression to every element in the list."
   ]
  },
  {
   "cell_type": "code",
   "execution_count": 121,
   "id": "1393ee69",
   "metadata": {},
   "outputs": [],
   "source": [
    "l = [1,2,3,4,5]\n",
    "f = lambda x: x+5\n",
    "b = []\n",
    "\n",
    "def modify_list(a, y):\n",
    "    for x in a:\n",
    "        b.append(y(x))\n",
    "        \n",
    "modify_list(l,f)        \n",
    "\n",
    "#Call modify_list(##,##)\n",
    "#print b"
   ]
  },
  {
   "cell_type": "code",
   "execution_count": 122,
   "id": "03e7e030",
   "metadata": {},
   "outputs": [
    {
     "name": "stdout",
     "output_type": "stream",
     "text": [
      "[6, 7, 8, 9, 10]\n"
     ]
    }
   ],
   "source": [
    "print(b)"
   ]
  },
  {
   "cell_type": "markdown",
   "id": "2bb8ffa0",
   "metadata": {},
   "source": [
    "Now we will define a lambda expression that will transform the elements of the list.\n",
    "In the cell below, create a lambda expression that converts Celsius to Kelvin. Recall that 0°C + 273.15 = 273.15K\n",
    "\n",
    "0°C + 273.15 = 273.15K"
   ]
  },
  {
   "cell_type": "code",
   "execution_count": 30,
   "id": "75ddead0",
   "metadata": {},
   "outputs": [],
   "source": [
    "kelvin = lambda c: c+273.15"
   ]
  },
  {
   "cell_type": "code",
   "execution_count": 123,
   "id": "e07b31d0",
   "metadata": {},
   "outputs": [
    {
     "data": {
      "text/plain": [
       "283.15"
      ]
     },
     "execution_count": 123,
     "metadata": {},
     "output_type": "execute_result"
    }
   ],
   "source": [
    "kelvin(10)"
   ]
  },
  {
   "cell_type": "code",
   "execution_count": 33,
   "id": "67000831",
   "metadata": {},
   "outputs": [],
   "source": [
    "c=[]\n",
    "\n",
    "for i in l:\n",
    "    c.append(kelvin(i))\n",
    "    \n",
    "    "
   ]
  },
  {
   "cell_type": "code",
   "execution_count": 34,
   "id": "ca745a32",
   "metadata": {},
   "outputs": [
    {
     "name": "stdout",
     "output_type": "stream",
     "text": [
      "[274.15, 275.15, 276.15, 277.15, 278.15]\n"
     ]
    }
   ],
   "source": [
    "print(c)"
   ]
  },
  {
   "cell_type": "code",
   "execution_count": 36,
   "id": "f2edb23f",
   "metadata": {},
   "outputs": [],
   "source": [
    "temps = [12, 23, 38, -55, 24]"
   ]
  },
  {
   "cell_type": "code",
   "execution_count": 37,
   "id": "f0fa6a57",
   "metadata": {},
   "outputs": [],
   "source": [
    "new_kelvin = []\n",
    "\n",
    "for i in temps:\n",
    "    new_kelvin.append(kelvin(i))"
   ]
  },
  {
   "cell_type": "code",
   "execution_count": 38,
   "id": "9b06baca",
   "metadata": {},
   "outputs": [
    {
     "data": {
      "text/plain": [
       "[285.15, 296.15, 311.15, 218.14999999999998, 297.15]"
      ]
     },
     "execution_count": 38,
     "metadata": {},
     "output_type": "execute_result"
    }
   ],
   "source": [
    "new_kelvin"
   ]
  },
  {
   "cell_type": "markdown",
   "id": "be195279",
   "metadata": {},
   "source": [
    "In this part, we will define a function that returns a lambda expression\n",
    "In the cell below, write a lambda expression that takes two numbers and returns 1 if one is divisible by the other and zero otherwise. Call the lambda expression mod."
   ]
  },
  {
   "cell_type": "code",
   "execution_count": 259,
   "id": "c8baacbd",
   "metadata": {},
   "outputs": [
    {
     "data": {
      "text/plain": [
       "1"
      ]
     },
     "execution_count": 259,
     "metadata": {},
     "output_type": "execute_result"
    }
   ],
   "source": [
    "mod = lambda a,b: 1 if (a%b == 0) or (b%a ==0) else 0\n",
    "\n",
    "mod(47,47)"
   ]
  },
  {
   "cell_type": "code",
   "execution_count": 52,
   "id": "65d2a2a5",
   "metadata": {},
   "outputs": [],
   "source": [
    "def my_function (a,b):\n",
    "\n",
    "    return mod"
   ]
  },
  {
   "cell_type": "markdown",
   "id": "a069c4f3",
   "metadata": {},
   "source": [
    "Now create a function that returns mod. The function only takes one argument - the first number in the mod lambda function.\n",
    "Note: the lambda function above took two arguments, the lambda function in the return statement only takes one argument but also uses the argument passed to the function.\n"
   ]
  },
  {
   "cell_type": "code",
   "execution_count": 111,
   "id": "d3a66180",
   "metadata": {},
   "outputs": [],
   "source": [
    "def divisor(j): \n",
    "    \n",
    "    y = float(input('insert a number: '))\n",
    "    \n",
    "    return mod(j,y)\n",
    "\n"
   ]
  },
  {
   "cell_type": "code",
   "execution_count": 112,
   "id": "863fb45e",
   "metadata": {},
   "outputs": [
    {
     "name": "stdout",
     "output_type": "stream",
     "text": [
      "insert a number: 10\n"
     ]
    },
    {
     "data": {
      "text/plain": [
       "1"
      ]
     },
     "execution_count": 112,
     "metadata": {},
     "output_type": "execute_result"
    }
   ],
   "source": [
    "divisor(5)"
   ]
  },
  {
   "cell_type": "code",
   "execution_count": 127,
   "id": "0659af4d",
   "metadata": {},
   "outputs": [],
   "source": [
    "def divisible5(i): \n",
    "    \n",
    "    return divisor(5)\n",
    "\n",
    "\n",
    "    "
   ]
  },
  {
   "cell_type": "code",
   "execution_count": 128,
   "id": "b11d7d76",
   "metadata": {},
   "outputs": [
    {
     "name": "stdout",
     "output_type": "stream",
     "text": [
      "insert a number: 45\n"
     ]
    },
    {
     "data": {
      "text/plain": [
       "1"
      ]
     },
     "execution_count": 128,
     "metadata": {},
     "output_type": "execute_result"
    }
   ],
   "source": [
    "divisible5(4)\n"
   ]
  },
  {
   "cell_type": "code",
   "execution_count": 129,
   "id": "8c1ef990",
   "metadata": {},
   "outputs": [
    {
     "name": "stdout",
     "output_type": "stream",
     "text": [
      "insert a number: 6\n"
     ]
    },
    {
     "data": {
      "text/plain": [
       "0"
      ]
     },
     "execution_count": 129,
     "metadata": {},
     "output_type": "execute_result"
    }
   ],
   "source": [
    "divisible5(11)"
   ]
  },
  {
   "cell_type": "markdown",
   "id": "0bda9b9f",
   "metadata": {},
   "source": [
    "## Challenge 2 - Using Lambda Expressions in List Comprehensions"
   ]
  },
  {
   "cell_type": "markdown",
   "id": "bddb899f",
   "metadata": {},
   "source": [
    "In the following challenge, we will combine two lists using a lambda expression in a list comprehension.\n",
    "\n",
    "To do this, we will need to introduce the zip function. The zip function returns an iterator of tuples.\n",
    "\n",
    "The way zip function works with list has been shown below:"
   ]
  },
  {
   "cell_type": "code",
   "execution_count": 205,
   "id": "2eeaa3b2",
   "metadata": {},
   "outputs": [
    {
     "data": {
      "text/plain": [
       "[('Green', 'eggs'),\n",
       " ('cheese', 'cheese'),\n",
       " ('English', 'cucumber'),\n",
       " ('tomato', 'tomato')]"
      ]
     },
     "execution_count": 205,
     "metadata": {},
     "output_type": "execute_result"
    }
   ],
   "source": [
    "list1 = ['Green', 'cheese', 'English', 'tomato']\n",
    "list2 = ['eggs', 'cheese', 'cucumber', 'tomato']\n",
    "zipped = zip(list1,list2)\n",
    "list(zipped)"
   ]
  },
  {
   "cell_type": "markdown",
   "id": "6816777c",
   "metadata": {},
   "source": [
    "In this exercise we will try to compare the elements on the same index in the two lists. We want to zip the two lists and then use a lambda expression to compare if: list1 element > list2 element"
   ]
  },
  {
   "cell_type": "code",
   "execution_count": 139,
   "id": "16cc32a4",
   "metadata": {},
   "outputs": [],
   "source": [
    "list1 = [1,2,3,4]\n",
    "list2 = [2,3,4,5]\n",
    "## Zip the lists together \n",
    "## Print the zipped list "
   ]
  },
  {
   "cell_type": "code",
   "execution_count": 140,
   "id": "ef8ecb6f",
   "metadata": {},
   "outputs": [
    {
     "name": "stdout",
     "output_type": "stream",
     "text": [
      "False\n",
      "False\n",
      "False\n",
      "False\n"
     ]
    }
   ],
   "source": [
    "compare = lambda i,j: print(\"True\") if i>j else print(\"False\")\n",
    "for i,j in zip(list1,list2):\n",
    "    compare(i,j)\n",
    "    \n",
    " "
   ]
  },
  {
   "cell_type": "markdown",
   "id": "d8a3c995",
   "metadata": {},
   "source": [
    "## Challenge 3 - Using Lambda Expressions as Arguments\n",
    "\n",
    "In this challenge, we will zip together two lists and sort by the resulting tuple.\n",
    "In the cell below, take the two lists provided, zip them together and sort by the first letter of the second element of each tuple. Do this using a lambda function.\n",
    "\n"
   ]
  },
  {
   "cell_type": "code",
   "execution_count": 277,
   "id": "238e24d2",
   "metadata": {},
   "outputs": [],
   "source": [
    "list1 = ['Engineering', 'Computer Science', 'Political Science', 'Mathematics']\n",
    "list2 = ['Lab', 'Homework', 'Essay', 'Module']\n"
   ]
  },
  {
   "cell_type": "code",
   "execution_count": 278,
   "id": "11b5edb9",
   "metadata": {},
   "outputs": [
    {
     "data": {
      "text/plain": [
       "[('Homework', 'Computer Science'),\n",
       " ('Lab', 'Engineering'),\n",
       " ('Module', 'Mathematics'),\n",
       " ('Essay', 'Political Science')]"
      ]
     },
     "execution_count": 278,
     "metadata": {},
     "output_type": "execute_result"
    }
   ],
   "source": [
    "arranged(d)\n",
    "\n",
    "zipped.sort(key=lambda x:x[1])\n",
    "zipped"
   ]
  },
  {
   "cell_type": "markdown",
   "id": "f939fe53",
   "metadata": {},
   "source": [
    "Bonus Challenge - Sort a Dictionary by Values\n",
    "Given the dictionary below, sort it by values rather than by keys. Use a lambda function to specify the values as a sorting key."
   ]
  },
  {
   "cell_type": "code",
   "execution_count": 280,
   "id": "e286e789",
   "metadata": {},
   "outputs": [],
   "source": [
    "f = {'Honda': 1997, 'Toyota': 1995, 'Audi': 2001, 'BMW': 2005}\n",
    "\n"
   ]
  },
  {
   "cell_type": "code",
   "execution_count": 281,
   "id": "f128fe6d",
   "metadata": {},
   "outputs": [
    {
     "ename": "TypeError",
     "evalue": "'NoneType' object is not callable",
     "output_type": "error",
     "traceback": [
      "\u001b[0;31m---------------------------------------------------------------------------\u001b[0m",
      "\u001b[0;31mTypeError\u001b[0m                                 Traceback (most recent call last)",
      "Input \u001b[0;32mIn [281]\u001b[0m, in \u001b[0;36m<cell line: 1>\u001b[0;34m()\u001b[0m\n\u001b[0;32m----> 1\u001b[0m sorted_d \u001b[38;5;241m=\u001b[39m \u001b[38;5;28mdict\u001b[39m(\u001b[38;5;28;43msorted\u001b[39;49m\u001b[43m(\u001b[49m\u001b[43mf\u001b[49m\u001b[38;5;241;43m.\u001b[39;49m\u001b[43mitems\u001b[49m\u001b[43m(\u001b[49m\u001b[43m)\u001b[49m\u001b[43m,\u001b[49m\u001b[43m \u001b[49m\u001b[43mkey\u001b[49m\u001b[38;5;241;43m=\u001b[39;49m\u001b[43m \u001b[49m\u001b[38;5;28;43;01mlambda\u001b[39;49;00m\u001b[43m \u001b[49m\u001b[43mx\u001b[49m\u001b[43m:\u001b[49m\u001b[43m \u001b[49m\u001b[43mx\u001b[49m\u001b[43m[\u001b[49m\u001b[38;5;241;43m1\u001b[39;49m\u001b[43m]\u001b[49m\u001b[43m)\u001b[49m) \n\u001b[1;32m      2\u001b[0m \u001b[38;5;28mprint\u001b[39m(sorted_d)\n",
      "\u001b[0;31mTypeError\u001b[0m: 'NoneType' object is not callable"
     ]
    }
   ],
   "source": [
    "sorted_d = dict(sorted(f.items(), key= lambda x: x[1])) \n",
    "print(sorted_d)"
   ]
  },
  {
   "cell_type": "code",
   "execution_count": null,
   "id": "20188062",
   "metadata": {},
   "outputs": [],
   "source": []
  }
 ],
 "metadata": {
  "kernelspec": {
   "display_name": "Python 3 (ipykernel)",
   "language": "python",
   "name": "python3"
  },
  "language_info": {
   "codemirror_mode": {
    "name": "ipython",
    "version": 3
   },
   "file_extension": ".py",
   "mimetype": "text/x-python",
   "name": "python",
   "nbconvert_exporter": "python",
   "pygments_lexer": "ipython3",
   "version": "3.9.12"
  }
 },
 "nbformat": 4,
 "nbformat_minor": 5
}
