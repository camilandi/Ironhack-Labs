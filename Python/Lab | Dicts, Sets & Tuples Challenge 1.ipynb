{
 "cells": [
  {
   "cell_type": "markdown",
   "id": "34aae321",
   "metadata": {},
   "source": [
    "Challenge 1: Tuples\n",
    "Do you know you can create tuples with only one element?\n",
    "In the cell below, define a variable tup with a single element \"I\".\n",
    "\n",
    "Hint: you need to add a comma (,) after the single element."
   ]
  },
  {
   "cell_type": "code",
   "execution_count": 3,
   "id": "3ac97c77",
   "metadata": {},
   "outputs": [],
   "source": [
    "tup=('i',)"
   ]
  },
  {
   "cell_type": "code",
   "execution_count": 4,
   "id": "4c9c3025",
   "metadata": {},
   "outputs": [
    {
     "data": {
      "text/plain": [
       "tuple"
      ]
     },
     "execution_count": 4,
     "metadata": {},
     "output_type": "execute_result"
    }
   ],
   "source": [
    "type(tup)"
   ]
  },
  {
   "cell_type": "markdown",
   "id": "a3c920cf",
   "metadata": {},
   "source": [
    "Now try to append the following elements to tup.\n",
    "Are you able to do it? Explain."
   ]
  },
  {
   "cell_type": "code",
   "execution_count": 8,
   "id": "39e206f9",
   "metadata": {},
   "outputs": [
    {
     "ename": "SyntaxError",
     "evalue": "invalid syntax (464345826.py, line 1)",
     "output_type": "error",
     "traceback": [
      "\u001b[0;36m  Input \u001b[0;32mIn [8]\u001b[0;36m\u001b[0m\n\u001b[0;31m    append.tup\"r\", \"o\", \"n\", \"h\", \"a\", \"c\", \"k',)\u001b[0m\n\u001b[0m              ^\u001b[0m\n\u001b[0;31mSyntaxError\u001b[0m\u001b[0;31m:\u001b[0m invalid syntax\n"
     ]
    }
   ],
   "source": [
    "append.tup\"r\", \"o\", \"n\", \"h\", \"a\", \"c\", \"k',)"
   ]
  },
  {
   "cell_type": "markdown",
   "id": "c0734d4f",
   "metadata": {},
   "source": [
    "No se puede append a un tuple"
   ]
  },
  {
   "cell_type": "code",
   "execution_count": 9,
   "id": "70b23ad0",
   "metadata": {},
   "outputs": [],
   "source": [
    "tup=(\"I\", \"r\", \"o\", \"n\", \"h\", \"a\", \"c\", \"k\")"
   ]
  },
  {
   "cell_type": "code",
   "execution_count": 10,
   "id": "9854c76f",
   "metadata": {},
   "outputs": [
    {
     "name": "stdout",
     "output_type": "stream",
     "text": [
      "('I', 'r', 'o', 'n', 'h', 'a', 'c', 'k')\n"
     ]
    }
   ],
   "source": [
    "print(tup)"
   ]
  },
  {
   "cell_type": "code",
   "execution_count": 27,
   "id": "f5aa1208",
   "metadata": {},
   "outputs": [],
   "source": [
    "tup1 = tup[0:4]"
   ]
  },
  {
   "cell_type": "code",
   "execution_count": 26,
   "id": "c0875c65",
   "metadata": {},
   "outputs": [
    {
     "name": "stdout",
     "output_type": "stream",
     "text": [
      "('I', 'r', 'o', 'n')\n"
     ]
    }
   ],
   "source": [
    "print(tup1)"
   ]
  },
  {
   "cell_type": "code",
   "execution_count": 28,
   "id": "537f59a2",
   "metadata": {},
   "outputs": [
    {
     "name": "stdout",
     "output_type": "stream",
     "text": [
      "('h', 'a', 'c', 'k')\n"
     ]
    }
   ],
   "source": [
    "tup2 = tup [-4:]\n",
    "print(tup2)"
   ]
  },
  {
   "cell_type": "code",
   "execution_count": 29,
   "id": "f3fdc850",
   "metadata": {},
   "outputs": [],
   "source": [
    "tup3 = tup1 + tup2"
   ]
  },
  {
   "cell_type": "code",
   "execution_count": 30,
   "id": "8dfaa570",
   "metadata": {},
   "outputs": [
    {
     "name": "stdout",
     "output_type": "stream",
     "text": [
      "True\n"
     ]
    }
   ],
   "source": [
    "print(tup == tup3)"
   ]
  },
  {
   "cell_type": "code",
   "execution_count": 31,
   "id": "1ea2ae40",
   "metadata": {},
   "outputs": [],
   "source": [
    "lenoftwo = len(tup1) + len(tup2)"
   ]
  },
  {
   "cell_type": "code",
   "execution_count": 32,
   "id": "6a9bb923",
   "metadata": {},
   "outputs": [
    {
     "name": "stdout",
     "output_type": "stream",
     "text": [
      "8\n"
     ]
    }
   ],
   "source": [
    "print(lenoftwo)"
   ]
  },
  {
   "cell_type": "code",
   "execution_count": 33,
   "id": "1baf6896",
   "metadata": {
    "scrolled": true
   },
   "outputs": [
    {
     "data": {
      "text/plain": [
       "8"
      ]
     },
     "execution_count": 33,
     "metadata": {},
     "output_type": "execute_result"
    }
   ],
   "source": [
    "len(tup3)"
   ]
  },
  {
   "cell_type": "code",
   "execution_count": 34,
   "id": "1a73ccdf",
   "metadata": {},
   "outputs": [
    {
     "data": {
      "text/plain": [
       "True"
      ]
     },
     "execution_count": 34,
     "metadata": {},
     "output_type": "execute_result"
    }
   ],
   "source": [
    "lenoftwo == len(tup3)"
   ]
  },
  {
   "cell_type": "code",
   "execution_count": 36,
   "id": "4c122eb9",
   "metadata": {},
   "outputs": [
    {
     "data": {
      "text/plain": [
       "4"
      ]
     },
     "execution_count": 36,
     "metadata": {},
     "output_type": "execute_result"
    }
   ],
   "source": [
    "tup3.index('h')"
   ]
  },
  {
   "cell_type": "code",
   "execution_count": 41,
   "id": "20b7bcd7",
   "metadata": {},
   "outputs": [
    {
     "name": "stdout",
     "output_type": "stream",
     "text": [
      "True\n",
      "False\n",
      "True\n",
      "False\n",
      "False\n"
     ]
    }
   ],
   "source": [
    "letters = [\"a\", \"b\", \"c\", \"d\", \"e\"]\n",
    "\n",
    "for i in letters:\n",
    "    if i in tup3:\n",
    "        print(True)\n",
    "    else:\n",
    "        print(False)\n",
    "    "
   ]
  },
  {
   "cell_type": "code",
   "execution_count": 65,
   "id": "cea32e73",
   "metadata": {},
   "outputs": [
    {
     "name": "stdout",
     "output_type": "stream",
     "text": [
      "La letra a se repite 1 veces\n",
      "La letra b se repite 0 veces\n",
      "La letra c se repite 1 veces\n",
      "La letra d se repite 0 veces\n",
      "La letra e se repite 0 veces\n"
     ]
    }
   ],
   "source": [
    "def countX(tup3, x):\n",
    "    count = 0\n",
    "    for i in tup3:\n",
    "        #print('esto no es el if',i,x)\n",
    "        if (i == x):\n",
    "            #print(i,x)\n",
    "            count = count + 1\n",
    "    return count\n",
    "for i in letters:\n",
    "    print('La letra',i,'se repite',countX(tup3,i),'veces')\n"
   ]
  },
  {
   "cell_type": "code",
   "execution_count": 64,
   "id": "8d26a0eb",
   "metadata": {},
   "outputs": [
    {
     "name": "stdout",
     "output_type": "stream",
     "text": [
      "{'a': 1, 'b': 0, 'c': 1, 'd': 0, 'e': 0}\n"
     ]
    }
   ],
   "source": [
    "print({i:tup3.count(i) for i in letters})"
   ]
  },
  {
   "cell_type": "code",
   "execution_count": null,
   "id": "82bdf19e",
   "metadata": {},
   "outputs": [],
   "source": []
  }
 ],
 "metadata": {
  "kernelspec": {
   "display_name": "Python 3",
   "language": "python",
   "name": "python3"
  },
  "language_info": {
   "codemirror_mode": {
    "name": "ipython",
    "version": 3
   },
   "file_extension": ".py",
   "mimetype": "text/x-python",
   "name": "python",
   "nbconvert_exporter": "python",
   "pygments_lexer": "ipython3",
   "version": "3.9.12"
  }
 },
 "nbformat": 4,
 "nbformat_minor": 5
}
