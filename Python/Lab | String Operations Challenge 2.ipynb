{
 "cells": [
  {
   "cell_type": "code",
   "execution_count": 43,
   "id": "357bfe34",
   "metadata": {},
   "outputs": [],
   "source": [
    "docs = ['doc1.txt', 'doc2.txt', 'doc3.txt']\n"
   ]
  },
  {
   "cell_type": "code",
   "execution_count": 44,
   "id": "f193f929",
   "metadata": {},
   "outputs": [],
   "source": [
    "corpus = []\n"
   ]
  },
  {
   "cell_type": "code",
   "execution_count": 45,
   "id": "fe70e246",
   "metadata": {},
   "outputs": [],
   "source": [
    "import pandas as pd\n",
    "import os"
   ]
  },
  {
   "cell_type": "code",
   "execution_count": 46,
   "id": "d28fc486",
   "metadata": {},
   "outputs": [
    {
     "name": "stdout",
     "output_type": "stream",
     "text": [
      "['Ironhack is cool.', 'I am a student at Ironhack.', 'I love Ironhack.']\n"
     ]
    }
   ],
   "source": [
    "corpus=[]\n",
    "\n",
    "for Filename in os.listdir('./'):\n",
    "    if Filename.endswith('.txt'):\n",
    "        with open(Filename,'r') as f: ### esta linea es abre cada archivo txt y leelo para sacar su content\n",
    "            content=f.readline()\n",
    "        corpus.append(content)\n",
    "print(corpus)"
   ]
  },
  {
   "cell_type": "code",
   "execution_count": 47,
   "id": "8359cb7f",
   "metadata": {},
   "outputs": [],
   "source": [
    "#Write your code below to process corpus (convert to lower case and remove special characters).\n"
   ]
  },
  {
   "cell_type": "code",
   "execution_count": 64,
   "id": "49ed9c2f",
   "metadata": {},
   "outputs": [
    {
     "name": "stdout",
     "output_type": "stream",
     "text": [
      "['ironhack is cool', 'i am a student at ironhack', 'i love ironhack']\n"
     ]
    }
   ],
   "source": [
    "corpus_clean=[(lambda i: i.lower().strip('\\.')) (i) for i in corpus] \n",
    "print(corpus_clean)"
   ]
  },
  {
   "cell_type": "code",
   "execution_count": 65,
   "id": "0adff29a",
   "metadata": {},
   "outputs": [],
   "source": [
    "#Now define bag_of_words as an empty array. It will be used to store the unique terms in corpus.\n"
   ]
  },
  {
   "cell_type": "code",
   "execution_count": 66,
   "id": "5b88de51",
   "metadata": {},
   "outputs": [],
   "source": [
    "bag_of_words=[]"
   ]
  },
  {
   "cell_type": "code",
   "execution_count": 67,
   "id": "7033f402",
   "metadata": {},
   "outputs": [
    {
     "name": "stdout",
     "output_type": "stream",
     "text": [
      "['ironhack', 'is', 'cool', 'i', 'am', 'a', 'student', 'at', 'love']\n"
     ]
    }
   ],
   "source": [
    "#Loop through corpus. In each loop, do the following:\n",
    "#Break the string into an array of terms.\n",
    "#Create a sub-loop to iterate the terms array.\n",
    "#In each sub-loop, you'll check if the current term is already contained in bag_of_words. \n",
    "#If not in bag_of_words, append it to the array.\n",
    "\n",
    "for i in corpus_clean:\n",
    "    terms = i.split(' ')\n",
    "    for word in terms:\n",
    "        if word not in bag_of_words:\n",
    "            bag_of_words.append(word)\n",
    "            \n",
    "            \n",
    "print(bag_of_words)"
   ]
  },
  {
   "cell_type": "markdown",
   "id": "f78a60c5",
   "metadata": {},
   "source": [
    "Now we define an empty array called term_freq. Loop corpus for a second time. In each loop, create a sub-loop to iterate the terms in bag_of_words.\n",
    "Count how many times each term appears in each doc of corpus. Append the term-frequency array to term_freq.\n"
   ]
  },
  {
   "cell_type": "code",
   "execution_count": 68,
   "id": "8eb17310",
   "metadata": {},
   "outputs": [
    {
     "name": "stdout",
     "output_type": "stream",
     "text": [
      "['ironhack', 'is', 'cool', 'i', 'am', 'a', 'student', 'at', 'love']\n"
     ]
    }
   ],
   "source": [
    "print(bag_of_words)"
   ]
  },
  {
   "cell_type": "code",
   "execution_count": 72,
   "id": "1a0c40b0",
   "metadata": {},
   "outputs": [
    {
     "name": "stdout",
     "output_type": "stream",
     "text": [
      "[[1, 1, 1, 1, 0, 1, 0, 0, 0], [1, 0, 0, 1, 1, 1, 1, 1, 0], [1, 0, 0, 1, 0, 1, 0, 0, 1]]\n"
     ]
    }
   ],
   "source": [
    "ter_freq=[]\n",
    "\n",
    "count=0\n",
    "    \n",
    "for i in corpus_clean:\n",
    "    tf=[] \n",
    "    count=0 \n",
    "    for j in bag_of_words:\n",
    "        if j in i:\n",
    "            tf.append(count+1) \n",
    "        else:\n",
    "            tf.append(0)\n",
    "    \n",
    "    ter_freq.append(tf)\n",
    "\n",
    "print(ter_freq)"
   ]
  },
  {
   "cell_type": "markdown",
   "id": "71f07d23",
   "metadata": {},
   "source": [
    "Bonus Question\n",
    "Optimize your solution for the above question by removing stop words from the BoW. For your convenience, a list of stop words is defined for you in the next cell.\n",
    "\n",
    "Requirements:\n",
    "\n",
    "Combine all your previous codes to the cell below.\n",
    "Improve your solution by ignoring stop words in bag_of_words.\n",
    "After you're done, your bag_of_words should be:\n",
    "\n",
    "['ironhack', 'cool', 'love', 'student']\n",
    "\n",
    "And your term_freq should be:\n",
    "\n",
    "[[1, 1, 0, 0], [1, 0, 1, 0], [1, 0, 0, 1]]"
   ]
  },
  {
   "cell_type": "code",
   "execution_count": 75,
   "id": "ea0f29f5",
   "metadata": {},
   "outputs": [
    {
     "name": "stdout",
     "output_type": "stream",
     "text": [
      "['ironhack', 'cool', 'student', 'love']\n"
     ]
    }
   ],
   "source": [
    "stop_words = ['all', 'six', 'less', 'being', 'indeed', 'over', 'move', 'anyway', 'fifty', 'four', 'not', 'own', 'through', 'yourselves', 'go', 'where', 'mill', 'only', 'find', 'before', 'one', 'whose', 'system', 'how', 'somewhere', 'with', 'thick', 'show', 'had', 'enough', 'should', 'to', 'must', 'whom', 'seeming', 'under', 'ours', 'has', 'might', 'thereafter', 'latterly', 'do', 'them', 'his', 'around', 'than', 'get', 'very', 'de', 'none', 'cannot', 'every', 'whether', 'they', 'front', 'during', 'thus', 'now', 'him', 'nor', 'name', 'several', 'hereafter', 'always', 'who', 'cry', 'whither', 'this', 'someone', 'either', 'each', 'become', 'thereupon', 'sometime', 'side', 'two', 'therein', 'twelve', 'because', 'often', 'ten', 'our', 'eg', 'some', 'back', 'up', 'namely', 'towards', 'are', 'further', 'beyond', 'ourselves', 'yet', 'out', 'even', 'will', 'what', 'still', 'for', 'bottom', 'mine', 'since', 'please', 'forty', 'per', 'its', 'everything', 'behind', 'un', 'above', 'between', 'it', 'neither', 'seemed', 'ever', 'across', 'she', 'somehow', 'be', 'we', 'full', 'never', 'sixty', 'however', 'here', 'otherwise', 'were', 'whereupon', 'nowhere', 'although', 'found', 'alone', 're', 'along', 'fifteen', 'by', 'both', 'about', 'last', 'would', 'anything', 'via', 'many', 'could', 'thence', 'put', 'against', 'keep', 'etc', 'amount', 'became', 'ltd', 'hence', 'onto', 'or', 'con', 'among', 'already', 'co', 'afterwards', 'formerly', 'within', 'seems', 'into', 'others', 'while', 'whatever', 'except', 'down', 'hers', 'everyone', 'done', 'least', 'another', 'whoever', 'moreover', 'couldnt', 'throughout', 'anyhow', 'yourself', 'three', 'from', 'her', 'few', 'together', 'top', 'there', 'due', 'been', 'next', 'anyone', 'eleven', 'much', 'call', 'therefore', 'interest', 'then', 'thru', 'themselves', 'hundred', 'was', 'sincere', 'empty', 'more', 'himself', 'elsewhere', 'mostly', 'on', 'fire', 'am', 'becoming', 'hereby', 'amongst', 'else', 'part', 'everywhere', 'too', 'herself', 'former', 'those', 'he', 'me', 'myself', 'made', 'twenty', 'these', 'bill', 'cant', 'us', 'until', 'besides', 'nevertheless', 'below', 'anywhere', 'nine', 'can', 'of', 'your', 'toward', 'my', 'something', 'and', 'whereafter', 'whenever', 'give', 'almost', 'wherever', 'is', 'describe', 'beforehand', 'herein', 'an', 'as', 'itself', 'at', 'have', 'in', 'seem', 'whence', 'ie', 'any', 'fill', 'again', 'hasnt', 'inc', 'thereby', 'thin', 'no', 'perhaps', 'latter', 'meanwhile', 'when', 'detail', 'same', 'wherein', 'beside', 'also', 'that', 'other', 'take', 'which', 'becomes', 'you', 'if', 'nobody', 'see', 'though', 'may', 'after', 'upon', 'most', 'hereupon', 'eight', 'but', 'serious', 'nothing', 'such', 'why', 'a', 'off', 'whereby', 'third', 'i', 'whole', 'noone', 'sometimes', 'well', 'amoungst', 'yours', 'their', 'rather', 'without', 'so', 'five', 'the', 'first', 'whereas', 'once']\n",
    "\n",
    "withoutsw = []\n",
    "\n",
    "for i in bag_of_words:\n",
    "    if i not in stop_words:\n",
    "        withoutsw.append(i)\n",
    "print(withoutsw)\n",
    "        "
   ]
  },
  {
   "cell_type": "code",
   "execution_count": 78,
   "id": "58112b04",
   "metadata": {},
   "outputs": [],
   "source": [
    "new_tf=[]\n",
    "\n",
    "count=0\n",
    "    \n",
    "for i in corpus_clean:\n",
    "    tf2=[] \n",
    "    count=0 \n",
    "    for j in withoutsw:\n",
    "        if j in i:\n",
    "            tf2.append(count+1) \n",
    "        else:\n",
    "            tf2.append(0)\n",
    "    \n",
    "    new_tf.append(tf2)\n"
   ]
  },
  {
   "cell_type": "code",
   "execution_count": 80,
   "id": "d2b5e145",
   "metadata": {},
   "outputs": [
    {
     "name": "stdout",
     "output_type": "stream",
     "text": [
      "[[1, 1, 0, 0], [1, 0, 1, 0], [1, 0, 0, 1]]\n"
     ]
    }
   ],
   "source": [
    "print(new_tf)"
   ]
  }
 ],
 "metadata": {
  "kernelspec": {
   "display_name": "Python 3 (ipykernel)",
   "language": "python",
   "name": "python3"
  },
  "language_info": {
   "codemirror_mode": {
    "name": "ipython",
    "version": 3
   },
   "file_extension": ".py",
   "mimetype": "text/x-python",
   "name": "python",
   "nbconvert_exporter": "python",
   "pygments_lexer": "ipython3",
   "version": "3.9.12"
  }
 },
 "nbformat": 4,
 "nbformat_minor": 5
}
