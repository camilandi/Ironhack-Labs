{
 "cells": [
  {
   "cell_type": "code",
   "execution_count": 2,
   "id": "72acba85",
   "metadata": {},
   "outputs": [],
   "source": [
    "%load_ext sql"
   ]
  },
  {
   "cell_type": "code",
   "execution_count": 3,
   "id": "ce03ee74",
   "metadata": {},
   "outputs": [],
   "source": [
    "%sql sqlite:///CARS.db"
   ]
  },
  {
   "cell_type": "code",
   "execution_count": 4,
   "id": "59fb461f",
   "metadata": {},
   "outputs": [
    {
     "name": "stdout",
     "output_type": "stream",
     "text": [
      " * sqlite:///CARS.db\n",
      "(sqlite3.OperationalError) table cars already exists\n",
      "[SQL: CREATE TABLE cars(VIN VARCHAR(40), Manufacturer VARCHAR(20), Model VARCHAR(40), Year TINYINT(4),color CHAR(10))]\n",
      "(Background on this error at: https://sqlalche.me/e/14/e3q8)\n"
     ]
    }
   ],
   "source": [
    "%sql CREATE TABLE cars(VIN VARCHAR(40), Manufacturer VARCHAR(20), Model VARCHAR(40), Year TINYINT(4),color CHAR(10))"
   ]
  },
  {
   "cell_type": "code",
   "execution_count": 5,
   "id": "9ab92301",
   "metadata": {},
   "outputs": [
    {
     "name": "stdout",
     "output_type": "stream",
     "text": [
      " * sqlite:///CARS.db\n",
      "(sqlite3.OperationalError) table Custumers already exists\n",
      "[SQL: CREATE TABLE Custumers(Custumer_id CHAR(6), Name VARCHAR(40), Phone VARCHAR(20), Email VARCHAR(40),Address VARCHAR(60), City VARCHAR(20), State VARCHAR (20), Country VARCHAR (20), ZIP VARCHAR(10))]\n",
      "(Background on this error at: https://sqlalche.me/e/14/e3q8)\n"
     ]
    }
   ],
   "source": [
    "%sql CREATE TABLE Custumers(Custumer_id CHAR(6), Name VARCHAR(40), Phone VARCHAR(20), Email VARCHAR(40),Address VARCHAR(60), City VARCHAR(20), State VARCHAR (20), Country VARCHAR (20), ZIP VARCHAR(10))"
   ]
  },
  {
   "cell_type": "code",
   "execution_count": 6,
   "id": "4896160a",
   "metadata": {},
   "outputs": [
    {
     "name": "stdout",
     "output_type": "stream",
     "text": [
      " * sqlite:///CARS.db\n",
      "(sqlite3.OperationalError) table Salespersons already exists\n",
      "[SQL: CREATE TABLE Salespersons(Staff_id VARCHAR(20), Name VARCHAR(40), Store VARCHAR(20))]\n",
      "(Background on this error at: https://sqlalche.me/e/14/e3q8)\n"
     ]
    }
   ],
   "source": [
    "%sql CREATE TABLE Salespersons(Staff_id VARCHAR(20), Name VARCHAR(40), Store VARCHAR(20))"
   ]
  },
  {
   "cell_type": "code",
   "execution_count": 7,
   "id": "b75c8f98",
   "metadata": {},
   "outputs": [
    {
     "name": "stdout",
     "output_type": "stream",
     "text": [
      " * sqlite:///CARS.db\n",
      "(sqlite3.OperationalError) table Invoices already exists\n",
      "[SQL: CREATE TABLE Invoices(Invoice_nu CHAR(10), Date DATETIME(15),VIN VARCHAR(40), Name VARCHAR(40) ,Staff_id VARCHAR(20))]\n",
      "(Background on this error at: https://sqlalche.me/e/14/e3q8)\n"
     ]
    }
   ],
   "source": [
    "%sql CREATE TABLE Invoices(Invoice_nu CHAR(10), Date DATETIME(15),VIN VARCHAR(40), Name VARCHAR(40) ,Staff_id VARCHAR(20))"
   ]
  },
  {
   "cell_type": "code",
   "execution_count": 11,
   "id": "1e13ab5e",
   "metadata": {},
   "outputs": [
    {
     "name": "stdout",
     "output_type": "stream",
     "text": [
      " * sqlite:///CARS.db\n",
      "(sqlite3.OperationalError) near \"SHOW\": syntax error\n",
      "[SQL: SHOW Custumers;]\n",
      "(Background on this error at: https://sqlalche.me/e/14/e3q8)\n"
     ]
    }
   ],
   "source": [
    "%sql SHOW Custumers;"
   ]
  },
  {
   "cell_type": "code",
   "execution_count": 13,
   "id": "28b52ce9",
   "metadata": {},
   "outputs": [
    {
     "name": "stdout",
     "output_type": "stream",
     "text": [
      " * sqlite:///CARS.db\n",
      "Done.\n"
     ]
    },
    {
     "data": {
      "text/html": [
       "<table>\n",
       "    <tr>\n",
       "        <th>name</th>\n",
       "    </tr>\n",
       "    <tr>\n",
       "        <td>CUSTUMERS</td>\n",
       "    </tr>\n",
       "    <tr>\n",
       "        <td>Invoices</td>\n",
       "    </tr>\n",
       "    <tr>\n",
       "        <td>Salespersons</td>\n",
       "    </tr>\n",
       "    <tr>\n",
       "        <td>cars</td>\n",
       "    </tr>\n",
       "</table>"
      ],
      "text/plain": [
       "[('CUSTUMERS',), ('Invoices',), ('Salespersons',), ('cars',)]"
      ]
     },
     "execution_count": 13,
     "metadata": {},
     "output_type": "execute_result"
    }
   ],
   "source": [
    "%%sql\n",
    "SELECT name FROM sqlite_master\n",
    "WHERE type='table'\n",
    "ORDER BY name;"
   ]
  },
  {
   "cell_type": "code",
   "execution_count": 15,
   "id": "71011a6e",
   "metadata": {},
   "outputs": [
    {
     "name": "stdout",
     "output_type": "stream",
     "text": [
      " * sqlite:///CARS.db\n",
      "Done.\n"
     ]
    },
    {
     "data": {
      "text/html": [
       "<table>\n",
       "    <tr>\n",
       "        <th>name</th>\n",
       "    </tr>\n",
       "</table>"
      ],
      "text/plain": [
       "[]"
      ]
     },
     "execution_count": 15,
     "metadata": {},
     "output_type": "execute_result"
    }
   ],
   "source": [
    "%%sql\n",
    "SELECT name FROM sqlite_master\n",
    "WHERE type='CUSTUMERS'\n",
    "ORDER BY name;"
   ]
  },
  {
   "cell_type": "code",
   "execution_count": 18,
   "id": "a1deed8b",
   "metadata": {},
   "outputs": [
    {
     "name": "stdout",
     "output_type": "stream",
     "text": [
      " * sqlite:///CARS.db\n",
      "1 rows affected.\n"
     ]
    },
    {
     "data": {
      "text/plain": [
       "[]"
      ]
     },
     "execution_count": 18,
     "metadata": {},
     "output_type": "execute_result"
    }
   ],
   "source": [
    "%sql INSERT INTO cars (VIN, Manufacturer, Model, Year, Color) VALUES('3K096I98581DHSNUP','Volkswagen','Tiguan',2019,'Blue');"
   ]
  },
  {
   "cell_type": "code",
   "execution_count": 19,
   "id": "e6cb7838",
   "metadata": {},
   "outputs": [
    {
     "name": "stdout",
     "output_type": "stream",
     "text": [
      " * sqlite:///CARS.db\n",
      "1 rows affected.\n"
     ]
    },
    {
     "data": {
      "text/plain": [
       "[]"
      ]
     },
     "execution_count": 19,
     "metadata": {},
     "output_type": "execute_result"
    }
   ],
   "source": [
    "%sql INSERT INTO cars (VIN, Manufacturer, Model, Year, Color) VALUES('ZM8G7BEUQZ97IH46V','Peugeot','Rifter',2019,'Red')"
   ]
  },
  {
   "cell_type": "code",
   "execution_count": 20,
   "id": "b256c195",
   "metadata": {},
   "outputs": [
    {
     "name": "stdout",
     "output_type": "stream",
     "text": [
      " * sqlite:///CARS.db\n",
      "1 rows affected.\n"
     ]
    },
    {
     "data": {
      "text/plain": [
       "[]"
      ]
     },
     "execution_count": 20,
     "metadata": {},
     "output_type": "execute_result"
    }
   ],
   "source": [
    "%sql INSERT INTO cars (VIN, Manufacturer, Model, Year, Color) VALUES('HKNDGS7CU31E9Z7JW','Toyota','RAV4',2018,'Silver')"
   ]
  },
  {
   "cell_type": "code",
   "execution_count": null,
   "id": "d0306d52",
   "metadata": {},
   "outputs": [],
   "source": [
    "%sql INSERT INTO cars (VIN, Manufacturer, Model, Year, Color) VALUES('ZM8G7BEUQZ97IH46V','Peugeot','Rifter',2019,'Red')"
   ]
  },
  {
   "cell_type": "code",
   "execution_count": 21,
   "id": "1ac85fa6",
   "metadata": {},
   "outputs": [
    {
     "name": "stdout",
     "output_type": "stream",
     "text": [
      " * sqlite:///CARS.db\n",
      "1 rows affected.\n"
     ]
    },
    {
     "data": {
      "text/plain": [
       "[]"
      ]
     },
     "execution_count": 21,
     "metadata": {},
     "output_type": "execute_result"
    }
   ],
   "source": [
    "%sql INSERT INTO cars (VIN, Manufacturer, Model, Year, Color) VALUES('RKXVNNIHLVVZOUB4M','Ford','Fusion',2018,'White')"
   ]
  },
  {
   "cell_type": "code",
   "execution_count": 22,
   "id": "9547ef1e",
   "metadata": {},
   "outputs": [
    {
     "name": "stdout",
     "output_type": "stream",
     "text": [
      " * sqlite:///CARS.db\n",
      "1 rows affected.\n"
     ]
    },
    {
     "data": {
      "text/plain": [
       "[]"
      ]
     },
     "execution_count": 22,
     "metadata": {},
     "output_type": "execute_result"
    }
   ],
   "source": [
    "%sql INSERT INTO cars (VIN, Manufacturer, Model, Year, Color) VALUES('HKNDGS7CU31E9Z7JW','Toyota','RAV4',2018,'Silver')"
   ]
  },
  {
   "cell_type": "code",
   "execution_count": 23,
   "id": "61e06480",
   "metadata": {},
   "outputs": [
    {
     "name": "stdout",
     "output_type": "stream",
     "text": [
      " * sqlite:///CARS.db\n",
      "1 rows affected.\n"
     ]
    },
    {
     "data": {
      "text/plain": [
       "[]"
      ]
     },
     "execution_count": 23,
     "metadata": {},
     "output_type": "execute_result"
    }
   ],
   "source": [
    "%sql INSERT INTO cars (VIN, Manufacturer, Model, Year, Color) VALUES('DAM41UDN3CHU2WVF6','Volvo','V60',2019,'Gray')"
   ]
  },
  {
   "cell_type": "code",
   "execution_count": 24,
   "id": "5e0e80da",
   "metadata": {},
   "outputs": [
    {
     "name": "stdout",
     "output_type": "stream",
     "text": [
      " * sqlite:///CARS.db\n",
      "1 rows affected.\n"
     ]
    },
    {
     "data": {
      "text/plain": [
       "[]"
      ]
     },
     "execution_count": 24,
     "metadata": {},
     "output_type": "execute_result"
    }
   ],
   "source": [
    "%sql INSERT INTO cars (VIN, Manufacturer, Model, Year, Color) VALUES('DAM41UDN3CHU2WVF6A','Volvo','V60 Cross Country',2019,'Gray')"
   ]
  },
  {
   "cell_type": "code",
   "execution_count": 26,
   "id": "3be7f310",
   "metadata": {},
   "outputs": [
    {
     "name": "stdout",
     "output_type": "stream",
     "text": [
      " * sqlite:///CARS.db\n",
      "Done.\n"
     ]
    },
    {
     "data": {
      "text/html": [
       "<table>\n",
       "    <tr>\n",
       "        <th>VIN</th>\n",
       "        <th>Manufacturer</th>\n",
       "        <th>Model</th>\n",
       "        <th>Year</th>\n",
       "        <th>color</th>\n",
       "    </tr>\n",
       "    <tr>\n",
       "        <td>3K096I98581DHSNUP</td>\n",
       "        <td>Volkswagen</td>\n",
       "        <td>Tiguan</td>\n",
       "        <td>2019</td>\n",
       "        <td>Blue</td>\n",
       "    </tr>\n",
       "    <tr>\n",
       "        <td>ZM8G7BEUQZ97IH46V</td>\n",
       "        <td>Peugeot</td>\n",
       "        <td>Rifter</td>\n",
       "        <td>2019</td>\n",
       "        <td>Red</td>\n",
       "    </tr>\n",
       "    <tr>\n",
       "        <td>HKNDGS7CU31E9Z7JW</td>\n",
       "        <td>Toyota</td>\n",
       "        <td>RAV4</td>\n",
       "        <td>2018</td>\n",
       "        <td>Silver</td>\n",
       "    </tr>\n",
       "    <tr>\n",
       "        <td>RKXVNNIHLVVZOUB4M</td>\n",
       "        <td>Ford</td>\n",
       "        <td>Fusion</td>\n",
       "        <td>2018</td>\n",
       "        <td>White</td>\n",
       "    </tr>\n",
       "    <tr>\n",
       "        <td>HKNDGS7CU31E9Z7JW</td>\n",
       "        <td>Toyota</td>\n",
       "        <td>RAV4</td>\n",
       "        <td>2018</td>\n",
       "        <td>Silver</td>\n",
       "    </tr>\n",
       "    <tr>\n",
       "        <td>DAM41UDN3CHU2WVF6</td>\n",
       "        <td>Volvo</td>\n",
       "        <td>V60</td>\n",
       "        <td>2019</td>\n",
       "        <td>Gray</td>\n",
       "    </tr>\n",
       "    <tr>\n",
       "        <td>DAM41UDN3CHU2WVF6A</td>\n",
       "        <td>Volvo</td>\n",
       "        <td>V60 Cross Country</td>\n",
       "        <td>2019</td>\n",
       "        <td>Gray</td>\n",
       "    </tr>\n",
       "</table>"
      ],
      "text/plain": [
       "[('3K096I98581DHSNUP', 'Volkswagen', 'Tiguan', 2019, 'Blue'),\n",
       " ('ZM8G7BEUQZ97IH46V', 'Peugeot', 'Rifter', 2019, 'Red'),\n",
       " ('HKNDGS7CU31E9Z7JW', 'Toyota', 'RAV4', 2018, 'Silver'),\n",
       " ('RKXVNNIHLVVZOUB4M', 'Ford', 'Fusion', 2018, 'White'),\n",
       " ('HKNDGS7CU31E9Z7JW', 'Toyota', 'RAV4', 2018, 'Silver'),\n",
       " ('DAM41UDN3CHU2WVF6', 'Volvo', 'V60', 2019, 'Gray'),\n",
       " ('DAM41UDN3CHU2WVF6A', 'Volvo', 'V60 Cross Country', 2019, 'Gray')]"
      ]
     },
     "execution_count": 26,
     "metadata": {},
     "output_type": "execute_result"
    }
   ],
   "source": [
    "%sql SELECT * FROM CARS"
   ]
  },
  {
   "cell_type": "code",
   "execution_count": null,
   "id": "04aee06e",
   "metadata": {},
   "outputs": [],
   "source": [
    "\n",
    "ID\tCustomer ID\tName\tPhone\tEmail\tAddress\tCity\tState/Province\tCountry\tPostal\n",
    "0\t10001\tPablo Picasso\t+34 636 17 63 82\t-\tPaseo de la Chopera, 14\tMadrid\tMadrid\tSpain\t28045\n",
    "1\t20001\tAbraham Lincoln\t+1 305 907 7086\t-\t120 SW 8th St\tMiami\tFlorida\tUnited States\t33130\n",
    "2\t30001\tNapoléon Bonaparte\t+33 1 79 75 40 00\t-\t40 Rue du Colisée\tParis\tÎle-de-France\tFrance\t75008"
   ]
  },
  {
   "cell_type": "code",
   "execution_count": 35,
   "id": "4474db45",
   "metadata": {},
   "outputs": [
    {
     "name": "stdout",
     "output_type": "stream",
     "text": [
      " * sqlite:///CARS.db\n",
      "1 rows affected.\n"
     ]
    },
    {
     "data": {
      "text/plain": [
       "[]"
      ]
     },
     "execution_count": 35,
     "metadata": {},
     "output_type": "execute_result"
    }
   ],
   "source": [
    "%%sql\n",
    "INSERT INTO Custumers (Custumer_id, Name, Phone, Email ,Address , City , State, Country, ZIP) VALUES('10001','Pablo Picasso','+34 636 17 63 82','-','Paseo de la Chopera','14 Madrid','Madrid','Spain',28045)\n"
   ]
  },
  {
   "cell_type": "code",
   "execution_count": 31,
   "id": "7063e09a",
   "metadata": {},
   "outputs": [
    {
     "name": "stdout",
     "output_type": "stream",
     "text": [
      " * sqlite:///CARS.db\n",
      "1 rows affected.\n"
     ]
    },
    {
     "data": {
      "text/plain": [
       "[]"
      ]
     },
     "execution_count": 31,
     "metadata": {},
     "output_type": "execute_result"
    }
   ],
   "source": [
    "%%sql\n",
    "INSERT INTO Custumers (Custumer_id, Name, Phone, Email ,Address , City , State, Country, ZIP) VALUES('10001','Pablo Picasso','+34 636 17 63 82','-','Paseo de la Chopera','14 Madrid','Madrid','Spain',28045)\n"
   ]
  },
  {
   "cell_type": "code",
   "execution_count": 32,
   "id": "8d992e90",
   "metadata": {},
   "outputs": [
    {
     "name": "stdout",
     "output_type": "stream",
     "text": [
      " * sqlite:///CARS.db\n",
      "1 rows affected.\n"
     ]
    },
    {
     "data": {
      "text/plain": [
       "[]"
      ]
     },
     "execution_count": 32,
     "metadata": {},
     "output_type": "execute_result"
    }
   ],
   "source": [
    "%%sql\n",
    "INSERT INTO Custumers (Custumer_id, Name, Phone, Email ,Address , City , State, Country, ZIP) VALUES('30001','Napoléon Bonaparte','+33 1 79 75 40 00','-','40 Rue du Colisée','Paris','Île-de-France','France',75008)\n"
   ]
  },
  {
   "cell_type": "code",
   "execution_count": 36,
   "id": "4dc48c1f",
   "metadata": {},
   "outputs": [
    {
     "name": "stdout",
     "output_type": "stream",
     "text": [
      " * sqlite:///CARS.db\n",
      "Done.\n"
     ]
    },
    {
     "data": {
      "text/html": [
       "<table>\n",
       "    <tr>\n",
       "        <th>Custumer_id</th>\n",
       "        <th>Name</th>\n",
       "        <th>Phone</th>\n",
       "        <th>Email</th>\n",
       "        <th>Address</th>\n",
       "        <th>City</th>\n",
       "        <th>State</th>\n",
       "        <th>Country</th>\n",
       "        <th>ZIP</th>\n",
       "    </tr>\n",
       "    <tr>\n",
       "        <td>10001</td>\n",
       "        <td>Pablo Picasso</td>\n",
       "        <td>+34 636 17 63 82</td>\n",
       "        <td>Paseo de la Chopera</td>\n",
       "        <td>-</td>\n",
       "        <td>14 Madrid</td>\n",
       "        <td>Madrid</td>\n",
       "        <td>Spain</td>\n",
       "        <td>28045</td>\n",
       "    </tr>\n",
       "    <tr>\n",
       "        <td>20001</td>\n",
       "        <td>Abraham Lincoln</td>\n",
       "        <td>+1 305 907 7086</td>\n",
       "        <td>-</td>\n",
       "        <td>120 SW 8th St</td>\n",
       "        <td>Miami</td>\n",
       "        <td>Florida</td>\n",
       "        <td>United States</td>\n",
       "        <td>33130</td>\n",
       "    </tr>\n",
       "    <tr>\n",
       "        <td>30001</td>\n",
       "        <td>Napoléon Bonaparte</td>\n",
       "        <td>+33 1 79 75 40 00</td>\n",
       "        <td>-</td>\n",
       "        <td>40 Rue du Colisée</td>\n",
       "        <td>Paris</td>\n",
       "        <td>Île-de-France</td>\n",
       "        <td>France</td>\n",
       "        <td>75008</td>\n",
       "    </tr>\n",
       "    <tr>\n",
       "        <td>10001</td>\n",
       "        <td>Pablo Picasso</td>\n",
       "        <td>+34 636 17 63 82</td>\n",
       "        <td>-</td>\n",
       "        <td>Paseo de la Chopera</td>\n",
       "        <td>14 Madrid</td>\n",
       "        <td>Madrid</td>\n",
       "        <td>Spain</td>\n",
       "        <td>28045</td>\n",
       "    </tr>\n",
       "</table>"
      ],
      "text/plain": [
       "[('10001', 'Pablo Picasso', '+34 636 17 63 82', 'Paseo de la Chopera', '-', '14 Madrid', 'Madrid', 'Spain', '28045'),\n",
       " ('20001', 'Abraham Lincoln', '+1 305 907 7086', '-', '120 SW 8th St', 'Miami', 'Florida', 'United States', '33130'),\n",
       " ('30001', 'Napoléon Bonaparte', '+33 1 79 75 40 00', '-', '40 Rue du Colisée', 'Paris', 'Île-de-France', 'France', '75008'),\n",
       " ('10001', 'Pablo Picasso', '+34 636 17 63 82', '-', 'Paseo de la Chopera', '14 Madrid', 'Madrid', 'Spain', '28045')]"
      ]
     },
     "execution_count": 36,
     "metadata": {},
     "output_type": "execute_result"
    }
   ],
   "source": [
    "%sql SELECT * FROM Custumers"
   ]
  },
  {
   "cell_type": "code",
   "execution_count": 37,
   "id": "ea38e7cd",
   "metadata": {},
   "outputs": [
    {
     "name": "stdout",
     "output_type": "stream",
     "text": [
      " * sqlite:///CARS.db\n",
      "1 rows affected.\n"
     ]
    },
    {
     "data": {
      "text/plain": [
       "[]"
      ]
     },
     "execution_count": 37,
     "metadata": {},
     "output_type": "execute_result"
    }
   ],
   "source": [
    "%sql INSERT INTO Salespersons(Staff_id, Name, Store ) VALUES('00001','Petey Cruiser','Madrid')"
   ]
  },
  {
   "cell_type": "code",
   "execution_count": 38,
   "id": "52506db3",
   "metadata": {},
   "outputs": [
    {
     "name": "stdout",
     "output_type": "stream",
     "text": [
      " * sqlite:///CARS.db\n",
      "1 rows affected.\n"
     ]
    },
    {
     "data": {
      "text/plain": [
       "[]"
      ]
     },
     "execution_count": 38,
     "metadata": {},
     "output_type": "execute_result"
    }
   ],
   "source": [
    "%sql INSERT INTO Salespersons(Staff_id, Name, Store ) VALUES('00002','Anna Sthesia','Barcelona')"
   ]
  },
  {
   "cell_type": "code",
   "execution_count": 39,
   "id": "17fdb187",
   "metadata": {},
   "outputs": [
    {
     "name": "stdout",
     "output_type": "stream",
     "text": [
      " * sqlite:///CARS.db\n",
      "1 rows affected.\n"
     ]
    },
    {
     "data": {
      "text/plain": [
       "[]"
      ]
     },
     "execution_count": 39,
     "metadata": {},
     "output_type": "execute_result"
    }
   ],
   "source": [
    "%sql INSERT INTO Salespersons(Staff_id, Name, Store ) VALUES('00003','Paul Molive','Berlin')"
   ]
  },
  {
   "cell_type": "code",
   "execution_count": 40,
   "id": "dbb2c139",
   "metadata": {},
   "outputs": [
    {
     "name": "stdout",
     "output_type": "stream",
     "text": [
      " * sqlite:///CARS.db\n",
      "1 rows affected.\n"
     ]
    },
    {
     "data": {
      "text/plain": [
       "[]"
      ]
     },
     "execution_count": 40,
     "metadata": {},
     "output_type": "execute_result"
    }
   ],
   "source": [
    "%sql INSERT INTO Salespersons(Staff_id, Name, Store ) VALUES('00004','Gail Forcewind','Paris')"
   ]
  },
  {
   "cell_type": "code",
   "execution_count": 41,
   "id": "f55898b5",
   "metadata": {},
   "outputs": [
    {
     "name": "stdout",
     "output_type": "stream",
     "text": [
      " * sqlite:///CARS.db\n",
      "1 rows affected.\n"
     ]
    },
    {
     "data": {
      "text/plain": [
       "[]"
      ]
     },
     "execution_count": 41,
     "metadata": {},
     "output_type": "execute_result"
    }
   ],
   "source": [
    "%sql INSERT INTO Salespersons(Staff_id, Name, Store ) VALUES('00005','Paige Turner','Mimia')"
   ]
  },
  {
   "cell_type": "code",
   "execution_count": 42,
   "id": "cc8f14bb",
   "metadata": {},
   "outputs": [
    {
     "name": "stdout",
     "output_type": "stream",
     "text": [
      " * sqlite:///CARS.db\n",
      "1 rows affected.\n"
     ]
    },
    {
     "data": {
      "text/plain": [
       "[]"
      ]
     },
     "execution_count": 42,
     "metadata": {},
     "output_type": "execute_result"
    }
   ],
   "source": [
    "%sql INSERT INTO Salespersons(Staff_id, Name, Store ) VALUES('00006','Bob Frapples','Mexico City')"
   ]
  },
  {
   "cell_type": "code",
   "execution_count": 43,
   "id": "000ec090",
   "metadata": {},
   "outputs": [
    {
     "name": "stdout",
     "output_type": "stream",
     "text": [
      " * sqlite:///CARS.db\n",
      "1 rows affected.\n"
     ]
    },
    {
     "data": {
      "text/plain": [
       "[]"
      ]
     },
     "execution_count": 43,
     "metadata": {},
     "output_type": "execute_result"
    }
   ],
   "source": [
    "%sql INSERT INTO Salespersons(Staff_id, Name, Store ) VALUES('00007','Walter Melon','Amsterdam')"
   ]
  },
  {
   "cell_type": "code",
   "execution_count": 44,
   "id": "5e4668fa",
   "metadata": {},
   "outputs": [
    {
     "name": "stdout",
     "output_type": "stream",
     "text": [
      " * sqlite:///CARS.db\n",
      "1 rows affected.\n"
     ]
    },
    {
     "data": {
      "text/plain": [
       "[]"
      ]
     },
     "execution_count": 44,
     "metadata": {},
     "output_type": "execute_result"
    }
   ],
   "source": [
    "%sql INSERT INTO Salespersons(Staff_id, Name, Store ) VALUES('00008','Shonda Leer','São Paulo')"
   ]
  },
  {
   "cell_type": "code",
   "execution_count": 45,
   "id": "d7fa1890",
   "metadata": {},
   "outputs": [
    {
     "name": "stdout",
     "output_type": "stream",
     "text": [
      " * sqlite:///CARS.db\n",
      "Done.\n"
     ]
    },
    {
     "data": {
      "text/html": [
       "<table>\n",
       "    <tr>\n",
       "        <th>Staff_id</th>\n",
       "        <th>Name</th>\n",
       "        <th>Store</th>\n",
       "    </tr>\n",
       "    <tr>\n",
       "        <td>00001</td>\n",
       "        <td>Petey Cruiser</td>\n",
       "        <td>Madrid</td>\n",
       "    </tr>\n",
       "    <tr>\n",
       "        <td>00002</td>\n",
       "        <td>Anna Sthesia</td>\n",
       "        <td>Barcelona</td>\n",
       "    </tr>\n",
       "    <tr>\n",
       "        <td>00003</td>\n",
       "        <td>Paul Molive</td>\n",
       "        <td>Berlin</td>\n",
       "    </tr>\n",
       "    <tr>\n",
       "        <td>00004</td>\n",
       "        <td>Gail Forcewind</td>\n",
       "        <td>Paris</td>\n",
       "    </tr>\n",
       "    <tr>\n",
       "        <td>00005</td>\n",
       "        <td>Paige Turner</td>\n",
       "        <td>Mimia</td>\n",
       "    </tr>\n",
       "    <tr>\n",
       "        <td>00006</td>\n",
       "        <td>Bob Frapples</td>\n",
       "        <td>Mexico City</td>\n",
       "    </tr>\n",
       "    <tr>\n",
       "        <td>00007</td>\n",
       "        <td>Walter Melon</td>\n",
       "        <td>Amsterdam</td>\n",
       "    </tr>\n",
       "    <tr>\n",
       "        <td>00008</td>\n",
       "        <td>Shonda Leer</td>\n",
       "        <td>São Paulo</td>\n",
       "    </tr>\n",
       "</table>"
      ],
      "text/plain": [
       "[('00001', 'Petey Cruiser', 'Madrid'),\n",
       " ('00002', 'Anna Sthesia', 'Barcelona'),\n",
       " ('00003', 'Paul Molive', 'Berlin'),\n",
       " ('00004', 'Gail Forcewind', 'Paris'),\n",
       " ('00005', 'Paige Turner', 'Mimia'),\n",
       " ('00006', 'Bob Frapples', 'Mexico City'),\n",
       " ('00007', 'Walter Melon', 'Amsterdam'),\n",
       " ('00008', 'Shonda Leer', 'São Paulo')]"
      ]
     },
     "execution_count": 45,
     "metadata": {},
     "output_type": "execute_result"
    }
   ],
   "source": [
    "%sql SELECT * FROM Salespersons"
   ]
  },
  {
   "cell_type": "code",
   "execution_count": 46,
   "id": "19204309",
   "metadata": {},
   "outputs": [
    {
     "name": "stdout",
     "output_type": "stream",
     "text": [
      " * sqlite:///CARS.db\n",
      "1 rows affected.\n"
     ]
    },
    {
     "data": {
      "text/plain": [
       "[]"
      ]
     },
     "execution_count": 46,
     "metadata": {},
     "output_type": "execute_result"
    }
   ],
   "source": [
    "%sql INSERT INTO Invoices(Invoice_nu, Date,VIN, Name ,Staff_id ) VALUES('852399038','22-08-2018','0','1','3')"
   ]
  },
  {
   "cell_type": "code",
   "execution_count": 47,
   "id": "8db4d6f7",
   "metadata": {},
   "outputs": [
    {
     "name": "stdout",
     "output_type": "stream",
     "text": [
      " * sqlite:///CARS.db\n",
      "1 rows affected.\n"
     ]
    },
    {
     "data": {
      "text/plain": [
       "[]"
      ]
     },
     "execution_count": 47,
     "metadata": {},
     "output_type": "execute_result"
    }
   ],
   "source": [
    "%sql INSERT INTO Invoices(Invoice_nu, Date,VIN, Name ,Staff_id ) VALUES('731166526','31-12-2018','3','0','5')"
   ]
  },
  {
   "cell_type": "code",
   "execution_count": 48,
   "id": "94463353",
   "metadata": {},
   "outputs": [
    {
     "name": "stdout",
     "output_type": "stream",
     "text": [
      " * sqlite:///CARS.db\n",
      "1 rows affected.\n"
     ]
    },
    {
     "data": {
      "text/plain": [
       "[]"
      ]
     },
     "execution_count": 48,
     "metadata": {},
     "output_type": "execute_result"
    }
   ],
   "source": [
    "%sql INSERT INTO Invoices(Invoice_nu, Date,VIN, Name ,Staff_id ) VALUES('271135104','22-01-2019','2','2','7')"
   ]
  },
  {
   "cell_type": "code",
   "execution_count": 49,
   "id": "c617ce45",
   "metadata": {},
   "outputs": [
    {
     "name": "stdout",
     "output_type": "stream",
     "text": [
      " * sqlite:///CARS.db\n",
      "Done.\n"
     ]
    },
    {
     "data": {
      "text/html": [
       "<table>\n",
       "    <tr>\n",
       "        <th>Invoice_nu</th>\n",
       "        <th>Date</th>\n",
       "        <th>VIN</th>\n",
       "        <th>Name</th>\n",
       "        <th>Staff_id</th>\n",
       "    </tr>\n",
       "    <tr>\n",
       "        <td>852399038</td>\n",
       "        <td>22-08-2018</td>\n",
       "        <td>0</td>\n",
       "        <td>1</td>\n",
       "        <td>3</td>\n",
       "    </tr>\n",
       "    <tr>\n",
       "        <td>731166526</td>\n",
       "        <td>31-12-2018</td>\n",
       "        <td>3</td>\n",
       "        <td>0</td>\n",
       "        <td>5</td>\n",
       "    </tr>\n",
       "    <tr>\n",
       "        <td>271135104</td>\n",
       "        <td>22-01-2019</td>\n",
       "        <td>2</td>\n",
       "        <td>2</td>\n",
       "        <td>7</td>\n",
       "    </tr>\n",
       "</table>"
      ],
      "text/plain": [
       "[('852399038', '22-08-2018', '0', '1', '3'),\n",
       " ('731166526', '31-12-2018', '3', '0', '5'),\n",
       " ('271135104', '22-01-2019', '2', '2', '7')]"
      ]
     },
     "execution_count": 49,
     "metadata": {},
     "output_type": "execute_result"
    }
   ],
   "source": [
    "%sql SELECT * FROM Invoices"
   ]
  },
  {
   "cell_type": "code",
   "execution_count": 50,
   "id": "a633172c",
   "metadata": {},
   "outputs": [],
   "source": [
    "## Challenge 3"
   ]
  },
  {
   "cell_type": "code",
   "execution_count": 52,
   "id": "763a57cc",
   "metadata": {},
   "outputs": [
    {
     "name": "stdout",
     "output_type": "stream",
     "text": [
      " * sqlite:///CARS.db\n",
      "Done.\n"
     ]
    },
    {
     "data": {
      "text/plain": [
       "[]"
      ]
     },
     "execution_count": 52,
     "metadata": {},
     "output_type": "execute_result"
    }
   ],
   "source": [
    "%sql DROP TABLE Salespersons;\n"
   ]
  },
  {
   "cell_type": "code",
   "execution_count": 55,
   "id": "a2097118",
   "metadata": {},
   "outputs": [
    {
     "name": "stdout",
     "output_type": "stream",
     "text": [
      " * sqlite:///CARS.db\n",
      "Done.\n"
     ]
    },
    {
     "data": {
      "text/plain": [
       "[]"
      ]
     },
     "execution_count": 55,
     "metadata": {},
     "output_type": "execute_result"
    }
   ],
   "source": [
    "%sql CREATE TABLE Salespersons(Staff_id VARCHAR(20), Name VARCHAR(40), Store VARCHAR(20))"
   ]
  },
  {
   "cell_type": "code",
   "execution_count": 56,
   "id": "b042cab0",
   "metadata": {},
   "outputs": [
    {
     "name": "stdout",
     "output_type": "stream",
     "text": [
      " * sqlite:///CARS.db\n",
      "1 rows affected.\n",
      "1 rows affected.\n",
      "1 rows affected.\n",
      "1 rows affected.\n",
      "1 rows affected.\n",
      "1 rows affected.\n",
      "1 rows affected.\n",
      "1 rows affected.\n"
     ]
    },
    {
     "data": {
      "text/plain": [
       "[]"
      ]
     },
     "execution_count": 56,
     "metadata": {},
     "output_type": "execute_result"
    }
   ],
   "source": [
    "%%sql \n",
    "INSERT INTO Salespersons(Staff_id, Name, Store ) VALUES('00001','Petey Cruiser','Madrid');\n",
    "INSERT INTO Salespersons(Staff_id, Name, Store ) VALUES('00002','Anna Sthesia','Barcelona');\n",
    "INSERT INTO Salespersons(Staff_id, Name, Store ) VALUES('00003','Paul Molive','Berlin');\n",
    "INSERT INTO Salespersons(Staff_id, Name, Store ) VALUES('00004','Gail Forcewind','Paris');\n",
    "INSERT INTO Salespersons(Staff_id, Name, Store ) VALUES('00005','Paige Turner','Miami');\n",
    "INSERT INTO Salespersons(Staff_id, Name, Store ) VALUES('00006','Bob Frapples','Mexico City');\n",
    "INSERT INTO Salespersons(Staff_id, Name, Store ) VALUES('00007','Walter Melon','Amsterdam');\n",
    "INSERT INTO Salespersons(Staff_id, Name, Store ) VALUES('00008','Shonda Leer','São Paulo');"
   ]
  },
  {
   "cell_type": "code",
   "execution_count": 60,
   "id": "f36eb863",
   "metadata": {},
   "outputs": [
    {
     "name": "stdout",
     "output_type": "stream",
     "text": [
      " * sqlite:///CARS.db\n",
      "Done.\n"
     ]
    },
    {
     "data": {
      "text/plain": [
       "[]"
      ]
     },
     "execution_count": 60,
     "metadata": {},
     "output_type": "execute_result"
    }
   ],
   "source": [
    "%sql DROP TABLE Custumers;"
   ]
  },
  {
   "cell_type": "code",
   "execution_count": 61,
   "id": "e60124b0",
   "metadata": {},
   "outputs": [
    {
     "name": "stdout",
     "output_type": "stream",
     "text": [
      " * sqlite:///CARS.db\n",
      "Done.\n"
     ]
    },
    {
     "data": {
      "text/plain": [
       "[]"
      ]
     },
     "execution_count": 61,
     "metadata": {},
     "output_type": "execute_result"
    }
   ],
   "source": [
    "%sql CREATE TABLE Custumers(Custumer_id CHAR(6), Name VARCHAR(40), Phone VARCHAR(20), Email VARCHAR(40),Address VARCHAR(60), City VARCHAR(20), State VARCHAR (20), Country VARCHAR (20), ZIP VARCHAR(10))"
   ]
  },
  {
   "cell_type": "code",
   "execution_count": 62,
   "id": "6948c7db",
   "metadata": {},
   "outputs": [
    {
     "name": "stdout",
     "output_type": "stream",
     "text": [
      " * sqlite:///CARS.db\n",
      "1 rows affected.\n",
      "1 rows affected.\n",
      "1 rows affected.\n"
     ]
    },
    {
     "data": {
      "text/plain": [
       "[]"
      ]
     },
     "execution_count": 62,
     "metadata": {},
     "output_type": "execute_result"
    }
   ],
   "source": [
    "%%sql\n",
    "INSERT INTO Custumers (Custumer_id, Name, Phone, Email ,Address , City , State, Country, ZIP) VALUES('10001','Pablo Picasso','+34 636 17 63 82','ppicasso@gmail.com','Paseo de la Chopera','14 Madrid','Madrid','Spain',28045);\n",
    "INSERT INTO Custumers (Custumer_id, Name, Phone, Email ,Address , City , State, Country, ZIP) VALUES('20001','Abraham Lincoln','+1 305 907 7086','lincoln@us.gov','120 SW 8th St','Miami','Florida','United States',33130);\n",
    "INSERT INTO Custumers (Custumer_id, Name, Phone, Email ,Address , City , State, Country, ZIP) VALUES('30001','Napoléon Bonaparte','+33 1 79 75 40 00','hello@napoleon.me','40 Rue du Colisée','Paris','Île-de-France','France',75008);\n"
   ]
  },
  {
   "cell_type": "code",
   "execution_count": 64,
   "id": "a4171562",
   "metadata": {},
   "outputs": [
    {
     "name": "stdout",
     "output_type": "stream",
     "text": [
      " * sqlite:///CARS.db\n",
      "1 rows affected.\n"
     ]
    },
    {
     "data": {
      "text/plain": [
       "[]"
      ]
     },
     "execution_count": 64,
     "metadata": {},
     "output_type": "execute_result"
    }
   ],
   "source": [
    "%%sql\n",
    "DELETE from Cars\n",
    "WHERE VIN = 'DAM41UDN3CHU2WVF6A';"
   ]
  },
  {
   "cell_type": "code",
   "execution_count": 65,
   "id": "bfa8ae22",
   "metadata": {},
   "outputs": [
    {
     "name": "stdout",
     "output_type": "stream",
     "text": [
      " * sqlite:///CARS.db\n",
      "Done.\n"
     ]
    },
    {
     "data": {
      "text/html": [
       "<table>\n",
       "    <tr>\n",
       "        <th>Custumer_id</th>\n",
       "        <th>Name</th>\n",
       "        <th>Phone</th>\n",
       "        <th>Email</th>\n",
       "        <th>Address</th>\n",
       "        <th>City</th>\n",
       "        <th>State</th>\n",
       "        <th>Country</th>\n",
       "        <th>ZIP</th>\n",
       "    </tr>\n",
       "    <tr>\n",
       "        <td>10001</td>\n",
       "        <td>Pablo Picasso</td>\n",
       "        <td>+34 636 17 63 82</td>\n",
       "        <td>ppicasso@gmail.com</td>\n",
       "        <td>Paseo de la Chopera</td>\n",
       "        <td>14 Madrid</td>\n",
       "        <td>Madrid</td>\n",
       "        <td>Spain</td>\n",
       "        <td>28045</td>\n",
       "    </tr>\n",
       "    <tr>\n",
       "        <td>20001</td>\n",
       "        <td>Abraham Lincoln</td>\n",
       "        <td>+1 305 907 7086</td>\n",
       "        <td>lincoln@us.gov</td>\n",
       "        <td>120 SW 8th St</td>\n",
       "        <td>Miami</td>\n",
       "        <td>Florida</td>\n",
       "        <td>United States</td>\n",
       "        <td>33130</td>\n",
       "    </tr>\n",
       "    <tr>\n",
       "        <td>30001</td>\n",
       "        <td>Napoléon Bonaparte</td>\n",
       "        <td>+33 1 79 75 40 00</td>\n",
       "        <td>hello@napoleon.me</td>\n",
       "        <td>40 Rue du Colisée</td>\n",
       "        <td>Paris</td>\n",
       "        <td>Île-de-France</td>\n",
       "        <td>France</td>\n",
       "        <td>75008</td>\n",
       "    </tr>\n",
       "</table>"
      ],
      "text/plain": [
       "[('10001', 'Pablo Picasso', '+34 636 17 63 82', 'ppicasso@gmail.com', 'Paseo de la Chopera', '14 Madrid', 'Madrid', 'Spain', '28045'),\n",
       " ('20001', 'Abraham Lincoln', '+1 305 907 7086', 'lincoln@us.gov', '120 SW 8th St', 'Miami', 'Florida', 'United States', '33130'),\n",
       " ('30001', 'Napoléon Bonaparte', '+33 1 79 75 40 00', 'hello@napoleon.me', '40 Rue du Colisée', 'Paris', 'Île-de-France', 'France', '75008')]"
      ]
     },
     "execution_count": 65,
     "metadata": {},
     "output_type": "execute_result"
    }
   ],
   "source": [
    "%sql SELECT * FROM cUSTUMERS"
   ]
  },
  {
   "cell_type": "code",
   "execution_count": 66,
   "id": "a10c0ed4",
   "metadata": {},
   "outputs": [
    {
     "name": "stdout",
     "output_type": "stream",
     "text": [
      " * sqlite:///CARS.db\n",
      "Done.\n"
     ]
    },
    {
     "data": {
      "text/html": [
       "<table>\n",
       "    <tr>\n",
       "        <th>Staff_id</th>\n",
       "        <th>Name</th>\n",
       "        <th>Store</th>\n",
       "    </tr>\n",
       "    <tr>\n",
       "        <td>00001</td>\n",
       "        <td>Petey Cruiser</td>\n",
       "        <td>Madrid</td>\n",
       "    </tr>\n",
       "    <tr>\n",
       "        <td>00002</td>\n",
       "        <td>Anna Sthesia</td>\n",
       "        <td>Barcelona</td>\n",
       "    </tr>\n",
       "    <tr>\n",
       "        <td>00003</td>\n",
       "        <td>Paul Molive</td>\n",
       "        <td>Berlin</td>\n",
       "    </tr>\n",
       "    <tr>\n",
       "        <td>00004</td>\n",
       "        <td>Gail Forcewind</td>\n",
       "        <td>Paris</td>\n",
       "    </tr>\n",
       "    <tr>\n",
       "        <td>00005</td>\n",
       "        <td>Paige Turner</td>\n",
       "        <td>Miami</td>\n",
       "    </tr>\n",
       "    <tr>\n",
       "        <td>00006</td>\n",
       "        <td>Bob Frapples</td>\n",
       "        <td>Mexico City</td>\n",
       "    </tr>\n",
       "    <tr>\n",
       "        <td>00007</td>\n",
       "        <td>Walter Melon</td>\n",
       "        <td>Amsterdam</td>\n",
       "    </tr>\n",
       "    <tr>\n",
       "        <td>00008</td>\n",
       "        <td>Shonda Leer</td>\n",
       "        <td>São Paulo</td>\n",
       "    </tr>\n",
       "</table>"
      ],
      "text/plain": [
       "[('00001', 'Petey Cruiser', 'Madrid'),\n",
       " ('00002', 'Anna Sthesia', 'Barcelona'),\n",
       " ('00003', 'Paul Molive', 'Berlin'),\n",
       " ('00004', 'Gail Forcewind', 'Paris'),\n",
       " ('00005', 'Paige Turner', 'Miami'),\n",
       " ('00006', 'Bob Frapples', 'Mexico City'),\n",
       " ('00007', 'Walter Melon', 'Amsterdam'),\n",
       " ('00008', 'Shonda Leer', 'São Paulo')]"
      ]
     },
     "execution_count": 66,
     "metadata": {},
     "output_type": "execute_result"
    }
   ],
   "source": [
    "%sql SELECT * FROM Salespersons"
   ]
  },
  {
   "cell_type": "code",
   "execution_count": null,
   "id": "4f6a5729",
   "metadata": {},
   "outputs": [],
   "source": []
  }
 ],
 "metadata": {
  "kernelspec": {
   "display_name": "Python 3 (ipykernel)",
   "language": "python",
   "name": "python3"
  },
  "language_info": {
   "codemirror_mode": {
    "name": "ipython",
    "version": 3
   },
   "file_extension": ".py",
   "mimetype": "text/x-python",
   "name": "python",
   "nbconvert_exporter": "python",
   "pygments_lexer": "ipython3",
   "version": "3.9.12"
  }
 },
 "nbformat": 4,
 "nbformat_minor": 5
}
