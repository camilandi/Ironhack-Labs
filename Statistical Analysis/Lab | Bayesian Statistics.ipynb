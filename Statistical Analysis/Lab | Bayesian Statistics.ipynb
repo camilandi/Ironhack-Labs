{
 "cells": [
  {
   "cell_type": "code",
   "execution_count": 7,
   "id": "dbe6df03",
   "metadata": {},
   "outputs": [],
   "source": [
    "import scipy as sp\n",
    "import pandas as pd\n",
    "import numpy as np\n",
    "import matplotlib.pyplot as plt\n",
    "import seaborn as sns"
   ]
  },
  {
   "cell_type": "markdown",
   "id": "5c606635",
   "metadata": {},
   "source": [
    "1. Cookie Problem\n",
    "Suppose we have two bowls of cookies. Bowl 1 contains 30 vanilla cookies and 10 chocolate cookies. Bowl 2 contains 20 of each. You randomly pick one cookie out of one of the bowls, and it is vanilla. Use Bayes Theorem to calculate the probability that the vanilla cookie you picked came from Bowl 1?"
   ]
  },
  {
   "cell_type": "code",
   "execution_count": 13,
   "id": "2de63417",
   "metadata": {},
   "outputs": [],
   "source": [
    "jarone=0.75\n",
    "jartwo=0.5\n",
    "\n",
    "distone=sp.stats.binom(1,jarone)\n",
    "disttwo=sp.stats.binom(1,jartwo)\n",
    "\n"
   ]
  },
  {
   "cell_type": "code",
   "execution_count": 14,
   "id": "a36d24b8",
   "metadata": {},
   "outputs": [],
   "source": [
    "p_a=0.5\n",
    "p_b=0.5 * distone.pmf(1) + 0.5 * disttwo.pmf(1)\n",
    "p_ba= distone.pmf(1)\n"
   ]
  },
  {
   "cell_type": "code",
   "execution_count": 15,
   "id": "c8465cea",
   "metadata": {},
   "outputs": [
    {
     "data": {
      "text/plain": [
       "0.6"
      ]
     },
     "execution_count": 15,
     "metadata": {},
     "output_type": "execute_result"
    }
   ],
   "source": [
    "p_ab=(p_ba*p_a) / p_b\n",
    "p_ab"
   ]
  },
  {
   "cell_type": "markdown",
   "id": "11484bd8",
   "metadata": {},
   "source": [
    "What is the probability that it came from Bowl 2?\n",
    "\n"
   ]
  },
  {
   "cell_type": "code",
   "execution_count": 16,
   "id": "de7113f1",
   "metadata": {},
   "outputs": [],
   "source": [
    "p_ba= disttwo.pmf(1)"
   ]
  },
  {
   "cell_type": "code",
   "execution_count": 17,
   "id": "c0f79967",
   "metadata": {},
   "outputs": [
    {
     "data": {
      "text/plain": [
       "0.4"
      ]
     },
     "execution_count": 17,
     "metadata": {},
     "output_type": "execute_result"
    }
   ],
   "source": [
    "p_ab=(p_ba*p_a) / p_b\n",
    "p_ab"
   ]
  },
  {
   "cell_type": "markdown",
   "id": "4be6d05c",
   "metadata": {},
   "source": [
    "What if the cookie you had picked was chocolate? What are the probabilities that the chocolate cookie came from Bowl 1 and Bowl 2 respectively?"
   ]
  },
  {
   "cell_type": "code",
   "execution_count": 18,
   "id": "1e7217cd",
   "metadata": {},
   "outputs": [],
   "source": [
    "jarone=0.25\n",
    "jartwo=0.5\n",
    "\n",
    "distone=sp.stats.binom(1,jarone)\n",
    "disttwo=sp.stats.binom(1,jartwo)\n"
   ]
  },
  {
   "cell_type": "code",
   "execution_count": 19,
   "id": "7265fac3",
   "metadata": {},
   "outputs": [],
   "source": [
    "p_a=0.5\n",
    "p_b=0.5 * distone.pmf(1) + 0.5 * disttwo.pmf(1)\n",
    "p_ba= distone.pmf(1)"
   ]
  },
  {
   "cell_type": "code",
   "execution_count": 20,
   "id": "87469cb3",
   "metadata": {},
   "outputs": [
    {
     "data": {
      "text/plain": [
       "0.3333333333333333"
      ]
     },
     "execution_count": 20,
     "metadata": {},
     "output_type": "execute_result"
    }
   ],
   "source": [
    "p_ab=(p_ba*p_a) / p_b\n",
    "p_ab"
   ]
  },
  {
   "cell_type": "code",
   "execution_count": 22,
   "id": "829c1bfe",
   "metadata": {},
   "outputs": [],
   "source": [
    "p_ba= disttwo.pmf(1)"
   ]
  },
  {
   "cell_type": "code",
   "execution_count": 23,
   "id": "90dc23c3",
   "metadata": {},
   "outputs": [
    {
     "data": {
      "text/plain": [
       "0.6666666666666666"
      ]
     },
     "execution_count": 23,
     "metadata": {},
     "output_type": "execute_result"
    }
   ],
   "source": [
    "p_ab=(p_ba*p_a) / p_b\n",
    "p_ab"
   ]
  },
  {
   "cell_type": "markdown",
   "id": "d604c8ce",
   "metadata": {},
   "source": [
    "2. Candy Problem\n",
    "Suppose you have two bags of candies:\n",
    "\n",
    "In Bag 1, the mix of colors is:\n",
    "\n",
    "Brown - 30%\n",
    "Yellow - 20%\n",
    "Red - 20%\n",
    "Green - 10%\n",
    "Orange - 10%\n",
    "Tan - 10%\n",
    "In Bag 2, the mix of colors is:\n",
    "\n",
    "Blue - 24%\n",
    "Green - 20%\n",
    "Orange - 16%\n",
    "Yellow - 14%\n",
    "Red - 13%\n",
    "Brown - 13%\n",
    "Not knowing which bag is which, you randomly draw one candy from each bag. One is yellow and one is green. What is the probability that the yellow one came from the Bag 1?\n",
    "\n",
    "Hint: For the likelihoods, you will need to multiply the probabilities of drawing yellow from one bag and green from the other bag and vice versa."
   ]
  },
  {
   "cell_type": "code",
   "execution_count": 67,
   "id": "a86cf1e8",
   "metadata": {},
   "outputs": [],
   "source": [
    "yellowone=0.2\n",
    "yellowtwo=0.14\n",
    "\n",
    "greenone=0.1\n",
    "greentwo=0.2\n"
   ]
  },
  {
   "cell_type": "code",
   "execution_count": 1,
   "id": "bfe9bed7",
   "metadata": {},
   "outputs": [
    {
     "data": {
      "text/plain": [
       "0.7407407407407408"
      ]
     },
     "execution_count": 1,
     "metadata": {},
     "output_type": "execute_result"
    }
   ],
   "source": [
    "p_A = 0.5 \n",
    "p_B =  (0.2 * 0.2 * 0.5) + (0.14 * 0.1 * 0.5) \n",
    "\n",
    "p_BA = 0.2 * 0.2 # probability that we have a green candy given that candy A came from Bag 1 \n",
    "p_AB = (p_BA * p_A)/p_B\n",
    "p_AB"
   ]
  },
  {
   "cell_type": "markdown",
   "id": "f9855b2d",
   "metadata": {},
   "source": [
    "What is the probability that the yellow candy came from Bag 2?\n",
    "\n",
    " "
   ]
  },
  {
   "cell_type": "code",
   "execution_count": 2,
   "id": "3ae88c55",
   "metadata": {},
   "outputs": [
    {
     "data": {
      "text/plain": [
       "0.25925925925925924"
      ]
     },
     "execution_count": 2,
     "metadata": {},
     "output_type": "execute_result"
    }
   ],
   "source": [
    "#yellow comes from bag one and green comes from bag two \n",
    "\n",
    "\n",
    "p_A = 0.5\n",
    "p_B =  (0.2 * 0.2 * 0.5) + (0.14 * 0.1 * 0.5) \n",
    "p_BA = 0.14 * 0.1  # probability that we have a green candy given that candy A came from Bag 2 \n",
    "\n",
    "p_AB = (p_BA * p_A)/p_B\n",
    "p_AB"
   ]
  },
  {
   "cell_type": "markdown",
   "id": "d4534f39",
   "metadata": {},
   "source": [
    "What are the probabilities that the green one came from Bag 1 and Bag 2 respectively?\n",
    "\n"
   ]
  },
  {
   "cell_type": "code",
   "execution_count": 3,
   "id": "9db214f8",
   "metadata": {},
   "outputs": [
    {
     "data": {
      "text/plain": [
       "0.25925925925925924"
      ]
     },
     "execution_count": 3,
     "metadata": {},
     "output_type": "execute_result"
    }
   ],
   "source": [
    "p_A = 0.5\n",
    "p_B =  (0.2 * 0.2 * 0.5) + (0.14 * 0.1 * 0.5) \n",
    "p_BA = 0.14 * 0.1 # probability that we have a yellow candy given that B came from Bag 1 \n",
    "\n",
    "p_AB = (p_BA * p_A)/p_B\n",
    "p_AB"
   ]
  },
  {
   "cell_type": "code",
   "execution_count": 4,
   "id": "a91b7577",
   "metadata": {},
   "outputs": [
    {
     "data": {
      "text/plain": [
       "0.7407407407407408"
      ]
     },
     "execution_count": 4,
     "metadata": {},
     "output_type": "execute_result"
    }
   ],
   "source": [
    "p_A = 0.5\n",
    "p_B =  (0.2 * 0.2 * 0.5) + (0.14 * 0.1 * 0.5) \n",
    "p_BA = 0.2 * 0.2 # probability that we have a green candy given that  B came from Bag 2\n",
    "\n",
    "p_AB = (p_BA * p_A)/p_B\n",
    "p_AB"
   ]
  },
  {
   "cell_type": "markdown",
   "id": "bf30c645",
   "metadata": {},
   "source": [
    "3. Monty Hall Problem"
   ]
  },
  {
   "cell_type": "markdown",
   "id": "1b3deb89",
   "metadata": {},
   "source": [
    "Suppose you are a contestant on the popular game show Let's Make a Deal. The host of the show (Monty Hall) presents you with three doors - Door A, Door B, and Door C. He tells you that there is a sports car behind one of them and if you choose the correct one, you win the car!\n",
    "\n",
    "You select Door A, but then Monty makes things a little more interesting. He opens Door B to reveal that there is no sports car behind it and asks you if you would like to stick with your choice of Door A or switch your choice to Door C. Given this new information, what are the probabilities of you winning the car if you stick with Door A versus if you switch to Door C?\n",
    "\n",
    " "
   ]
  },
  {
   "cell_type": "code",
   "execution_count": 5,
   "id": "d889eba2",
   "metadata": {},
   "outputs": [
    {
     "data": {
      "text/plain": [
       "0.33"
      ]
     },
     "execution_count": 5,
     "metadata": {},
     "output_type": "execute_result"
    }
   ],
   "source": [
    "p_A = 0.33 \n",
    "p_B = 0.50\n",
    "p_BA = 0.50\n",
    "\n",
    "p_AB = (p_BA * p_A)/p_B\n",
    "p_AB"
   ]
  },
  {
   "cell_type": "code",
   "execution_count": null,
   "id": "d7fb7176",
   "metadata": {},
   "outputs": [],
   "source": [
    "1 - p_AB"
   ]
  },
  {
   "cell_type": "code",
   "execution_count": null,
   "id": "2beb0925",
   "metadata": {},
   "outputs": [],
   "source": [
    "p_A = 0.33 \n",
    "p_B = 0.50\n",
    "p_BA = 1\n",
    "\n",
    "p_AB = (p_BA * p_A)/p_B\n",
    "p_AB"
   ]
  },
  {
   "cell_type": "markdown",
   "id": "1a24a136",
   "metadata": {},
   "source": [
    "4. Bayesian Analysis"
   ]
  },
  {
   "cell_type": "markdown",
   "id": "2bc1a8e6",
   "metadata": {},
   "source": [
    "Suppose you work for a landscaping company, and they want to advertise their service online. They create an ad and sit back waiting for the money to roll in. On the first day, the ad sends 100 visitors to the site and 14 of them sign up for landscaping services. Create a generative model to come up with the posterior distribution and produce a visualization of what the posterior distribution would look like given the observed data."
   ]
  },
  {
   "cell_type": "code",
   "execution_count": 69,
   "id": "25f26a9d",
   "metadata": {},
   "outputs": [],
   "source": [
    "import scipy as sp\n",
    "import pandas as pd\n",
    "import numpy as np\n",
    "import matplotlib.pyplot as plt\n",
    "import seaborn as sns"
   ]
  },
  {
   "cell_type": "code",
   "execution_count": 71,
   "id": "76bd97a1",
   "metadata": {},
   "outputs": [
    {
     "data": {
      "text/plain": [
       "<AxesSubplot:ylabel='Count'>"
      ]
     },
     "execution_count": 71,
     "metadata": {},
     "output_type": "execute_result"
    },
    {
     "data": {
      "image/png": "[encoded data removed]",
      "text/plain": [
       "<Figure size 432x288 with 1 Axes>"
      ]
     },
     "metadata": {
      "needs_background": "light"
     },
     "output_type": "display_data"
    }
   ],
   "source": [
    "n_draws=100000\n",
    "prior=np.random.uniform(0,1,size=n_draws)\n",
    "sns.histplot(prior)"
   ]
  },
  {
   "cell_type": "code",
   "execution_count": 72,
   "id": "e0fb6454",
   "metadata": {},
   "outputs": [],
   "source": [
    "def generative_model(n,p):\n",
    "    result=np.random.binomial(n,p)\n",
    "    return result"
   ]
  },
  {
   "cell_type": "code",
   "execution_count": 74,
   "id": "aa107c3a",
   "metadata": {},
   "outputs": [],
   "source": [
    "observed=(100,14)\n",
    "sim_data=list()\n",
    "for p in prior:\n",
    "    sim_data.append(generative_model(observed[0],p))"
   ]
  },
  {
   "cell_type": "code",
   "execution_count": 76,
   "id": "f40ad9c2",
   "metadata": {},
   "outputs": [
    {
     "data": {
      "image/png": "[encoded data removed]",
      "text/plain": [
       "<Figure size 432x288 with 1 Axes>"
      ]
     },
     "metadata": {
      "needs_background": "light"
     },
     "output_type": "display_data"
    }
   ],
   "source": [
    "plt.hist(sim_data);"
   ]
  },
  {
   "cell_type": "code",
   "execution_count": 77,
   "id": "e01cc155",
   "metadata": {},
   "outputs": [],
   "source": [
    "posterior=prior[list(map(lambda x:x== observed[1],sim_data))]"
   ]
  },
  {
   "cell_type": "code",
   "execution_count": 79,
   "id": "17da49a7",
   "metadata": {},
   "outputs": [
    {
     "data": {
      "image/png": "[encoded data removed]",
      "text/plain": [
       "<Figure size 432x288 with 1 Axes>"
      ]
     },
     "metadata": {
      "needs_background": "light"
     },
     "output_type": "display_data"
    }
   ],
   "source": [
    "plt.hist(posterior);"
   ]
  },
  {
   "cell_type": "markdown",
   "id": "eb05a0b0",
   "metadata": {},
   "source": [
    "Produce a set of descriptive statistics for the posterior distribution.\n",
    "\n"
   ]
  },
  {
   "cell_type": "code",
   "execution_count": 94,
   "id": "c9e4344d",
   "metadata": {},
   "outputs": [],
   "source": [
    "q5, med, q95 =np.round(np.quantile(posterior, [0.05,0.5,0.95]),2)\n",
    "vals,counts=np.unique(np.round(posterior,2),return_counts=True)\n",
    "mode_value=vals[np.argwhere(counts == np.max(counts)).flatten()]"
   ]
  },
  {
   "cell_type": "markdown",
   "id": "26a52f03",
   "metadata": {},
   "source": [
    "What is the 90% credible interval range?\n",
    "\n"
   ]
  },
  {
   "cell_type": "code",
   "execution_count": 95,
   "id": "12192b5b",
   "metadata": {
    "scrolled": true
   },
   "outputs": [
    {
     "name": "stdout",
     "output_type": "stream",
     "text": [
      "Q5:0.09- med:0.14- Q95:0.2\n"
     ]
    }
   ],
   "source": [
    "print(f'Q5:{q5}- med:{med}- Q95:{q95}')"
   ]
  },
  {
   "cell_type": "markdown",
   "id": "8317f151",
   "metadata": {},
   "source": [
    "What is the Maximum Likelihood Estimate?\n",
    "\n"
   ]
  },
  {
   "cell_type": "code",
   "execution_count": 87,
   "id": "2bf9cbf2",
   "metadata": {},
   "outputs": [
    {
     "name": "stdout",
     "output_type": "stream",
     "text": [
      "MLE: [0.13]\n"
     ]
    }
   ],
   "source": [
    "print(f'MLE: {mode_value}')"
   ]
  },
  {
   "cell_type": "code",
   "execution_count": null,
   "id": "b239f3c1",
   "metadata": {},
   "outputs": [],
   "source": []
  }
 ],
 "metadata": {
  "kernelspec": {
   "display_name": "Python 3",
   "language": "python",
   "name": "python3"
  },
  "language_info": {
   "codemirror_mode": {
    "name": "ipython",
    "version": 3
   },
   "file_extension": ".py",
   "mimetype": "text/x-python",
   "name": "python",
   "nbconvert_exporter": "python",
   "pygments_lexer": "ipython3",
   "version": "3.9.12"
  }
 },
 "nbformat": 4,
 "nbformat_minor": 5
}
