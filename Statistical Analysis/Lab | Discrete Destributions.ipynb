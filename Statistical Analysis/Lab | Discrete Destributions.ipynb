{
 "cells": [
  {
   "cell_type": "markdown",
   "id": "0ac1477b",
   "metadata": {},
   "source": [
    "Before your start:\n",
    "Read the README.md file\n",
    "Comment as much as you can and use the resources (README.md file)\n",
    "Happy learning!\n",
    "\n",
    "Notes:\n",
    "\n",
    "Solve the questions with python.\n",
    "\n",
    "Round the final answer to three decimal places.\n",
    "\n",
    "Bernoulli's Distribution\n",
    "In a basket containing 100 fruits, there are 60 apples and 40 oranges.\n",
    "\n",
    "A fruit is picked randomly from the basket.\n",
    "\n",
    "What is the probability that the fruit is apple?\n",
    "What is the probability that it is an orange?"
   ]
  },
  {
   "cell_type": "code",
   "execution_count": 3,
   "id": "135d11c9",
   "metadata": {},
   "outputs": [],
   "source": [
    "p= 60/100\n",
    "q=40/100"
   ]
  },
  {
   "cell_type": "code",
   "execution_count": 2,
   "id": "95f29513",
   "metadata": {},
   "outputs": [
    {
     "name": "stdout",
     "output_type": "stream",
     "text": [
      "0.6\n"
     ]
    }
   ],
   "source": [
    "print(p)"
   ]
  },
  {
   "cell_type": "code",
   "execution_count": 3,
   "id": "38e07f0d",
   "metadata": {},
   "outputs": [
    {
     "name": "stdout",
     "output_type": "stream",
     "text": [
      "0.4\n"
     ]
    }
   ],
   "source": [
    "print(q)"
   ]
  },
  {
   "cell_type": "markdown",
   "id": "7bb5c099",
   "metadata": {},
   "source": [
    "Now we take a random sample of 20 fruits from the basket. After each fruit is taken, a new fruit of the same type is replaced in the basket. Therefore, every time we are taking 1 fruit from 100 fruits.\n",
    "\n",
    "What is the probability that the first 5 fruits are all apples?\n",
    "\n",
    "What is the probability that the first 5 fruits are all apples and the next 15 fruits are all oranges?\n",
    "\n",
    "You can include the p and q probabilities you previous calculated in your solution."
   ]
  },
  {
   "cell_type": "code",
   "execution_count": 41,
   "id": "113e8d22",
   "metadata": {},
   "outputs": [],
   "source": [
    "\n",
    "import matplotlib.pyplot as plt\n",
    "from scipy.stats import bernoulli\n",
    "from scipy import stats\n",
    "from scipy.stats import binom\n",
    "from scipy.special import comb"
   ]
  },
  {
   "cell_type": "code",
   "execution_count": 4,
   "id": "2d2ce71a",
   "metadata": {},
   "outputs": [
    {
     "name": "stdout",
     "output_type": "stream",
     "text": [
      "probability of first 5 beign appleas is, 0.078\n",
      "probability of first 5 beign appleas and the rest being oranges is, 8.349416423424006e-08\n"
     ]
    }
   ],
   "source": [
    "apple5=p**5\n",
    "print('probability of first 5 beign appleas is,', round(apple5,3))\n",
    "\n",
    "orange5=apple5*q**15\n",
    "print('probability of first 5 beign appleas and the rest being oranges is,', orange5)"
   ]
  },
  {
   "cell_type": "code",
   "execution_count": 16,
   "id": "9dbcc0dc",
   "metadata": {},
   "outputs": [
    {
     "data": {
      "text/plain": [
       "nan"
      ]
     },
     "execution_count": 16,
     "metadata": {},
     "output_type": "execute_result"
    }
   ],
   "source": [
    "bernoulli.cdf(100, 20, p)"
   ]
  },
  {
   "cell_type": "markdown",
   "id": "2d9f318c",
   "metadata": {},
   "source": [
    "Binomial Distribution\n",
    "Similar to the above problem, this time again we randomly sample 20 fruits.\n",
    "\n",
    "What is the probability that this time the sample contains 5 apples and 15 oranges?\n",
    "\n",
    "Please note that this time the order of the fruits being picked does not matter."
   ]
  },
  {
   "cell_type": "code",
   "execution_count": 16,
   "id": "caee4e27",
   "metadata": {},
   "outputs": [
    {
     "data": {
      "text/plain": [
       "0.0012944935222876579"
      ]
     },
     "execution_count": 16,
     "metadata": {},
     "output_type": "execute_result"
    }
   ],
   "source": [
    "(comb(20,5))*(.6**5)*(.4**15)"
   ]
  },
  {
   "cell_type": "code",
   "execution_count": 13,
   "id": "e885d309",
   "metadata": {},
   "outputs": [
    {
     "name": "stdout",
     "output_type": "stream",
     "text": [
      "0.0012944935222876583\n",
      "0.0012944935222876583\n"
     ]
    }
   ],
   "source": [
    "n=20\n",
    "binomiala = binom(n,p)\n",
    "print(binomiala.pmf(5))\n",
    "\n",
    "binomialo = binom(n,q)\n",
    "print(binomialo.pmf(15))\n"
   ]
  },
  {
   "cell_type": "code",
   "execution_count": 14,
   "id": "3ec94a5e",
   "metadata": {},
   "outputs": [
    {
     "name": "stdout",
     "output_type": "stream",
     "text": [
      "1.675713479244708e-06\n"
     ]
    }
   ],
   "source": [
    "print(binomiala.pmf(5)*binomialo.pmf(15))"
   ]
  },
  {
   "cell_type": "markdown",
   "id": "5bcf7fda",
   "metadata": {},
   "source": [
    "In the lesson we also discussed CDF (cumulative distribution function). In the context of the above problem, what is the probability that less than 5 fruits picked are apples?\n",
    "\n",
    "Write the formula and calculate the probability below."
   ]
  },
  {
   "cell_type": "code",
   "execution_count": 20,
   "id": "a34623c9",
   "metadata": {},
   "outputs": [],
   "source": [
    "fails=(binom.pmf(16,20,(.4)))+(binom.pmf(17,20,(.4)))+(binom.pmf(18,20,(.4)))+(binom.pmf(19,20,(.4)))+(binom.pmf(20,20,(.4)))"
   ]
  },
  {
   "cell_type": "code",
   "execution_count": 21,
   "id": "5dcd6c96",
   "metadata": {},
   "outputs": [
    {
     "data": {
      "text/plain": [
       "0.0003170311211686302"
      ]
     },
     "execution_count": 21,
     "metadata": {},
     "output_type": "execute_result"
    }
   ],
   "source": [
    "fails"
   ]
  },
  {
   "cell_type": "markdown",
   "id": "5e7f965c",
   "metadata": {},
   "source": [
    "Poisson Distribution\n",
    "In this challenge you are required to use the Math library in python to solve the problems.\n",
    "\n",
    "In the UEFA champions league tournament, the average number of goals scored in a match is 2.3.\n",
    "\n",
    "What is the probability that the number of goals scored in a match is 5?\n",
    "\n",
    "Hint: Use the exp() in the math library\n",
    "\n",
    "And to calculate the factorial, you can use the following code:\n",
    "\n",
    "import math\n",
    "math.factorial(n) # n is the number you want to find the factorial of"
   ]
  },
  {
   "cell_type": "code",
   "execution_count": 22,
   "id": "ad053915",
   "metadata": {},
   "outputs": [],
   "source": [
    "import matplotlib\n",
    "%matplotlub inline"
   ]
  },
  {
   "cell_type": "code",
   "execution_count": 31,
   "id": "6ce553a3",
   "metadata": {},
   "outputs": [
    {
     "data": {
      "text/plain": [
       "array([1.09951163e-08, 3.40848605e-07, 5.04126081e-06, 4.73449707e-05,\n",
       "       3.17031121e-04, 1.61152464e-03, 6.46587535e-03, 2.10289275e-02,\n",
       "       5.65263670e-02, 1.27521246e-01, 2.44662797e-01, 4.04401275e-01,\n",
       "       5.84107062e-01, 7.49989328e-01, 8.74401027e-01, 9.49048047e-01,\n",
       "       9.84038837e-01, 9.96388528e-01, 9.99475951e-01, 9.99963438e-01])"
      ]
     },
     "execution_count": 31,
     "metadata": {},
     "output_type": "execute_result"
    }
   ],
   "source": [
    "binom.cdf(x,20,.6)"
   ]
  },
  {
   "cell_type": "markdown",
   "id": "2489d6aa",
   "metadata": {},
   "source": [
    "Draw a poisson probability distribution plot for the number of goals to be between 0 to 10."
   ]
  },
  {
   "cell_type": "code",
   "execution_count": 30,
   "id": "ee0c3856",
   "metadata": {},
   "outputs": [
    {
     "data": {
      "text/plain": [
       "range(0, 20)"
      ]
     },
     "execution_count": 30,
     "metadata": {},
     "output_type": "execute_result"
    }
   ],
   "source": [
    "x=range(0,20)\n",
    "x"
   ]
  },
  {
   "cell_type": "code",
   "execution_count": 35,
   "id": "0891c79b",
   "metadata": {},
   "outputs": [
    {
     "data": {
      "text/plain": [
       "[<matplotlib.lines.Line2D at 0x7f81997dbb20>]"
      ]
     },
     "execution_count": 35,
     "metadata": {},
     "output_type": "execute_result"
    },
    {
     "data": {
      "image/png": "[encoded data removed]",
      "text/plain": [
       "<Figure size 432x288 with 1 Axes>"
      ]
     },
     "metadata": {
      "needs_background": "light"
     },
     "output_type": "display_data"
    }
   ],
   "source": [
    "\n",
    "plt.plot(ran,binom.cdf(x,20,.6), 'o')"
   ]
  },
  {
   "cell_type": "markdown",
   "id": "cd41ab74",
   "metadata": {},
   "source": [
    "Poisson Distribution\n",
    "In this challenge you are required to use the Math library in python to solve the problems.\n",
    "\n",
    "In the UEFA champions league tournament, the average number of goals scored in a match is 2.3.\n",
    "\n",
    "What is the probability that the number of goals scored in a match is 5?\n",
    "\n",
    "Hint: Use the exp() in the math library\n",
    "\n",
    "And to calculate the factorial, you can use the following code:"
   ]
  },
  {
   "cell_type": "code",
   "execution_count": 48,
   "id": "cd3add8c",
   "metadata": {},
   "outputs": [
    {
     "data": {
      "text/plain": [
       "20.085536923187668"
      ]
     },
     "execution_count": 48,
     "metadata": {},
     "output_type": "execute_result"
    }
   ],
   "source": [
    "import math\n",
    "math.exp(3)"
   ]
  },
  {
   "cell_type": "code",
   "execution_count": 49,
   "id": "563183eb",
   "metadata": {},
   "outputs": [],
   "source": [
    "from scipy.stats import poisson\n",
    "\n",
    "\n"
   ]
  },
  {
   "cell_type": "code",
   "execution_count": 51,
   "id": "6d922715",
   "metadata": {},
   "outputs": [
    {
     "data": {
      "text/plain": [
       "0.053775025581946814"
      ]
     },
     "execution_count": 51,
     "metadata": {},
     "output_type": "execute_result"
    }
   ],
   "source": [
    "poisson.pmf(5,2.3)"
   ]
  },
  {
   "cell_type": "code",
   "execution_count": 53,
   "id": "a86fee35",
   "metadata": {},
   "outputs": [
    {
     "data": {
      "text/plain": [
       "[<matplotlib.lines.Line2D at 0x7f8199a1bd90>]"
      ]
     },
     "execution_count": 53,
     "metadata": {},
     "output_type": "execute_result"
    },
    {
     "data": {
      "image/png": "[encoded data removed]",
      "text/plain": [
       "<Figure size 432x288 with 1 Axes>"
      ]
     },
     "metadata": {
      "needs_background": "light"
     },
     "output_type": "display_data"
    }
   ],
   "source": [
    "x=range(0,10)\n",
    "plt.plot(x,poisson.pmf(x,2.3),'o')"
   ]
  },
  {
   "cell_type": "code",
   "execution_count": null,
   "id": "38157d1a",
   "metadata": {},
   "outputs": [],
   "source": []
  }
 ],
 "metadata": {
  "kernelspec": {
   "display_name": "Python 3 (ipykernel)",
   "language": "python",
   "name": "python3"
  },
  "language_info": {
   "codemirror_mode": {
    "name": "ipython",
    "version": 3
   },
   "file_extension": ".py",
   "mimetype": "text/x-python",
   "name": "python",
   "nbconvert_exporter": "python",
   "pygments_lexer": "ipython3",
   "version": "3.9.12"
  }
 },
 "nbformat": 4,
 "nbformat_minor": 5
}
